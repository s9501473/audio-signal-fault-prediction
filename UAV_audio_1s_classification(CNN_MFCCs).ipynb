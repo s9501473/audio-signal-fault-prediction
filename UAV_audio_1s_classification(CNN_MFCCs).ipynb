{
 "cells": [
  {
   "cell_type": "markdown",
   "id": "33fcd563",
   "metadata": {
    "papermill": {
     "duration": 0.007267,
     "end_time": "2024-03-02T10:33:48.297675",
     "exception": false,
     "start_time": "2024-03-02T10:33:48.290408",
     "status": "completed"
    },
    "tags": []
   },
   "source": [
    "## Importing the libraries"
   ]
  },
  {
   "cell_type": "code",
   "execution_count": 1,
   "id": "b0abd735",
   "metadata": {
    "execution": {
     "iopub.execute_input": "2024-03-02T10:33:48.313358Z",
     "iopub.status.busy": "2024-03-02T10:33:48.312946Z",
     "iopub.status.idle": "2024-03-02T10:34:04.688554Z",
     "shell.execute_reply": "2024-03-02T10:34:04.687312Z"
    },
    "papermill": {
     "duration": 16.387067,
     "end_time": "2024-03-02T10:34:04.691680",
     "exception": false,
     "start_time": "2024-03-02T10:33:48.304613",
     "status": "completed"
    },
    "tags": []
   },
   "outputs": [],
   "source": [
    "import numpy as np\n",
    "import pandas as pd\n",
    "import librosa\n",
    "import os\n",
    "import seaborn as sns\n",
    "import matplotlib.pyplot as plt\n",
    "from sklearn.metrics import confusion_matrix\n",
    "from sklearn.preprocessing import LabelEncoder\n",
    "from keras.utils import to_categorical\n",
    "from sklearn.model_selection import train_test_split\n",
    "from keras.models import Sequential\n",
    "from keras.layers import Conv2D, MaxPooling2D, Flatten, Dense, Dropout\n",
    "from keras.callbacks import ModelCheckpoint\n",
    "from keras.optimizers import Adam"
   ]
  },
  {
   "cell_type": "markdown",
   "id": "348c7cec",
   "metadata": {
    "papermill": {
     "duration": 0.006606,
     "end_time": "2024-03-02T10:34:04.705475",
     "exception": false,
     "start_time": "2024-03-02T10:34:04.698869",
     "status": "completed"
    },
    "tags": []
   },
   "source": [
    "## 加載音頻訊號"
   ]
  },
  {
   "cell_type": "code",
   "execution_count": 2,
   "id": "4f113d45",
   "metadata": {
    "execution": {
     "iopub.execute_input": "2024-03-02T10:34:04.723830Z",
     "iopub.status.busy": "2024-03-02T10:34:04.722797Z",
     "iopub.status.idle": "2024-03-02T10:34:04.727525Z",
     "shell.execute_reply": "2024-03-02T10:34:04.726628Z"
    },
    "papermill": {
     "duration": 0.017295,
     "end_time": "2024-03-02T10:34:04.729668",
     "exception": false,
     "start_time": "2024-03-02T10:34:04.712373",
     "status": "completed"
    },
    "tags": []
   },
   "outputs": [],
   "source": [
    "data_path = '/kaggle/input/recoding-data/UAV Recordings 1s/UAV Recordings 1s'"
   ]
  },
  {
   "cell_type": "markdown",
   "id": "34ea1f5a",
   "metadata": {
    "papermill": {
     "duration": 0.006572,
     "end_time": "2024-03-02T10:34:04.743190",
     "exception": false,
     "start_time": "2024-03-02T10:34:04.736618",
     "status": "completed"
    },
    "tags": []
   },
   "source": [
    "## 音頻訊號進行MFCCs特徵提取"
   ]
  },
  {
   "cell_type": "code",
   "execution_count": 3,
   "id": "9f85c679",
   "metadata": {
    "_cell_guid": "b1076dfc-b9ad-4769-8c92-a6c4dae69d19",
    "_uuid": "8f2839f25d086af736a60e9eeb907d3b93b6e0e5",
    "execution": {
     "iopub.execute_input": "2024-03-02T10:34:04.759219Z",
     "iopub.status.busy": "2024-03-02T10:34:04.758480Z",
     "iopub.status.idle": "2024-03-02T10:37:32.626144Z",
     "shell.execute_reply": "2024-03-02T10:37:32.624300Z"
    },
    "papermill": {
     "duration": 207.881666,
     "end_time": "2024-03-02T10:37:32.631570",
     "exception": false,
     "start_time": "2024-03-02T10:34:04.749904",
     "status": "completed"
    },
    "tags": []
   },
   "outputs": [],
   "source": [
    "def load_data(data_dir):\n",
    "    datasets = []\n",
    "    labels = []\n",
    "    categories = os.listdir(data_dir)\n",
    "    for index, folder in enumerate(categories):\n",
    "        for filename in os.listdir(data_dir+\"/\"+folder):\n",
    "            data, sampling_rate = librosa.load(data_dir+\"/\"+folder+\"/\"+filename)\n",
    "            mfccs_features = librosa.feature.mfcc(y=data, sr=sampling_rate, n_mfcc=80)\n",
    "            mfccs_scaled_features = np.mean(mfccs_features.T,axis=0)\n",
    "            datasets.append(np.array(mfccs_scaled_features))\n",
    "            labels.append(categories[index])\n",
    "    return np.array(datasets), np.array(labels)\n",
    "\n",
    "datasets, labels = load_data(data_path)"
   ]
  },
  {
   "cell_type": "code",
   "execution_count": 4,
   "id": "bee630c1",
   "metadata": {
    "execution": {
     "iopub.execute_input": "2024-03-02T10:37:32.666093Z",
     "iopub.status.busy": "2024-03-02T10:37:32.664449Z",
     "iopub.status.idle": "2024-03-02T10:37:32.685827Z",
     "shell.execute_reply": "2024-03-02T10:37:32.684295Z"
    },
    "papermill": {
     "duration": 0.043126,
     "end_time": "2024-03-02T10:37:32.690757",
     "exception": false,
     "start_time": "2024-03-02T10:37:32.647631",
     "status": "completed"
    },
    "tags": []
   },
   "outputs": [],
   "source": [
    "datasets = datasets.reshape(datasets.shape[0],datasets.shape[1], 1, 1).astype('float32')\n",
    "\n",
    "labelencoder = LabelEncoder()\n",
    "\n",
    "labelsOneHot = to_categorical(labelencoder.fit_transform(labels))"
   ]
  },
  {
   "cell_type": "markdown",
   "id": "f440e71e",
   "metadata": {
    "papermill": {
     "duration": 0.013759,
     "end_time": "2024-03-02T10:37:32.719070",
     "exception": false,
     "start_time": "2024-03-02T10:37:32.705311",
     "status": "completed"
    },
    "tags": []
   },
   "source": [
    "## 切分成訓練資料、測試資料，8:2的比例"
   ]
  },
  {
   "cell_type": "code",
   "execution_count": 5,
   "id": "2530cf54",
   "metadata": {
    "execution": {
     "iopub.execute_input": "2024-03-02T10:37:32.739080Z",
     "iopub.status.busy": "2024-03-02T10:37:32.738657Z",
     "iopub.status.idle": "2024-03-02T10:37:32.811014Z",
     "shell.execute_reply": "2024-03-02T10:37:32.810002Z"
    },
    "papermill": {
     "duration": 0.084003,
     "end_time": "2024-03-02T10:37:32.814570",
     "exception": false,
     "start_time": "2024-03-02T10:37:32.730567",
     "status": "completed"
    },
    "tags": []
   },
   "outputs": [
    {
     "name": "stdout",
     "output_type": "stream",
     "text": [
      "----------Train-------------\n",
      "(4512, 80, 1, 1)\n",
      "----------Test--------------\n",
      "(1128, 80, 1, 1)\n"
     ]
    }
   ],
   "source": [
    "X_train, X_test, y_train, y_test = train_test_split(datasets, labelsOneHot, test_size = 0.2, stratify = labelsOneHot, random_state = 3)\n",
    "\n",
    "print(\"----------Train-------------\")\n",
    "print(X_train.shape)\n",
    "\n",
    "print(\"----------Test--------------\")\n",
    "print(X_test.shape)"
   ]
  },
  {
   "cell_type": "markdown",
   "id": "77b58855",
   "metadata": {
    "papermill": {
     "duration": 0.006674,
     "end_time": "2024-03-02T10:37:32.828195",
     "exception": false,
     "start_time": "2024-03-02T10:37:32.821521",
     "status": "completed"
    },
    "tags": []
   },
   "source": [
    "## 類別數量"
   ]
  },
  {
   "cell_type": "code",
   "execution_count": 6,
   "id": "abc7c840",
   "metadata": {
    "execution": {
     "iopub.execute_input": "2024-03-02T10:37:32.843383Z",
     "iopub.status.busy": "2024-03-02T10:37:32.842976Z",
     "iopub.status.idle": "2024-03-02T10:37:32.849836Z",
     "shell.execute_reply": "2024-03-02T10:37:32.848916Z"
    },
    "papermill": {
     "duration": 0.017267,
     "end_time": "2024-03-02T10:37:32.852287",
     "exception": false,
     "start_time": "2024-03-02T10:37:32.835020",
     "status": "completed"
    },
    "tags": []
   },
   "outputs": [],
   "source": [
    "num_classes = len(np.unique(labels))"
   ]
  },
  {
   "cell_type": "markdown",
   "id": "3e841008",
   "metadata": {
    "papermill": {
     "duration": 0.006778,
     "end_time": "2024-03-02T10:37:32.866213",
     "exception": false,
     "start_time": "2024-03-02T10:37:32.859435",
     "status": "completed"
    },
    "tags": []
   },
   "source": [
    "## 建立CNN模型"
   ]
  },
  {
   "cell_type": "code",
   "execution_count": 7,
   "id": "1e733123",
   "metadata": {
    "execution": {
     "iopub.execute_input": "2024-03-02T10:37:32.883361Z",
     "iopub.status.busy": "2024-03-02T10:37:32.882976Z",
     "iopub.status.idle": "2024-03-02T10:37:33.141655Z",
     "shell.execute_reply": "2024-03-02T10:37:33.139644Z"
    },
    "papermill": {
     "duration": 0.270029,
     "end_time": "2024-03-02T10:37:33.144701",
     "exception": false,
     "start_time": "2024-03-02T10:37:32.874672",
     "status": "completed"
    },
    "tags": []
   },
   "outputs": [],
   "source": [
    "# 建立一個Sequential模型\n",
    "model = Sequential()\n",
    "\n",
    "# 第一層卷積層，32個3x3的過濾器\n",
    "model.add(Conv2D(32, kernel_size=(5, 5), padding='same',activation='relu', input_shape=(datasets.shape[1],1,1)))\n",
    "\n",
    "# 池化層，池化窗口大小為2x2\n",
    "model.add(MaxPooling2D(pool_size=(2,2), padding='same'))\n",
    "\n",
    "# 第二層卷積層，128個3x3的過濾器\n",
    "model.add(Conv2D(64, kernel_size=(5, 5), padding='same', activation='relu'))\n",
    "\n",
    "# 池化層，池化窗口大小為2x2\n",
    "model.add(MaxPooling2D(pool_size=(2,2), padding='same'))\n",
    "\n",
    "# 第三層卷積層，256個3x3的過濾器\n",
    "model.add(Conv2D(256, kernel_size=(5, 5), padding='same', activation='relu'))\n",
    "\n",
    "# 池化層，池化窗口大小為2x2\n",
    "model.add(MaxPooling2D(pool_size=(2,2), padding='same'))\n",
    "\n",
    "# Dropout層，隨機丟棄25%的神經元\n",
    "model.add(Dropout(0.25))\n",
    "\n",
    "# Flatten層，將多維輸入一維化，常用在從卷積層到全連接層的過渡\n",
    "model.add(Flatten())\n",
    "\n",
    "# 全連接層，128個輸出單元\n",
    "model.add(Dense(256, activation='relu'))\n",
    "\n",
    "# 輸出層，有5個類別，所以輸出層的輸出維度為5\n",
    "model.add(Dense(num_classes, activation='softmax'))"
   ]
  },
  {
   "cell_type": "code",
   "execution_count": 8,
   "id": "3d679105",
   "metadata": {
    "execution": {
     "iopub.execute_input": "2024-03-02T10:37:33.162333Z",
     "iopub.status.busy": "2024-03-02T10:37:33.160580Z",
     "iopub.status.idle": "2024-03-02T10:37:33.219245Z",
     "shell.execute_reply": "2024-03-02T10:37:33.218388Z"
    },
    "papermill": {
     "duration": 0.069588,
     "end_time": "2024-03-02T10:37:33.221507",
     "exception": false,
     "start_time": "2024-03-02T10:37:33.151919",
     "status": "completed"
    },
    "tags": []
   },
   "outputs": [
    {
     "name": "stdout",
     "output_type": "stream",
     "text": [
      "Model: \"sequential\"\n",
      "_________________________________________________________________\n",
      " Layer (type)                Output Shape              Param #   \n",
      "=================================================================\n",
      " conv2d (Conv2D)             (None, 80, 1, 32)         832       \n",
      "                                                                 \n",
      " max_pooling2d (MaxPooling2  (None, 40, 1, 32)         0         \n",
      " D)                                                              \n",
      "                                                                 \n",
      " conv2d_1 (Conv2D)           (None, 40, 1, 64)         51264     \n",
      "                                                                 \n",
      " max_pooling2d_1 (MaxPoolin  (None, 20, 1, 64)         0         \n",
      " g2D)                                                            \n",
      "                                                                 \n",
      " conv2d_2 (Conv2D)           (None, 20, 1, 256)        409856    \n",
      "                                                                 \n",
      " max_pooling2d_2 (MaxPoolin  (None, 10, 1, 256)        0         \n",
      " g2D)                                                            \n",
      "                                                                 \n",
      " dropout (Dropout)           (None, 10, 1, 256)        0         \n",
      "                                                                 \n",
      " flatten (Flatten)           (None, 2560)              0         \n",
      "                                                                 \n",
      " dense (Dense)               (None, 256)               655616    \n",
      "                                                                 \n",
      " dense_1 (Dense)             (None, 5)                 1285      \n",
      "                                                                 \n",
      "=================================================================\n",
      "Total params: 1118853 (4.27 MB)\n",
      "Trainable params: 1118853 (4.27 MB)\n",
      "Non-trainable params: 0 (0.00 Byte)\n",
      "_________________________________________________________________\n"
     ]
    }
   ],
   "source": [
    "# 選擇損失函數、優化方法及成效衡量方式\n",
    "model.compile(optimizer='adam', loss='categorical_crossentropy', metrics=['accuracy'])\n",
    "model.summary()"
   ]
  },
  {
   "cell_type": "markdown",
   "id": "07d5007b",
   "metadata": {
    "papermill": {
     "duration": 0.009465,
     "end_time": "2024-03-02T10:37:33.240748",
     "exception": false,
     "start_time": "2024-03-02T10:37:33.231283",
     "status": "completed"
    },
    "tags": []
   },
   "source": [
    "## 訓練模型"
   ]
  },
  {
   "cell_type": "code",
   "execution_count": 9,
   "id": "d36597f6",
   "metadata": {
    "execution": {
     "iopub.execute_input": "2024-03-02T10:37:33.262089Z",
     "iopub.status.busy": "2024-03-02T10:37:33.261642Z",
     "iopub.status.idle": "2024-03-02T10:44:56.543826Z",
     "shell.execute_reply": "2024-03-02T10:44:56.542540Z"
    },
    "papermill": {
     "duration": 443.296274,
     "end_time": "2024-03-02T10:44:56.546711",
     "exception": false,
     "start_time": "2024-03-02T10:37:33.250437",
     "status": "completed"
    },
    "tags": []
   },
   "outputs": [
    {
     "name": "stdout",
     "output_type": "stream",
     "text": [
      "Epoch 1/100\n",
      "37/37 - 6s - loss: 1.2993 - accuracy: 0.4547 - val_loss: 0.9569 - val_accuracy: 0.6257 - 6s/epoch - 160ms/step\n",
      "Epoch 2/100\n",
      "37/37 - 4s - loss: 0.8473 - accuracy: 0.6548 - val_loss: 0.7543 - val_accuracy: 0.7032 - 4s/epoch - 109ms/step\n",
      "Epoch 3/100\n",
      "37/37 - 4s - loss: 0.7006 - accuracy: 0.7315 - val_loss: 0.6677 - val_accuracy: 0.7652 - 4s/epoch - 108ms/step\n",
      "Epoch 4/100\n",
      "37/37 - 4s - loss: 0.5882 - accuracy: 0.7861 - val_loss: 0.5841 - val_accuracy: 0.7652 - 4s/epoch - 108ms/step\n",
      "Epoch 5/100\n",
      "37/37 - 4s - loss: 0.4958 - accuracy: 0.8124 - val_loss: 0.4772 - val_accuracy: 0.8173 - 4s/epoch - 108ms/step\n",
      "Epoch 6/100\n",
      "37/37 - 4s - loss: 0.4213 - accuracy: 0.8429 - val_loss: 0.4937 - val_accuracy: 0.8162 - 4s/epoch - 109ms/step\n",
      "Epoch 7/100\n",
      "37/37 - 4s - loss: 0.4114 - accuracy: 0.8520 - val_loss: 0.3635 - val_accuracy: 0.8660 - 4s/epoch - 121ms/step\n",
      "Epoch 8/100\n",
      "37/37 - 4s - loss: 0.3221 - accuracy: 0.8803 - val_loss: 0.3507 - val_accuracy: 0.8660 - 4s/epoch - 108ms/step\n",
      "Epoch 9/100\n",
      "37/37 - 4s - loss: 0.3001 - accuracy: 0.8911 - val_loss: 0.3076 - val_accuracy: 0.8893 - 4s/epoch - 108ms/step\n",
      "Epoch 10/100\n",
      "37/37 - 4s - loss: 0.2527 - accuracy: 0.9044 - val_loss: 0.2846 - val_accuracy: 0.9014 - 4s/epoch - 107ms/step\n",
      "Epoch 11/100\n",
      "37/37 - 4s - loss: 0.2265 - accuracy: 0.9219 - val_loss: 0.3228 - val_accuracy: 0.8804 - 4s/epoch - 108ms/step\n",
      "Epoch 12/100\n",
      "37/37 - 4s - loss: 0.2662 - accuracy: 0.8978 - val_loss: 0.3098 - val_accuracy: 0.8837 - 4s/epoch - 110ms/step\n",
      "Epoch 13/100\n",
      "37/37 - 4s - loss: 0.1861 - accuracy: 0.9318 - val_loss: 0.2911 - val_accuracy: 0.8915 - 4s/epoch - 107ms/step\n",
      "Epoch 14/100\n",
      "37/37 - 4s - loss: 0.1803 - accuracy: 0.9352 - val_loss: 0.2940 - val_accuracy: 0.8992 - 4s/epoch - 109ms/step\n",
      "Epoch 15/100\n",
      "37/37 - 4s - loss: 0.1908 - accuracy: 0.9302 - val_loss: 0.2543 - val_accuracy: 0.9147 - 4s/epoch - 119ms/step\n",
      "Epoch 16/100\n",
      "37/37 - 4s - loss: 0.1588 - accuracy: 0.9426 - val_loss: 0.2864 - val_accuracy: 0.9003 - 4s/epoch - 106ms/step\n",
      "Epoch 17/100\n",
      "37/37 - 4s - loss: 0.1311 - accuracy: 0.9587 - val_loss: 0.2830 - val_accuracy: 0.8882 - 4s/epoch - 108ms/step\n",
      "Epoch 18/100\n",
      "37/37 - 4s - loss: 0.1043 - accuracy: 0.9626 - val_loss: 0.2159 - val_accuracy: 0.9247 - 4s/epoch - 107ms/step\n",
      "Epoch 19/100\n",
      "37/37 - 4s - loss: 0.0928 - accuracy: 0.9667 - val_loss: 0.2240 - val_accuracy: 0.9225 - 4s/epoch - 109ms/step\n",
      "Epoch 20/100\n",
      "37/37 - 4s - loss: 0.1404 - accuracy: 0.9501 - val_loss: 0.2406 - val_accuracy: 0.9192 - 4s/epoch - 108ms/step\n",
      "Epoch 21/100\n",
      "37/37 - 4s - loss: 0.1042 - accuracy: 0.9634 - val_loss: 0.2877 - val_accuracy: 0.9059 - 4s/epoch - 107ms/step\n",
      "Epoch 22/100\n",
      "37/37 - 4s - loss: 0.1093 - accuracy: 0.9640 - val_loss: 0.2525 - val_accuracy: 0.9092 - 4s/epoch - 108ms/step\n",
      "Epoch 23/100\n",
      "37/37 - 4s - loss: 0.1463 - accuracy: 0.9476 - val_loss: 0.2660 - val_accuracy: 0.8970 - 4s/epoch - 119ms/step\n",
      "Epoch 24/100\n",
      "37/37 - 4s - loss: 0.0834 - accuracy: 0.9692 - val_loss: 0.2138 - val_accuracy: 0.9169 - 4s/epoch - 108ms/step\n",
      "Epoch 25/100\n",
      "37/37 - 4s - loss: 0.0659 - accuracy: 0.9773 - val_loss: 0.2125 - val_accuracy: 0.9313 - 4s/epoch - 107ms/step\n",
      "Epoch 26/100\n",
      "37/37 - 4s - loss: 0.1127 - accuracy: 0.9601 - val_loss: 0.2280 - val_accuracy: 0.9181 - 4s/epoch - 107ms/step\n",
      "Epoch 27/100\n",
      "37/37 - 4s - loss: 0.0678 - accuracy: 0.9751 - val_loss: 0.2087 - val_accuracy: 0.9258 - 4s/epoch - 108ms/step\n",
      "Epoch 28/100\n",
      "37/37 - 4s - loss: 0.0632 - accuracy: 0.9789 - val_loss: 0.2172 - val_accuracy: 0.9358 - 4s/epoch - 107ms/step\n",
      "Epoch 29/100\n",
      "37/37 - 4s - loss: 0.0495 - accuracy: 0.9848 - val_loss: 0.2093 - val_accuracy: 0.9369 - 4s/epoch - 108ms/step\n",
      "Epoch 30/100\n",
      "37/37 - 4s - loss: 0.0368 - accuracy: 0.9861 - val_loss: 0.2158 - val_accuracy: 0.9336 - 4s/epoch - 107ms/step\n",
      "Epoch 31/100\n",
      "37/37 - 4s - loss: 0.0274 - accuracy: 0.9928 - val_loss: 0.1964 - val_accuracy: 0.9446 - 4s/epoch - 119ms/step\n",
      "Epoch 32/100\n",
      "37/37 - 4s - loss: 0.0214 - accuracy: 0.9945 - val_loss: 0.2162 - val_accuracy: 0.9402 - 4s/epoch - 108ms/step\n",
      "Epoch 33/100\n",
      "37/37 - 4s - loss: 0.0205 - accuracy: 0.9936 - val_loss: 0.2733 - val_accuracy: 0.9203 - 4s/epoch - 107ms/step\n",
      "Epoch 34/100\n",
      "37/37 - 4s - loss: 0.0238 - accuracy: 0.9931 - val_loss: 0.2169 - val_accuracy: 0.9413 - 4s/epoch - 108ms/step\n",
      "Epoch 35/100\n",
      "37/37 - 4s - loss: 0.0153 - accuracy: 0.9964 - val_loss: 0.2234 - val_accuracy: 0.9380 - 4s/epoch - 107ms/step\n",
      "Epoch 36/100\n",
      "37/37 - 4s - loss: 0.0310 - accuracy: 0.9878 - val_loss: 0.2268 - val_accuracy: 0.9336 - 4s/epoch - 107ms/step\n",
      "Epoch 37/100\n",
      "37/37 - 4s - loss: 0.0302 - accuracy: 0.9889 - val_loss: 0.3191 - val_accuracy: 0.9136 - 4s/epoch - 108ms/step\n",
      "Epoch 38/100\n",
      "37/37 - 4s - loss: 0.0313 - accuracy: 0.9884 - val_loss: 0.2166 - val_accuracy: 0.9391 - 4s/epoch - 107ms/step\n",
      "Epoch 39/100\n",
      "37/37 - 4s - loss: 0.0199 - accuracy: 0.9947 - val_loss: 0.2539 - val_accuracy: 0.9269 - 4s/epoch - 121ms/step\n",
      "Epoch 40/100\n",
      "37/37 - 4s - loss: 0.0242 - accuracy: 0.9920 - val_loss: 0.2418 - val_accuracy: 0.9225 - 4s/epoch - 107ms/step\n",
      "Epoch 41/100\n",
      "37/37 - 4s - loss: 0.0215 - accuracy: 0.9933 - val_loss: 0.2289 - val_accuracy: 0.9336 - 4s/epoch - 108ms/step\n",
      "Epoch 42/100\n",
      "37/37 - 4s - loss: 0.0162 - accuracy: 0.9970 - val_loss: 0.2459 - val_accuracy: 0.9347 - 4s/epoch - 108ms/step\n",
      "Epoch 43/100\n",
      "37/37 - 4s - loss: 0.0152 - accuracy: 0.9964 - val_loss: 0.2398 - val_accuracy: 0.9280 - 4s/epoch - 107ms/step\n",
      "Epoch 44/100\n",
      "37/37 - 4s - loss: 0.0271 - accuracy: 0.9909 - val_loss: 0.2622 - val_accuracy: 0.9280 - 4s/epoch - 108ms/step\n",
      "Epoch 45/100\n",
      "37/37 - 4s - loss: 0.0290 - accuracy: 0.9900 - val_loss: 0.2185 - val_accuracy: 0.9402 - 4s/epoch - 106ms/step\n",
      "Epoch 46/100\n",
      "37/37 - 4s - loss: 0.0166 - accuracy: 0.9945 - val_loss: 0.2847 - val_accuracy: 0.9347 - 4s/epoch - 109ms/step\n",
      "Epoch 47/100\n",
      "37/37 - 4s - loss: 0.0174 - accuracy: 0.9931 - val_loss: 0.2700 - val_accuracy: 0.9280 - 4s/epoch - 120ms/step\n",
      "Epoch 48/100\n",
      "37/37 - 4s - loss: 0.0172 - accuracy: 0.9942 - val_loss: 0.2271 - val_accuracy: 0.9324 - 4s/epoch - 108ms/step\n",
      "Epoch 49/100\n",
      "37/37 - 4s - loss: 0.0146 - accuracy: 0.9956 - val_loss: 0.2476 - val_accuracy: 0.9391 - 4s/epoch - 109ms/step\n",
      "Epoch 50/100\n",
      "37/37 - 4s - loss: 0.0113 - accuracy: 0.9958 - val_loss: 0.2695 - val_accuracy: 0.9269 - 4s/epoch - 107ms/step\n",
      "Epoch 51/100\n",
      "37/37 - 4s - loss: 0.0134 - accuracy: 0.9956 - val_loss: 0.2488 - val_accuracy: 0.9391 - 4s/epoch - 112ms/step\n",
      "Epoch 52/100\n",
      "37/37 - 4s - loss: 0.0092 - accuracy: 0.9978 - val_loss: 0.2700 - val_accuracy: 0.9313 - 4s/epoch - 108ms/step\n",
      "Epoch 53/100\n",
      "37/37 - 4s - loss: 0.0315 - accuracy: 0.9884 - val_loss: 0.4090 - val_accuracy: 0.8981 - 4s/epoch - 107ms/step\n",
      "Epoch 54/100\n",
      "37/37 - 4s - loss: 0.0426 - accuracy: 0.9859 - val_loss: 0.3723 - val_accuracy: 0.9136 - 4s/epoch - 111ms/step\n",
      "Epoch 55/100\n",
      "37/37 - 4s - loss: 0.0356 - accuracy: 0.9889 - val_loss: 0.2144 - val_accuracy: 0.9446 - 4s/epoch - 120ms/step\n",
      "Epoch 56/100\n",
      "37/37 - 4s - loss: 0.0157 - accuracy: 0.9956 - val_loss: 0.2894 - val_accuracy: 0.9203 - 4s/epoch - 108ms/step\n",
      "Epoch 57/100\n",
      "37/37 - 4s - loss: 0.0346 - accuracy: 0.9889 - val_loss: 0.2733 - val_accuracy: 0.9258 - 4s/epoch - 106ms/step\n",
      "Epoch 58/100\n",
      "37/37 - 4s - loss: 0.0155 - accuracy: 0.9958 - val_loss: 0.3254 - val_accuracy: 0.9258 - 4s/epoch - 107ms/step\n",
      "Epoch 59/100\n",
      "37/37 - 4s - loss: 0.0233 - accuracy: 0.9917 - val_loss: 0.2642 - val_accuracy: 0.9369 - 4s/epoch - 108ms/step\n",
      "Epoch 60/100\n",
      "37/37 - 4s - loss: 0.0123 - accuracy: 0.9958 - val_loss: 0.2495 - val_accuracy: 0.9336 - 4s/epoch - 108ms/step\n",
      "Epoch 61/100\n",
      "37/37 - 4s - loss: 0.0119 - accuracy: 0.9956 - val_loss: 0.2781 - val_accuracy: 0.9313 - 4s/epoch - 107ms/step\n",
      "Epoch 62/100\n",
      "37/37 - 4s - loss: 0.0080 - accuracy: 0.9975 - val_loss: 0.2374 - val_accuracy: 0.9324 - 4s/epoch - 107ms/step\n",
      "Epoch 63/100\n",
      "37/37 - 4s - loss: 0.0044 - accuracy: 0.9994 - val_loss: 0.2581 - val_accuracy: 0.9358 - 4s/epoch - 120ms/step\n",
      "Epoch 64/100\n",
      "37/37 - 4s - loss: 0.0027 - accuracy: 0.9997 - val_loss: 0.2445 - val_accuracy: 0.9402 - 4s/epoch - 109ms/step\n",
      "Epoch 65/100\n",
      "37/37 - 4s - loss: 0.0049 - accuracy: 0.9986 - val_loss: 0.3058 - val_accuracy: 0.9358 - 4s/epoch - 108ms/step\n",
      "Epoch 66/100\n",
      "37/37 - 4s - loss: 0.0047 - accuracy: 0.9983 - val_loss: 0.3041 - val_accuracy: 0.9280 - 4s/epoch - 109ms/step\n",
      "Epoch 67/100\n",
      "37/37 - 4s - loss: 0.0081 - accuracy: 0.9981 - val_loss: 0.3013 - val_accuracy: 0.9313 - 4s/epoch - 107ms/step\n",
      "Epoch 68/100\n",
      "37/37 - 4s - loss: 0.0118 - accuracy: 0.9958 - val_loss: 0.3276 - val_accuracy: 0.9225 - 4s/epoch - 106ms/step\n",
      "Epoch 69/100\n",
      "37/37 - 4s - loss: 0.0295 - accuracy: 0.9906 - val_loss: 0.3003 - val_accuracy: 0.9336 - 4s/epoch - 110ms/step\n",
      "Epoch 70/100\n",
      "37/37 - 4s - loss: 0.0281 - accuracy: 0.9906 - val_loss: 0.3114 - val_accuracy: 0.9291 - 4s/epoch - 106ms/step\n",
      "Epoch 71/100\n",
      "37/37 - 4s - loss: 0.0521 - accuracy: 0.9809 - val_loss: 0.5086 - val_accuracy: 0.8893 - 4s/epoch - 119ms/step\n",
      "Epoch 72/100\n",
      "37/37 - 4s - loss: 0.0407 - accuracy: 0.9867 - val_loss: 0.3465 - val_accuracy: 0.9147 - 4s/epoch - 107ms/step\n",
      "Epoch 73/100\n",
      "37/37 - 4s - loss: 0.0201 - accuracy: 0.9928 - val_loss: 0.2808 - val_accuracy: 0.9214 - 4s/epoch - 108ms/step\n",
      "Epoch 74/100\n",
      "37/37 - 4s - loss: 0.0174 - accuracy: 0.9958 - val_loss: 0.2752 - val_accuracy: 0.9247 - 4s/epoch - 108ms/step\n",
      "Epoch 75/100\n",
      "37/37 - 4s - loss: 0.0068 - accuracy: 0.9989 - val_loss: 0.2302 - val_accuracy: 0.9413 - 4s/epoch - 107ms/step\n",
      "Epoch 76/100\n",
      "37/37 - 4s - loss: 0.0037 - accuracy: 0.9992 - val_loss: 0.2839 - val_accuracy: 0.9358 - 4s/epoch - 108ms/step\n",
      "Epoch 77/100\n",
      "37/37 - 4s - loss: 0.0038 - accuracy: 0.9989 - val_loss: 0.2542 - val_accuracy: 0.9424 - 4s/epoch - 107ms/step\n",
      "Epoch 78/100\n",
      "37/37 - 4s - loss: 0.0040 - accuracy: 0.9986 - val_loss: 0.3035 - val_accuracy: 0.9347 - 4s/epoch - 108ms/step\n",
      "Epoch 79/100\n",
      "37/37 - 4s - loss: 0.0075 - accuracy: 0.9975 - val_loss: 0.2437 - val_accuracy: 0.9324 - 4s/epoch - 121ms/step\n",
      "Epoch 80/100\n",
      "37/37 - 4s - loss: 0.0182 - accuracy: 0.9950 - val_loss: 0.3700 - val_accuracy: 0.9203 - 4s/epoch - 107ms/step\n",
      "Epoch 81/100\n",
      "37/37 - 4s - loss: 0.0401 - accuracy: 0.9856 - val_loss: 0.2789 - val_accuracy: 0.9258 - 4s/epoch - 108ms/step\n",
      "Epoch 82/100\n",
      "37/37 - 4s - loss: 0.0244 - accuracy: 0.9920 - val_loss: 0.3205 - val_accuracy: 0.9192 - 4s/epoch - 106ms/step\n",
      "Epoch 83/100\n",
      "37/37 - 4s - loss: 0.0200 - accuracy: 0.9939 - val_loss: 0.3405 - val_accuracy: 0.9313 - 4s/epoch - 110ms/step\n",
      "Epoch 84/100\n",
      "37/37 - 4s - loss: 0.0244 - accuracy: 0.9922 - val_loss: 0.3509 - val_accuracy: 0.9136 - 4s/epoch - 106ms/step\n",
      "Epoch 85/100\n",
      "37/37 - 4s - loss: 0.0084 - accuracy: 0.9964 - val_loss: 0.2916 - val_accuracy: 0.9336 - 4s/epoch - 106ms/step\n",
      "Epoch 86/100\n",
      "37/37 - 4s - loss: 0.0052 - accuracy: 0.9989 - val_loss: 0.3314 - val_accuracy: 0.9302 - 4s/epoch - 109ms/step\n",
      "Epoch 87/100\n",
      "37/37 - 4s - loss: 0.0075 - accuracy: 0.9981 - val_loss: 0.3560 - val_accuracy: 0.9181 - 4s/epoch - 118ms/step\n",
      "Epoch 88/100\n",
      "37/37 - 4s - loss: 0.0061 - accuracy: 0.9981 - val_loss: 0.3500 - val_accuracy: 0.9291 - 4s/epoch - 109ms/step\n",
      "Epoch 89/100\n",
      "37/37 - 4s - loss: 0.0873 - accuracy: 0.9709 - val_loss: 0.3840 - val_accuracy: 0.9092 - 4s/epoch - 106ms/step\n",
      "Epoch 90/100\n",
      "37/37 - 4s - loss: 0.0392 - accuracy: 0.9859 - val_loss: 0.2206 - val_accuracy: 0.9402 - 4s/epoch - 106ms/step\n",
      "Epoch 91/100\n",
      "37/37 - 4s - loss: 0.0172 - accuracy: 0.9939 - val_loss: 0.2742 - val_accuracy: 0.9302 - 4s/epoch - 109ms/step\n",
      "Epoch 92/100\n",
      "37/37 - 4s - loss: 0.0198 - accuracy: 0.9933 - val_loss: 0.2637 - val_accuracy: 0.9402 - 4s/epoch - 107ms/step\n",
      "Epoch 93/100\n",
      "37/37 - 4s - loss: 0.0119 - accuracy: 0.9950 - val_loss: 0.2722 - val_accuracy: 0.9380 - 4s/epoch - 109ms/step\n",
      "Epoch 94/100\n",
      "37/37 - 4s - loss: 0.0068 - accuracy: 0.9983 - val_loss: 0.3293 - val_accuracy: 0.9258 - 4s/epoch - 107ms/step\n",
      "Epoch 95/100\n",
      "37/37 - 4s - loss: 0.0097 - accuracy: 0.9958 - val_loss: 0.2881 - val_accuracy: 0.9258 - 4s/epoch - 119ms/step\n",
      "Epoch 96/100\n",
      "37/37 - 4s - loss: 0.0074 - accuracy: 0.9967 - val_loss: 0.3127 - val_accuracy: 0.9347 - 4s/epoch - 109ms/step\n",
      "Epoch 97/100\n",
      "37/37 - 4s - loss: 0.0155 - accuracy: 0.9956 - val_loss: 0.2609 - val_accuracy: 0.9380 - 4s/epoch - 107ms/step\n",
      "Epoch 98/100\n",
      "37/37 - 4s - loss: 0.0121 - accuracy: 0.9970 - val_loss: 0.3551 - val_accuracy: 0.9247 - 4s/epoch - 108ms/step\n",
      "Epoch 99/100\n",
      "37/37 - 4s - loss: 0.0149 - accuracy: 0.9970 - val_loss: 0.3419 - val_accuracy: 0.9203 - 4s/epoch - 109ms/step\n",
      "Epoch 100/100\n",
      "37/37 - 4s - loss: 0.0168 - accuracy: 0.9947 - val_loss: 0.5724 - val_accuracy: 0.8882 - 4s/epoch - 107ms/step\n"
     ]
    }
   ],
   "source": [
    "train_history = model.fit(X_train, y_train, validation_split=0.2, batch_size = 100, epochs = 100, verbose=2)"
   ]
  },
  {
   "cell_type": "markdown",
   "id": "50ae6d48",
   "metadata": {
    "papermill": {
     "duration": 0.028241,
     "end_time": "2024-03-02T10:44:56.604037",
     "exception": false,
     "start_time": "2024-03-02T10:44:56.575796",
     "status": "completed"
    },
    "tags": []
   },
   "source": [
    "## 評估訓練結果"
   ]
  },
  {
   "cell_type": "code",
   "execution_count": 10,
   "id": "5066c415",
   "metadata": {
    "execution": {
     "iopub.execute_input": "2024-03-02T10:44:56.662080Z",
     "iopub.status.busy": "2024-03-02T10:44:56.661604Z",
     "iopub.status.idle": "2024-03-02T10:44:57.288969Z",
     "shell.execute_reply": "2024-03-02T10:44:57.287874Z"
    },
    "papermill": {
     "duration": 0.659723,
     "end_time": "2024-03-02T10:44:57.291849",
     "exception": false,
     "start_time": "2024-03-02T10:44:56.632126",
     "status": "completed"
    },
    "tags": []
   },
   "outputs": [
    {
     "data": {
      "image/png": "[encoded data removed]",
      "text/plain": [
       "<Figure size 640x480 with 1 Axes>"
      ]
     },
     "metadata": {},
     "output_type": "display_data"
    },
    {
     "data": {
      "image/png": "[encoded data removed]",
      "text/plain": [
       "<Figure size 640x480 with 1 Axes>"
      ]
     },
     "metadata": {},
     "output_type": "display_data"
    }
   ],
   "source": [
    "def show_train_history(train_history, train, validation):\n",
    "\n",
    "    plt.plot(train_history.history[train])\n",
    "\n",
    "    plt.plot(train_history.history[validation])\n",
    "\n",
    "    plt.title('Train History')\n",
    "\n",
    "    plt.ylabel('train')\n",
    "\n",
    "    plt.xlabel('Epoch')\n",
    "\n",
    "    plt.legend(['train', 'validation'], loc='upper left')\n",
    "\n",
    "    plt.show()\n",
    "    \n",
    "\n",
    "show_train_history(train_history, 'accuracy', 'val_accuracy')\n",
    "show_train_history(train_history, 'loss', 'val_loss')"
   ]
  },
  {
   "cell_type": "markdown",
   "id": "35ed3c96",
   "metadata": {
    "papermill": {
     "duration": 0.030267,
     "end_time": "2024-03-02T10:44:57.352339",
     "exception": false,
     "start_time": "2024-03-02T10:44:57.322072",
     "status": "completed"
    },
    "tags": []
   },
   "source": [
    "## 使用未參與訓練的測試資料測試，模型準確率"
   ]
  },
  {
   "cell_type": "code",
   "execution_count": 11,
   "id": "7c0a7d50",
   "metadata": {
    "execution": {
     "iopub.execute_input": "2024-03-02T10:44:57.416776Z",
     "iopub.status.busy": "2024-03-02T10:44:57.416372Z",
     "iopub.status.idle": "2024-03-02T10:44:57.854878Z",
     "shell.execute_reply": "2024-03-02T10:44:57.853913Z"
    },
    "papermill": {
     "duration": 0.475357,
     "end_time": "2024-03-02T10:44:57.857540",
     "exception": false,
     "start_time": "2024-03-02T10:44:57.382183",
     "status": "completed"
    },
    "tags": []
   },
   "outputs": [
    {
     "name": "stdout",
     "output_type": "stream",
     "text": [
      "Accuracy =  0.9166666865348816\n"
     ]
    }
   ],
   "source": [
    "scores = model.evaluate(X_test,y_test,verbose=0)\n",
    "\n",
    "print('Accuracy = ', scores[1])"
   ]
  },
  {
   "cell_type": "markdown",
   "id": "3093c852",
   "metadata": {
    "papermill": {
     "duration": 0.030627,
     "end_time": "2024-03-02T10:44:57.918178",
     "exception": false,
     "start_time": "2024-03-02T10:44:57.887551",
     "status": "completed"
    },
    "tags": []
   },
   "source": [
    "## 評估訓練結果"
   ]
  },
  {
   "cell_type": "code",
   "execution_count": 12,
   "id": "469a87a6",
   "metadata": {
    "execution": {
     "iopub.execute_input": "2024-03-02T10:44:57.980241Z",
     "iopub.status.busy": "2024-03-02T10:44:57.979774Z",
     "iopub.status.idle": "2024-03-02T10:44:58.960672Z",
     "shell.execute_reply": "2024-03-02T10:44:58.959447Z"
    },
    "papermill": {
     "duration": 1.01475,
     "end_time": "2024-03-02T10:44:58.962988",
     "exception": false,
     "start_time": "2024-03-02T10:44:57.948238",
     "status": "completed"
    },
    "tags": []
   },
   "outputs": [
    {
     "name": "stdout",
     "output_type": "stream",
     "text": [
      "36/36 [==============================] - 0s 10ms/step\n"
     ]
    },
    {
     "data": {
      "image/png": "[encoded data removed]",
      "text/plain": [
       "<Figure size 1000x700 with 2 Axes>"
      ]
     },
     "metadata": {},
     "output_type": "display_data"
    }
   ],
   "source": [
    "y_pred = np.argmax(model.predict(X_test), axis=-1)\n",
    "y_true = np.argmax(y_test, axis=-1)\n",
    "confusion_matrix = confusion_matrix(y_true, y_pred)\n",
    "\n",
    "plt.figure(figsize=(10,7))\n",
    "sns.heatmap(confusion_matrix, annot=True, fmt='d')\n",
    "plt.xlabel('Predicted')\n",
    "plt.ylabel('Truth')\n",
    "plt.show()"
   ]
  }
 ],
 "metadata": {
  "kaggle": {
   "accelerator": "none",
   "dataSources": [
    {
     "datasetId": 4275198,
     "sourceId": 7518995,
     "sourceType": "datasetVersion"
    }
   ],
   "dockerImageVersionId": 30635,
   "isGpuEnabled": false,
   "isInternetEnabled": false,
   "language": "python",
   "sourceType": "notebook"
  },
  "kernelspec": {
   "display_name": "Python 3",
   "language": "python",
   "name": "python3"
  },
  "language_info": {
   "codemirror_mode": {
    "name": "ipython",
    "version": 3
   },
   "file_extension": ".py",
   "mimetype": "text/x-python",
   "name": "python",
   "nbconvert_exporter": "python",
   "pygments_lexer": "ipython3",
   "version": "3.10.12"
  },
  "papermill": {
   "default_parameters": {},
   "duration": 677.337097,
   "end_time": "2024-03-02T10:45:01.417015",
   "environment_variables": {},
   "exception": null,
   "input_path": "__notebook__.ipynb",
   "output_path": "__notebook__.ipynb",
   "parameters": {},
   "start_time": "2024-03-02T10:33:44.079918",
   "version": "2.4.0"
  }
 },
 "nbformat": 4,
 "nbformat_minor": 5
}
