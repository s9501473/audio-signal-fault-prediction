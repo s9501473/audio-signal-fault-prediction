{
 "cells": [
  {
   "cell_type": "markdown",
   "id": "3c816f8a",
   "metadata": {
    "papermill": {
     "duration": 0.006451,
     "end_time": "2024-03-04T02:43:41.770682",
     "exception": false,
     "start_time": "2024-03-04T02:43:41.764231",
     "status": "completed"
    },
    "tags": []
   },
   "source": [
    "## Importing the libraries"
   ]
  },
  {
   "cell_type": "code",
   "execution_count": 1,
   "id": "ed8b81aa",
   "metadata": {
    "_cell_guid": "b1076dfc-b9ad-4769-8c92-a6c4dae69d19",
    "_uuid": "8f2839f25d086af736a60e9eeb907d3b93b6e0e5",
    "execution": {
     "iopub.execute_input": "2024-03-04T02:43:41.784615Z",
     "iopub.status.busy": "2024-03-04T02:43:41.783966Z",
     "iopub.status.idle": "2024-03-04T02:43:57.315067Z",
     "shell.execute_reply": "2024-03-04T02:43:57.313739Z"
    },
    "papermill": {
     "duration": 15.541527,
     "end_time": "2024-03-04T02:43:57.318300",
     "exception": false,
     "start_time": "2024-03-04T02:43:41.776773",
     "status": "completed"
    },
    "tags": []
   },
   "outputs": [],
   "source": [
    "import numpy as np\n",
    "import pandas as pd\n",
    "import librosa\n",
    "import os\n",
    "import seaborn as sns\n",
    "import matplotlib.pyplot as plt\n",
    "from sklearn.metrics import confusion_matrix\n",
    "from sklearn.preprocessing import LabelEncoder\n",
    "from keras.utils import to_categorical\n",
    "from sklearn.model_selection import train_test_split\n",
    "from keras.models import Sequential\n",
    "from keras.layers import Dense,Dropout,Activation,Flatten\n",
    "from keras.callbacks import ModelCheckpoint\n",
    "from keras.optimizers import Adam"
   ]
  },
  {
   "cell_type": "markdown",
   "id": "0058c93d",
   "metadata": {
    "papermill": {
     "duration": 0.007968,
     "end_time": "2024-03-04T02:43:57.335469",
     "exception": false,
     "start_time": "2024-03-04T02:43:57.327501",
     "status": "completed"
    },
    "tags": []
   },
   "source": [
    "## 加載音頻訊號"
   ]
  },
  {
   "cell_type": "code",
   "execution_count": 2,
   "id": "42c67ef8",
   "metadata": {
    "execution": {
     "iopub.execute_input": "2024-03-04T02:43:57.350380Z",
     "iopub.status.busy": "2024-03-04T02:43:57.349099Z",
     "iopub.status.idle": "2024-03-04T02:43:57.354477Z",
     "shell.execute_reply": "2024-03-04T02:43:57.353513Z"
    },
    "papermill": {
     "duration": 0.015153,
     "end_time": "2024-03-04T02:43:57.356689",
     "exception": false,
     "start_time": "2024-03-04T02:43:57.341536",
     "status": "completed"
    },
    "tags": []
   },
   "outputs": [],
   "source": [
    "data_path = '/kaggle/input/recoding-data/UAV Recordings 3s/UAV Recordings 3s'"
   ]
  },
  {
   "cell_type": "markdown",
   "id": "b2ff03ae",
   "metadata": {
    "papermill": {
     "duration": 0.006075,
     "end_time": "2024-03-04T02:43:57.369162",
     "exception": false,
     "start_time": "2024-03-04T02:43:57.363087",
     "status": "completed"
    },
    "tags": []
   },
   "source": [
    "## 音頻訊號進行MFCCs特徵提取"
   ]
  },
  {
   "cell_type": "code",
   "execution_count": 3,
   "id": "336e2e14",
   "metadata": {
    "execution": {
     "iopub.execute_input": "2024-03-04T02:43:57.383651Z",
     "iopub.status.busy": "2024-03-04T02:43:57.382797Z",
     "iopub.status.idle": "2024-03-04T02:45:42.810775Z",
     "shell.execute_reply": "2024-03-04T02:45:42.809100Z"
    },
    "papermill": {
     "duration": 105.440325,
     "end_time": "2024-03-04T02:45:42.815610",
     "exception": false,
     "start_time": "2024-03-04T02:43:57.375285",
     "status": "completed"
    },
    "tags": []
   },
   "outputs": [],
   "source": [
    "def load_data(data_dir):\n",
    "    datasets = []\n",
    "    labels = []\n",
    "    categories = os.listdir(data_dir)\n",
    "    for index, folder in enumerate(categories):\n",
    "        for filename in os.listdir(data_dir+\"/\"+folder):\n",
    "            data, sampling_rate = librosa.load(data_dir+\"/\"+folder+\"/\"+filename)\n",
    "            mfccs_features = librosa.feature.mfcc(y=data, sr=sampling_rate, n_mfcc=80)\n",
    "            mfccs_scaled_features = np.mean(mfccs_features.T,axis=0)\n",
    "            datasets.append(np.array(mfccs_scaled_features))\n",
    "            labels.append(categories[index])\n",
    "    return np.array(datasets), np.array(labels)\n",
    "\n",
    "datasets, labels = load_data(data_path)"
   ]
  },
  {
   "cell_type": "code",
   "execution_count": 4,
   "id": "519e72ec",
   "metadata": {
    "execution": {
     "iopub.execute_input": "2024-03-04T02:45:42.845254Z",
     "iopub.status.busy": "2024-03-04T02:45:42.842815Z",
     "iopub.status.idle": "2024-03-04T02:45:42.854426Z",
     "shell.execute_reply": "2024-03-04T02:45:42.853014Z"
    },
    "papermill": {
     "duration": 0.029616,
     "end_time": "2024-03-04T02:45:42.858123",
     "exception": false,
     "start_time": "2024-03-04T02:45:42.828507",
     "status": "completed"
    },
    "tags": []
   },
   "outputs": [],
   "source": [
    "datasets = datasets.astype('float32')\n",
    "\n",
    "labelencoder = LabelEncoder()\n",
    "\n",
    "labelsOneHot = to_categorical(labelencoder.fit_transform(labels))"
   ]
  },
  {
   "cell_type": "markdown",
   "id": "939b7f2e",
   "metadata": {
    "papermill": {
     "duration": 0.012037,
     "end_time": "2024-03-04T02:45:42.883044",
     "exception": false,
     "start_time": "2024-03-04T02:45:42.871007",
     "status": "completed"
    },
    "tags": []
   },
   "source": [
    "## 切分成訓練資料、測試資料，8:2的比例"
   ]
  },
  {
   "cell_type": "code",
   "execution_count": 5,
   "id": "19dc23f9",
   "metadata": {
    "execution": {
     "iopub.execute_input": "2024-03-04T02:45:42.911016Z",
     "iopub.status.busy": "2024-03-04T02:45:42.910343Z",
     "iopub.status.idle": "2024-03-04T02:45:42.945868Z",
     "shell.execute_reply": "2024-03-04T02:45:42.944143Z"
    },
    "papermill": {
     "duration": 0.052581,
     "end_time": "2024-03-04T02:45:42.948259",
     "exception": false,
     "start_time": "2024-03-04T02:45:42.895678",
     "status": "completed"
    },
    "tags": []
   },
   "outputs": [
    {
     "name": "stdout",
     "output_type": "stream",
     "text": [
      "----------Train-------------\n",
      "(1504, 80)\n",
      "----------Test--------------\n",
      "(376, 80)\n"
     ]
    }
   ],
   "source": [
    "X_train, X_test, y_train, y_test = train_test_split(datasets, labelsOneHot, test_size = 0.2, stratify = labelsOneHot, random_state = 3)\n",
    "\n",
    "print(\"----------Train-------------\")\n",
    "print(X_train.shape)\n",
    "\n",
    "print(\"----------Test--------------\")\n",
    "print(X_test.shape)"
   ]
  },
  {
   "cell_type": "code",
   "execution_count": 6,
   "id": "a4819316",
   "metadata": {
    "execution": {
     "iopub.execute_input": "2024-03-04T02:45:42.962462Z",
     "iopub.status.busy": "2024-03-04T02:45:42.962063Z",
     "iopub.status.idle": "2024-03-04T02:45:42.967338Z",
     "shell.execute_reply": "2024-03-04T02:45:42.966254Z"
    },
    "papermill": {
     "duration": 0.014881,
     "end_time": "2024-03-04T02:45:42.969605",
     "exception": false,
     "start_time": "2024-03-04T02:45:42.954724",
     "status": "completed"
    },
    "tags": []
   },
   "outputs": [],
   "source": [
    "num_classes = len(np.unique(labels))"
   ]
  },
  {
   "cell_type": "markdown",
   "id": "dae6b756",
   "metadata": {
    "papermill": {
     "duration": 0.005746,
     "end_time": "2024-03-04T02:45:42.981544",
     "exception": false,
     "start_time": "2024-03-04T02:45:42.975798",
     "status": "completed"
    },
    "tags": []
   },
   "source": [
    "## 建立 Neural Network 模型"
   ]
  },
  {
   "cell_type": "code",
   "execution_count": 7,
   "id": "19ade001",
   "metadata": {
    "execution": {
     "iopub.execute_input": "2024-03-04T02:45:42.995669Z",
     "iopub.status.busy": "2024-03-04T02:45:42.995249Z",
     "iopub.status.idle": "2024-03-04T02:45:43.226048Z",
     "shell.execute_reply": "2024-03-04T02:45:43.225054Z"
    },
    "papermill": {
     "duration": 0.250002,
     "end_time": "2024-03-04T02:45:43.237641",
     "exception": false,
     "start_time": "2024-03-04T02:45:42.987639",
     "status": "completed"
    },
    "tags": []
   },
   "outputs": [
    {
     "name": "stdout",
     "output_type": "stream",
     "text": [
      "Model: \"sequential\"\n",
      "_________________________________________________________________\n",
      " Layer (type)                Output Shape              Param #   \n",
      "=================================================================\n",
      " dense (Dense)               (None, 512)               41472     \n",
      "                                                                 \n",
      " dense_1 (Dense)             (None, 128)               65664     \n",
      "                                                                 \n",
      " dense_2 (Dense)             (None, 64)                8256      \n",
      "                                                                 \n",
      " dropout (Dropout)           (None, 64)                0         \n",
      "                                                                 \n",
      " dense_3 (Dense)             (None, 5)                 325       \n",
      "                                                                 \n",
      "=================================================================\n",
      "Total params: 115717 (452.02 KB)\n",
      "Trainable params: 115717 (452.02 KB)\n",
      "Non-trainable params: 0 (0.00 Byte)\n",
      "_________________________________________________________________\n"
     ]
    }
   ],
   "source": [
    "model=Sequential()\n",
    "\n",
    "model.add(Dense(512, activation='relu', input_shape=(datasets.shape[1],)))\n",
    "\n",
    "model.add(Dense(128, activation='relu'))\n",
    "\n",
    "model.add(Dense(64, activation='relu'))\n",
    "\n",
    "# 使用Dropout防止過度擬合\n",
    "model.add(Dropout(0.25))\n",
    "\n",
    "#Output layer\n",
    "model.add(Dense(num_classes, activation='softmax'))\n",
    "\n",
    "# 選擇損失函數、優化方法及成效衡量方式\n",
    "model.compile(optimizer='adam', loss='categorical_crossentropy', metrics=['accuracy'])\n",
    "\n",
    "model.summary()"
   ]
  },
  {
   "cell_type": "markdown",
   "id": "baebb17c",
   "metadata": {
    "papermill": {
     "duration": 0.008028,
     "end_time": "2024-03-04T02:45:43.253866",
     "exception": false,
     "start_time": "2024-03-04T02:45:43.245838",
     "status": "completed"
    },
    "tags": []
   },
   "source": [
    "## 模型訓練"
   ]
  },
  {
   "cell_type": "code",
   "execution_count": 8,
   "id": "ec1a713a",
   "metadata": {
    "execution": {
     "iopub.execute_input": "2024-03-04T02:45:43.272588Z",
     "iopub.status.busy": "2024-03-04T02:45:43.272147Z",
     "iopub.status.idle": "2024-03-04T02:45:54.635166Z",
     "shell.execute_reply": "2024-03-04T02:45:54.634195Z"
    },
    "papermill": {
     "duration": 11.375455,
     "end_time": "2024-03-04T02:45:54.637837",
     "exception": false,
     "start_time": "2024-03-04T02:45:43.262382",
     "status": "completed"
    },
    "tags": []
   },
   "outputs": [
    {
     "name": "stdout",
     "output_type": "stream",
     "text": [
      "Epoch 1/100\n",
      "13/13 - 2s - loss: 2.5141 - accuracy: 0.3333 - val_loss: 1.2146 - val_accuracy: 0.6013 - 2s/epoch - 131ms/step\n",
      "Epoch 2/100\n",
      "13/13 - 0s - loss: 1.2053 - accuracy: 0.5245 - val_loss: 0.9629 - val_accuracy: 0.6578 - 77ms/epoch - 6ms/step\n",
      "Epoch 3/100\n",
      "13/13 - 0s - loss: 0.9410 - accuracy: 0.6434 - val_loss: 0.7039 - val_accuracy: 0.7375 - 73ms/epoch - 6ms/step\n",
      "Epoch 4/100\n",
      "13/13 - 0s - loss: 0.8009 - accuracy: 0.6858 - val_loss: 0.7576 - val_accuracy: 0.6578 - 71ms/epoch - 5ms/step\n",
      "Epoch 5/100\n",
      "13/13 - 0s - loss: 0.8554 - accuracy: 0.6600 - val_loss: 0.6428 - val_accuracy: 0.7508 - 83ms/epoch - 6ms/step\n",
      "Epoch 6/100\n",
      "13/13 - 0s - loss: 0.7156 - accuracy: 0.7165 - val_loss: 0.5498 - val_accuracy: 0.7973 - 72ms/epoch - 6ms/step\n",
      "Epoch 7/100\n",
      "13/13 - 0s - loss: 0.7106 - accuracy: 0.7257 - val_loss: 0.5671 - val_accuracy: 0.8106 - 71ms/epoch - 5ms/step\n",
      "Epoch 8/100\n",
      "13/13 - 0s - loss: 0.6310 - accuracy: 0.7573 - val_loss: 0.5261 - val_accuracy: 0.7674 - 72ms/epoch - 6ms/step\n",
      "Epoch 9/100\n",
      "13/13 - 0s - loss: 0.5693 - accuracy: 0.7772 - val_loss: 0.4810 - val_accuracy: 0.8073 - 76ms/epoch - 6ms/step\n",
      "Epoch 10/100\n",
      "13/13 - 0s - loss: 0.5364 - accuracy: 0.7938 - val_loss: 0.5750 - val_accuracy: 0.7641 - 83ms/epoch - 6ms/step\n",
      "Epoch 11/100\n",
      "13/13 - 0s - loss: 0.5108 - accuracy: 0.8130 - val_loss: 0.4178 - val_accuracy: 0.8605 - 71ms/epoch - 5ms/step\n",
      "Epoch 12/100\n",
      "13/13 - 0s - loss: 0.4520 - accuracy: 0.8288 - val_loss: 0.3924 - val_accuracy: 0.8704 - 73ms/epoch - 6ms/step\n",
      "Epoch 13/100\n",
      "13/13 - 0s - loss: 0.5846 - accuracy: 0.7814 - val_loss: 0.5552 - val_accuracy: 0.8040 - 85ms/epoch - 7ms/step\n",
      "Epoch 14/100\n",
      "13/13 - 0s - loss: 0.6272 - accuracy: 0.7623 - val_loss: 0.4617 - val_accuracy: 0.8106 - 71ms/epoch - 5ms/step\n",
      "Epoch 15/100\n",
      "13/13 - 0s - loss: 0.4652 - accuracy: 0.8130 - val_loss: 0.4484 - val_accuracy: 0.8571 - 76ms/epoch - 6ms/step\n",
      "Epoch 16/100\n",
      "13/13 - 0s - loss: 0.4973 - accuracy: 0.8254 - val_loss: 0.3596 - val_accuracy: 0.8904 - 87ms/epoch - 7ms/step\n",
      "Epoch 17/100\n",
      "13/13 - 0s - loss: 0.3559 - accuracy: 0.8653 - val_loss: 0.3188 - val_accuracy: 0.8937 - 75ms/epoch - 6ms/step\n",
      "Epoch 18/100\n",
      "13/13 - 0s - loss: 0.3109 - accuracy: 0.8770 - val_loss: 0.3583 - val_accuracy: 0.8738 - 75ms/epoch - 6ms/step\n",
      "Epoch 19/100\n",
      "13/13 - 0s - loss: 0.4145 - accuracy: 0.8487 - val_loss: 0.3654 - val_accuracy: 0.8538 - 73ms/epoch - 6ms/step\n",
      "Epoch 20/100\n",
      "13/13 - 0s - loss: 0.3288 - accuracy: 0.8753 - val_loss: 0.2740 - val_accuracy: 0.9103 - 74ms/epoch - 6ms/step\n",
      "Epoch 21/100\n",
      "13/13 - 0s - loss: 0.2809 - accuracy: 0.9044 - val_loss: 0.2436 - val_accuracy: 0.9070 - 87ms/epoch - 7ms/step\n",
      "Epoch 22/100\n",
      "13/13 - 0s - loss: 0.2408 - accuracy: 0.9119 - val_loss: 0.2384 - val_accuracy: 0.9136 - 74ms/epoch - 6ms/step\n",
      "Epoch 23/100\n",
      "13/13 - 0s - loss: 0.2310 - accuracy: 0.9094 - val_loss: 0.2771 - val_accuracy: 0.9070 - 72ms/epoch - 6ms/step\n",
      "Epoch 24/100\n",
      "13/13 - 0s - loss: 0.2607 - accuracy: 0.9027 - val_loss: 0.2754 - val_accuracy: 0.9003 - 70ms/epoch - 5ms/step\n",
      "Epoch 25/100\n",
      "13/13 - 0s - loss: 0.2358 - accuracy: 0.9069 - val_loss: 0.2875 - val_accuracy: 0.8904 - 71ms/epoch - 5ms/step\n",
      "Epoch 26/100\n",
      "13/13 - 0s - loss: 0.2399 - accuracy: 0.9111 - val_loss: 0.2184 - val_accuracy: 0.9236 - 72ms/epoch - 6ms/step\n",
      "Epoch 27/100\n",
      "13/13 - 0s - loss: 0.2584 - accuracy: 0.9027 - val_loss: 0.2462 - val_accuracy: 0.8970 - 72ms/epoch - 6ms/step\n",
      "Epoch 28/100\n",
      "13/13 - 0s - loss: 0.2290 - accuracy: 0.9111 - val_loss: 0.2163 - val_accuracy: 0.9236 - 71ms/epoch - 5ms/step\n",
      "Epoch 29/100\n",
      "13/13 - 0s - loss: 0.1857 - accuracy: 0.9343 - val_loss: 0.1938 - val_accuracy: 0.9402 - 72ms/epoch - 6ms/step\n",
      "Epoch 30/100\n",
      "13/13 - 0s - loss: 0.1705 - accuracy: 0.9343 - val_loss: 0.2359 - val_accuracy: 0.9136 - 84ms/epoch - 6ms/step\n",
      "Epoch 31/100\n",
      "13/13 - 0s - loss: 0.2604 - accuracy: 0.8969 - val_loss: 0.2529 - val_accuracy: 0.9003 - 71ms/epoch - 5ms/step\n",
      "Epoch 32/100\n",
      "13/13 - 0s - loss: 0.2254 - accuracy: 0.9144 - val_loss: 0.2097 - val_accuracy: 0.9203 - 73ms/epoch - 6ms/step\n",
      "Epoch 33/100\n",
      "13/13 - 0s - loss: 0.1928 - accuracy: 0.9385 - val_loss: 0.2013 - val_accuracy: 0.9468 - 74ms/epoch - 6ms/step\n",
      "Epoch 34/100\n",
      "13/13 - 0s - loss: 0.1537 - accuracy: 0.9418 - val_loss: 0.2052 - val_accuracy: 0.9402 - 71ms/epoch - 5ms/step\n",
      "Epoch 35/100\n",
      "13/13 - 0s - loss: 0.1486 - accuracy: 0.9443 - val_loss: 0.1771 - val_accuracy: 0.9468 - 72ms/epoch - 6ms/step\n",
      "Epoch 36/100\n",
      "13/13 - 0s - loss: 0.1338 - accuracy: 0.9593 - val_loss: 0.1811 - val_accuracy: 0.9435 - 70ms/epoch - 5ms/step\n",
      "Epoch 37/100\n",
      "13/13 - 0s - loss: 0.1182 - accuracy: 0.9609 - val_loss: 0.1938 - val_accuracy: 0.9369 - 73ms/epoch - 6ms/step\n",
      "Epoch 38/100\n",
      "13/13 - 0s - loss: 0.1198 - accuracy: 0.9584 - val_loss: 0.2196 - val_accuracy: 0.9103 - 71ms/epoch - 5ms/step\n",
      "Epoch 39/100\n",
      "13/13 - 0s - loss: 0.1736 - accuracy: 0.9335 - val_loss: 0.2674 - val_accuracy: 0.8970 - 71ms/epoch - 5ms/step\n",
      "Epoch 40/100\n",
      "13/13 - 0s - loss: 0.1648 - accuracy: 0.9410 - val_loss: 0.2319 - val_accuracy: 0.9336 - 73ms/epoch - 6ms/step\n",
      "Epoch 41/100\n",
      "13/13 - 0s - loss: 0.1413 - accuracy: 0.9493 - val_loss: 0.2005 - val_accuracy: 0.9169 - 73ms/epoch - 6ms/step\n",
      "Epoch 42/100\n",
      "13/13 - 0s - loss: 0.1486 - accuracy: 0.9468 - val_loss: 0.2292 - val_accuracy: 0.9203 - 74ms/epoch - 6ms/step\n",
      "Epoch 43/100\n",
      "13/13 - 0s - loss: 0.1304 - accuracy: 0.9476 - val_loss: 0.1942 - val_accuracy: 0.9236 - 72ms/epoch - 6ms/step\n",
      "Epoch 44/100\n",
      "13/13 - 0s - loss: 0.1013 - accuracy: 0.9659 - val_loss: 0.1799 - val_accuracy: 0.9336 - 84ms/epoch - 6ms/step\n",
      "Epoch 45/100\n",
      "13/13 - 0s - loss: 0.0939 - accuracy: 0.9684 - val_loss: 0.2237 - val_accuracy: 0.9269 - 73ms/epoch - 6ms/step\n",
      "Epoch 46/100\n",
      "13/13 - 0s - loss: 0.0829 - accuracy: 0.9759 - val_loss: 0.1643 - val_accuracy: 0.9402 - 74ms/epoch - 6ms/step\n",
      "Epoch 47/100\n",
      "13/13 - 0s - loss: 0.0716 - accuracy: 0.9767 - val_loss: 0.2164 - val_accuracy: 0.9236 - 73ms/epoch - 6ms/step\n",
      "Epoch 48/100\n",
      "13/13 - 0s - loss: 0.1046 - accuracy: 0.9626 - val_loss: 0.3867 - val_accuracy: 0.9070 - 79ms/epoch - 6ms/step\n",
      "Epoch 49/100\n",
      "13/13 - 0s - loss: 0.3712 - accuracy: 0.8911 - val_loss: 0.2423 - val_accuracy: 0.9136 - 73ms/epoch - 6ms/step\n",
      "Epoch 50/100\n",
      "13/13 - 0s - loss: 0.2245 - accuracy: 0.9135 - val_loss: 0.2264 - val_accuracy: 0.9003 - 85ms/epoch - 7ms/step\n",
      "Epoch 51/100\n",
      "13/13 - 0s - loss: 0.1665 - accuracy: 0.9377 - val_loss: 0.2216 - val_accuracy: 0.9203 - 75ms/epoch - 6ms/step\n",
      "Epoch 52/100\n",
      "13/13 - 0s - loss: 0.1452 - accuracy: 0.9468 - val_loss: 0.2038 - val_accuracy: 0.9269 - 74ms/epoch - 6ms/step\n",
      "Epoch 53/100\n",
      "13/13 - 0s - loss: 0.1283 - accuracy: 0.9568 - val_loss: 0.2462 - val_accuracy: 0.9070 - 72ms/epoch - 6ms/step\n",
      "Epoch 54/100\n",
      "13/13 - 0s - loss: 0.1131 - accuracy: 0.9609 - val_loss: 0.2246 - val_accuracy: 0.9169 - 69ms/epoch - 5ms/step\n",
      "Epoch 55/100\n",
      "13/13 - 0s - loss: 0.1594 - accuracy: 0.9426 - val_loss: 0.2160 - val_accuracy: 0.9203 - 72ms/epoch - 6ms/step\n",
      "Epoch 56/100\n",
      "13/13 - 0s - loss: 0.0953 - accuracy: 0.9684 - val_loss: 0.1969 - val_accuracy: 0.9269 - 74ms/epoch - 6ms/step\n",
      "Epoch 57/100\n",
      "13/13 - 0s - loss: 0.0778 - accuracy: 0.9726 - val_loss: 0.1625 - val_accuracy: 0.9468 - 68ms/epoch - 5ms/step\n",
      "Epoch 58/100\n",
      "13/13 - 0s - loss: 0.0991 - accuracy: 0.9609 - val_loss: 0.1883 - val_accuracy: 0.9302 - 74ms/epoch - 6ms/step\n",
      "Epoch 59/100\n",
      "13/13 - 0s - loss: 0.0767 - accuracy: 0.9742 - val_loss: 0.1967 - val_accuracy: 0.9435 - 72ms/epoch - 6ms/step\n",
      "Epoch 60/100\n",
      "13/13 - 0s - loss: 0.0693 - accuracy: 0.9759 - val_loss: 0.1664 - val_accuracy: 0.9535 - 81ms/epoch - 6ms/step\n",
      "Epoch 61/100\n",
      "13/13 - 0s - loss: 0.0478 - accuracy: 0.9850 - val_loss: 0.1537 - val_accuracy: 0.9601 - 69ms/epoch - 5ms/step\n",
      "Epoch 62/100\n",
      "13/13 - 0s - loss: 0.0451 - accuracy: 0.9850 - val_loss: 0.2151 - val_accuracy: 0.9203 - 74ms/epoch - 6ms/step\n",
      "Epoch 63/100\n",
      "13/13 - 0s - loss: 0.0720 - accuracy: 0.9701 - val_loss: 0.2494 - val_accuracy: 0.9269 - 71ms/epoch - 5ms/step\n",
      "Epoch 64/100\n",
      "13/13 - 0s - loss: 0.3884 - accuracy: 0.8903 - val_loss: 0.2012 - val_accuracy: 0.9369 - 78ms/epoch - 6ms/step\n",
      "Epoch 65/100\n",
      "13/13 - 0s - loss: 0.1695 - accuracy: 0.9418 - val_loss: 0.1748 - val_accuracy: 0.9269 - 72ms/epoch - 6ms/step\n",
      "Epoch 66/100\n",
      "13/13 - 0s - loss: 0.1347 - accuracy: 0.9476 - val_loss: 0.1700 - val_accuracy: 0.9502 - 74ms/epoch - 6ms/step\n",
      "Epoch 67/100\n",
      "13/13 - 0s - loss: 0.1114 - accuracy: 0.9568 - val_loss: 0.1637 - val_accuracy: 0.9502 - 85ms/epoch - 7ms/step\n",
      "Epoch 68/100\n",
      "13/13 - 0s - loss: 0.0853 - accuracy: 0.9709 - val_loss: 0.1733 - val_accuracy: 0.9468 - 74ms/epoch - 6ms/step\n",
      "Epoch 69/100\n",
      "13/13 - 0s - loss: 0.0789 - accuracy: 0.9717 - val_loss: 0.1728 - val_accuracy: 0.9535 - 83ms/epoch - 6ms/step\n",
      "Epoch 70/100\n",
      "13/13 - 0s - loss: 0.1168 - accuracy: 0.9618 - val_loss: 0.1870 - val_accuracy: 0.9402 - 70ms/epoch - 5ms/step\n",
      "Epoch 71/100\n",
      "13/13 - 0s - loss: 0.1296 - accuracy: 0.9510 - val_loss: 0.1712 - val_accuracy: 0.9502 - 84ms/epoch - 6ms/step\n",
      "Epoch 72/100\n",
      "13/13 - 0s - loss: 0.0817 - accuracy: 0.9692 - val_loss: 0.1726 - val_accuracy: 0.9535 - 86ms/epoch - 7ms/step\n",
      "Epoch 73/100\n",
      "13/13 - 0s - loss: 0.0567 - accuracy: 0.9867 - val_loss: 0.2208 - val_accuracy: 0.9336 - 73ms/epoch - 6ms/step\n",
      "Epoch 74/100\n",
      "13/13 - 0s - loss: 0.0491 - accuracy: 0.9875 - val_loss: 0.1585 - val_accuracy: 0.9601 - 73ms/epoch - 6ms/step\n",
      "Epoch 75/100\n",
      "13/13 - 0s - loss: 0.0380 - accuracy: 0.9917 - val_loss: 0.5096 - val_accuracy: 0.8472 - 72ms/epoch - 6ms/step\n",
      "Epoch 76/100\n",
      "13/13 - 0s - loss: 0.4139 - accuracy: 0.8778 - val_loss: 0.2931 - val_accuracy: 0.8937 - 71ms/epoch - 5ms/step\n",
      "Epoch 77/100\n",
      "13/13 - 0s - loss: 0.2657 - accuracy: 0.9002 - val_loss: 0.3051 - val_accuracy: 0.8870 - 73ms/epoch - 6ms/step\n",
      "Epoch 78/100\n",
      "13/13 - 0s - loss: 0.1410 - accuracy: 0.9518 - val_loss: 0.2046 - val_accuracy: 0.9369 - 72ms/epoch - 6ms/step\n",
      "Epoch 79/100\n",
      "13/13 - 0s - loss: 0.0698 - accuracy: 0.9792 - val_loss: 0.1912 - val_accuracy: 0.9435 - 72ms/epoch - 6ms/step\n",
      "Epoch 80/100\n",
      "13/13 - 0s - loss: 0.0680 - accuracy: 0.9792 - val_loss: 0.1783 - val_accuracy: 0.9369 - 74ms/epoch - 6ms/step\n",
      "Epoch 81/100\n",
      "13/13 - 0s - loss: 0.0601 - accuracy: 0.9809 - val_loss: 0.1803 - val_accuracy: 0.9502 - 71ms/epoch - 5ms/step\n",
      "Epoch 82/100\n",
      "13/13 - 0s - loss: 0.0565 - accuracy: 0.9825 - val_loss: 0.1726 - val_accuracy: 0.9535 - 72ms/epoch - 6ms/step\n",
      "Epoch 83/100\n",
      "13/13 - 0s - loss: 0.0392 - accuracy: 0.9867 - val_loss: 0.1835 - val_accuracy: 0.9535 - 74ms/epoch - 6ms/step\n",
      "Epoch 84/100\n",
      "13/13 - 0s - loss: 0.0359 - accuracy: 0.9900 - val_loss: 0.2069 - val_accuracy: 0.9435 - 84ms/epoch - 6ms/step\n",
      "Epoch 85/100\n",
      "13/13 - 0s - loss: 0.0399 - accuracy: 0.9850 - val_loss: 0.1877 - val_accuracy: 0.9468 - 72ms/epoch - 6ms/step\n",
      "Epoch 86/100\n",
      "13/13 - 0s - loss: 0.0349 - accuracy: 0.9884 - val_loss: 0.1736 - val_accuracy: 0.9502 - 72ms/epoch - 6ms/step\n",
      "Epoch 87/100\n",
      "13/13 - 0s - loss: 0.0236 - accuracy: 0.9942 - val_loss: 0.1824 - val_accuracy: 0.9535 - 72ms/epoch - 6ms/step\n",
      "Epoch 88/100\n",
      "13/13 - 0s - loss: 0.0317 - accuracy: 0.9884 - val_loss: 0.1818 - val_accuracy: 0.9535 - 72ms/epoch - 6ms/step\n",
      "Epoch 89/100\n",
      "13/13 - 0s - loss: 0.0248 - accuracy: 0.9933 - val_loss: 0.1928 - val_accuracy: 0.9535 - 85ms/epoch - 7ms/step\n",
      "Epoch 90/100\n",
      "13/13 - 0s - loss: 0.0201 - accuracy: 0.9958 - val_loss: 0.1828 - val_accuracy: 0.9601 - 75ms/epoch - 6ms/step\n",
      "Epoch 91/100\n",
      "13/13 - 0s - loss: 0.0124 - accuracy: 0.9983 - val_loss: 0.1861 - val_accuracy: 0.9502 - 77ms/epoch - 6ms/step\n",
      "Epoch 92/100\n",
      "13/13 - 0s - loss: 0.0203 - accuracy: 0.9933 - val_loss: 0.1788 - val_accuracy: 0.9635 - 77ms/epoch - 6ms/step\n",
      "Epoch 93/100\n",
      "13/13 - 0s - loss: 0.0139 - accuracy: 0.9967 - val_loss: 0.1870 - val_accuracy: 0.9568 - 77ms/epoch - 6ms/step\n",
      "Epoch 94/100\n",
      "13/13 - 0s - loss: 0.0122 - accuracy: 0.9983 - val_loss: 0.1860 - val_accuracy: 0.9601 - 77ms/epoch - 6ms/step\n",
      "Epoch 95/100\n",
      "13/13 - 0s - loss: 0.0115 - accuracy: 0.9975 - val_loss: 0.1917 - val_accuracy: 0.9668 - 92ms/epoch - 7ms/step\n",
      "Epoch 96/100\n",
      "13/13 - 0s - loss: 0.0132 - accuracy: 0.9983 - val_loss: 0.1926 - val_accuracy: 0.9568 - 86ms/epoch - 7ms/step\n",
      "Epoch 97/100\n",
      "13/13 - 0s - loss: 0.0082 - accuracy: 0.9992 - val_loss: 0.1872 - val_accuracy: 0.9668 - 77ms/epoch - 6ms/step\n",
      "Epoch 98/100\n",
      "13/13 - 0s - loss: 0.0100 - accuracy: 0.9983 - val_loss: 0.2007 - val_accuracy: 0.9601 - 87ms/epoch - 7ms/step\n",
      "Epoch 99/100\n",
      "13/13 - 0s - loss: 0.0143 - accuracy: 0.9967 - val_loss: 0.1846 - val_accuracy: 0.9601 - 76ms/epoch - 6ms/step\n",
      "Epoch 100/100\n",
      "13/13 - 0s - loss: 0.0128 - accuracy: 0.9967 - val_loss: 0.1964 - val_accuracy: 0.9635 - 76ms/epoch - 6ms/step\n"
     ]
    }
   ],
   "source": [
    "train_history = model.fit(X_train, y_train, validation_split=0.2, batch_size = 100, epochs = 100, verbose=2)"
   ]
  },
  {
   "cell_type": "markdown",
   "id": "e0404068",
   "metadata": {
    "papermill": {
     "duration": 0.026178,
     "end_time": "2024-03-04T02:45:54.689865",
     "exception": false,
     "start_time": "2024-03-04T02:45:54.663687",
     "status": "completed"
    },
    "tags": []
   },
   "source": [
    "## 評估訓練結果"
   ]
  },
  {
   "cell_type": "code",
   "execution_count": 9,
   "id": "38b6b23a",
   "metadata": {
    "execution": {
     "iopub.execute_input": "2024-03-04T02:45:54.743380Z",
     "iopub.status.busy": "2024-03-04T02:45:54.742968Z",
     "iopub.status.idle": "2024-03-04T02:45:55.375896Z",
     "shell.execute_reply": "2024-03-04T02:45:55.374988Z"
    },
    "papermill": {
     "duration": 0.662563,
     "end_time": "2024-03-04T02:45:55.378295",
     "exception": false,
     "start_time": "2024-03-04T02:45:54.715732",
     "status": "completed"
    },
    "tags": []
   },
   "outputs": [
    {
     "data": {
      "image/png": "[encoded data removed]",
      "text/plain": [
       "<Figure size 640x480 with 1 Axes>"
      ]
     },
     "metadata": {},
     "output_type": "display_data"
    },
    {
     "data": {
      "image/png": "[encoded data removed]",
      "text/plain": [
       "<Figure size 640x480 with 1 Axes>"
      ]
     },
     "metadata": {},
     "output_type": "display_data"
    }
   ],
   "source": [
    "def show_train_history(train_history, train, validation):\n",
    "\n",
    "    plt.plot(train_history.history[train])\n",
    "\n",
    "    plt.plot(train_history.history[validation])\n",
    "\n",
    "    plt.title('Train History')\n",
    "\n",
    "    plt.ylabel('train')\n",
    "\n",
    "    plt.xlabel('Epoch')\n",
    "\n",
    "    plt.legend(['train', 'validation'], loc='upper left')\n",
    "\n",
    "    plt.show()\n",
    "    \n",
    "\n",
    "show_train_history(train_history, 'accuracy', 'val_accuracy')\n",
    "show_train_history(train_history, 'loss', 'val_loss')"
   ]
  },
  {
   "cell_type": "markdown",
   "id": "be0dd819",
   "metadata": {
    "papermill": {
     "duration": 0.027283,
     "end_time": "2024-03-04T02:45:55.432638",
     "exception": false,
     "start_time": "2024-03-04T02:45:55.405355",
     "status": "completed"
    },
    "tags": []
   },
   "source": [
    "## 使用未參與訓練的測試資料測試，模型準確率"
   ]
  },
  {
   "cell_type": "code",
   "execution_count": 10,
   "id": "f7993bc4",
   "metadata": {
    "execution": {
     "iopub.execute_input": "2024-03-04T02:45:55.489334Z",
     "iopub.status.busy": "2024-03-04T02:45:55.488278Z",
     "iopub.status.idle": "2024-03-04T02:45:55.585016Z",
     "shell.execute_reply": "2024-03-04T02:45:55.583721Z"
    },
    "papermill": {
     "duration": 0.127919,
     "end_time": "2024-03-04T02:45:55.587480",
     "exception": false,
     "start_time": "2024-03-04T02:45:55.459561",
     "status": "completed"
    },
    "tags": []
   },
   "outputs": [
    {
     "name": "stdout",
     "output_type": "stream",
     "text": [
      "Accuracy =  0.957446813583374\n"
     ]
    }
   ],
   "source": [
    "scores = model.evaluate(X_test,y_test,verbose=0)\n",
    "\n",
    "print('Accuracy = ', scores[1])"
   ]
  },
  {
   "cell_type": "markdown",
   "id": "381caefe",
   "metadata": {
    "papermill": {
     "duration": 0.026794,
     "end_time": "2024-03-04T02:45:55.641216",
     "exception": false,
     "start_time": "2024-03-04T02:45:55.614422",
     "status": "completed"
    },
    "tags": []
   },
   "source": [
    "## 評估訓練結果"
   ]
  },
  {
   "cell_type": "code",
   "execution_count": 11,
   "id": "bbf107a4",
   "metadata": {
    "execution": {
     "iopub.execute_input": "2024-03-04T02:45:55.696996Z",
     "iopub.status.busy": "2024-03-04T02:45:55.696567Z",
     "iopub.status.idle": "2024-03-04T02:45:56.259233Z",
     "shell.execute_reply": "2024-03-04T02:45:56.258076Z"
    },
    "papermill": {
     "duration": 0.593605,
     "end_time": "2024-03-04T02:45:56.261799",
     "exception": false,
     "start_time": "2024-03-04T02:45:55.668194",
     "status": "completed"
    },
    "tags": []
   },
   "outputs": [
    {
     "name": "stdout",
     "output_type": "stream",
     "text": [
      "12/12 [==============================] - 0s 2ms/step\n"
     ]
    },
    {
     "data": {
      "image/png": "[encoded data removed]",
      "text/plain": [
       "<Figure size 1000x700 with 2 Axes>"
      ]
     },
     "metadata": {},
     "output_type": "display_data"
    }
   ],
   "source": [
    "y_pred = np.argmax(model.predict(X_test), axis=-1)\n",
    "y_true = np.argmax(y_test, axis=-1)\n",
    "conf_matrix = confusion_matrix(y_true, y_pred)\n",
    "\n",
    "plt.figure(figsize=(10, 7))\n",
    "sns.heatmap(conf_matrix, annot=True, fmt='d')\n",
    "plt.xlabel('Predicted')\n",
    "plt.ylabel('Truth')\n",
    "plt.show()"
   ]
  }
 ],
 "metadata": {
  "kaggle": {
   "accelerator": "none",
   "dataSources": [
    {
     "datasetId": 4275198,
     "sourceId": 7518995,
     "sourceType": "datasetVersion"
    }
   ],
   "dockerImageVersionId": 30635,
   "isGpuEnabled": false,
   "isInternetEnabled": false,
   "language": "python",
   "sourceType": "notebook"
  },
  "kernelspec": {
   "display_name": "Python 3",
   "language": "python",
   "name": "python3"
  },
  "language_info": {
   "codemirror_mode": {
    "name": "ipython",
    "version": 3
   },
   "file_extension": ".py",
   "mimetype": "text/x-python",
   "name": "python",
   "nbconvert_exporter": "python",
   "pygments_lexer": "ipython3",
   "version": "3.10.12"
  },
  "papermill": {
   "default_parameters": {},
   "duration": 140.974008,
   "end_time": "2024-03-04T02:45:58.696387",
   "environment_variables": {},
   "exception": null,
   "input_path": "__notebook__.ipynb",
   "output_path": "__notebook__.ipynb",
   "parameters": {},
   "start_time": "2024-03-04T02:43:37.722379",
   "version": "2.4.0"
  }
 },
 "nbformat": 4,
 "nbformat_minor": 5
}
