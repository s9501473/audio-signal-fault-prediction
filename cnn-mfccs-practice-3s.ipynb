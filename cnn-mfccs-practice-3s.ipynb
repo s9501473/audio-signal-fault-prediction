{
 "cells": [
  {
   "cell_type": "markdown",
   "id": "73e32ac0",
   "metadata": {
    "papermill": {
     "duration": 0.007456,
     "end_time": "2024-01-31T09:15:50.296329",
     "exception": false,
     "start_time": "2024-01-31T09:15:50.288873",
     "status": "completed"
    },
    "tags": []
   },
   "source": [
    "## Importing the libraries"
   ]
  },
  {
   "cell_type": "code",
   "execution_count": 1,
   "id": "e5649af3",
   "metadata": {
    "_cell_guid": "b1076dfc-b9ad-4769-8c92-a6c4dae69d19",
    "_uuid": "8f2839f25d086af736a60e9eeb907d3b93b6e0e5",
    "execution": {
     "iopub.execute_input": "2024-01-31T09:15:50.312821Z",
     "iopub.status.busy": "2024-01-31T09:15:50.312425Z",
     "iopub.status.idle": "2024-01-31T09:16:08.687715Z",
     "shell.execute_reply": "2024-01-31T09:16:08.686392Z"
    },
    "papermill": {
     "duration": 18.387499,
     "end_time": "2024-01-31T09:16:08.690926",
     "exception": false,
     "start_time": "2024-01-31T09:15:50.303427",
     "status": "completed"
    },
    "tags": []
   },
   "outputs": [],
   "source": [
    "import numpy as np\n",
    "import pandas as pd\n",
    "import librosa\n",
    "import os\n",
    "import seaborn as sns\n",
    "import matplotlib.pyplot as plt\n",
    "from sklearn.metrics import confusion_matrix\n",
    "from sklearn.preprocessing import LabelEncoder\n",
    "from tensorflow.keras.utils import to_categorical\n",
    "from sklearn.model_selection import train_test_split\n",
    "from keras.models import Sequential\n",
    "from keras.layers import Conv2D, MaxPooling2D, Flatten, Dense, Dropout\n",
    "from tensorflow.keras.callbacks import ModelCheckpoint\n",
    "from tensorflow.keras.optimizers import Adam"
   ]
  },
  {
   "cell_type": "markdown",
   "id": "973c6db7",
   "metadata": {
    "papermill": {
     "duration": 0.00668,
     "end_time": "2024-01-31T09:16:08.704742",
     "exception": false,
     "start_time": "2024-01-31T09:16:08.698062",
     "status": "completed"
    },
    "tags": []
   },
   "source": [
    "## 加載音頻訊號"
   ]
  },
  {
   "cell_type": "code",
   "execution_count": 2,
   "id": "43b359f9",
   "metadata": {
    "execution": {
     "iopub.execute_input": "2024-01-31T09:16:08.721022Z",
     "iopub.status.busy": "2024-01-31T09:16:08.719828Z",
     "iopub.status.idle": "2024-01-31T09:16:08.724885Z",
     "shell.execute_reply": "2024-01-31T09:16:08.724071Z"
    },
    "papermill": {
     "duration": 0.015496,
     "end_time": "2024-01-31T09:16:08.727101",
     "exception": false,
     "start_time": "2024-01-31T09:16:08.711605",
     "status": "completed"
    },
    "tags": []
   },
   "outputs": [],
   "source": [
    "data_path = '/kaggle/input/recoding-data/UAV Recordings 3s/UAV Recordings 3s'"
   ]
  },
  {
   "cell_type": "markdown",
   "id": "15de4990",
   "metadata": {
    "papermill": {
     "duration": 0.006662,
     "end_time": "2024-01-31T09:16:08.740741",
     "exception": false,
     "start_time": "2024-01-31T09:16:08.734079",
     "status": "completed"
    },
    "tags": []
   },
   "source": [
    "## 音頻訊號進行MFCCs特徵提取"
   ]
  },
  {
   "cell_type": "code",
   "execution_count": 3,
   "id": "52b562a8",
   "metadata": {
    "execution": {
     "iopub.execute_input": "2024-01-31T09:16:08.757422Z",
     "iopub.status.busy": "2024-01-31T09:16:08.756467Z",
     "iopub.status.idle": "2024-01-31T09:18:09.723470Z",
     "shell.execute_reply": "2024-01-31T09:18:09.721687Z"
    },
    "papermill": {
     "duration": 120.980419,
     "end_time": "2024-01-31T09:18:09.728169",
     "exception": false,
     "start_time": "2024-01-31T09:16:08.747750",
     "status": "completed"
    },
    "tags": []
   },
   "outputs": [],
   "source": [
    "def load_data(data_dir):\n",
    "    datasets = []\n",
    "    labels = []\n",
    "    categories = os.listdir(data_dir)\n",
    "    for index, folder in enumerate(categories):\n",
    "        for filename in os.listdir(data_dir+\"/\"+folder):\n",
    "            data, sampling_rate = librosa.load(data_dir+\"/\"+folder+\"/\"+filename)\n",
    "            mfccs_features = librosa.feature.mfcc(y=data, sr=sampling_rate, n_mfcc=80)\n",
    "            mfccs_scaled_features = np.mean(mfccs_features.T,axis=0)\n",
    "            datasets.append(np.array(mfccs_scaled_features))\n",
    "            labels.append(categories[index])\n",
    "    return np.array(datasets), np.array(labels)\n",
    "\n",
    "datasets, labels = load_data(data_path)"
   ]
  },
  {
   "cell_type": "code",
   "execution_count": 4,
   "id": "4e0b0aff",
   "metadata": {
    "execution": {
     "iopub.execute_input": "2024-01-31T09:18:09.761908Z",
     "iopub.status.busy": "2024-01-31T09:18:09.759353Z",
     "iopub.status.idle": "2024-01-31T09:18:09.775444Z",
     "shell.execute_reply": "2024-01-31T09:18:09.773976Z"
    },
    "papermill": {
     "duration": 0.0375,
     "end_time": "2024-01-31T09:18:09.780598",
     "exception": false,
     "start_time": "2024-01-31T09:18:09.743098",
     "status": "completed"
    },
    "tags": []
   },
   "outputs": [],
   "source": [
    "datasets = datasets.reshape(datasets.shape[0],datasets.shape[1], 1, 1).astype('float32')\n",
    "\n",
    "labelencoder = LabelEncoder()\n",
    "\n",
    "labelsOneHot = to_categorical(labelencoder.fit_transform(labels))"
   ]
  },
  {
   "cell_type": "markdown",
   "id": "43927d0d",
   "metadata": {
    "papermill": {
     "duration": 0.013881,
     "end_time": "2024-01-31T09:18:09.808821",
     "exception": false,
     "start_time": "2024-01-31T09:18:09.794940",
     "status": "completed"
    },
    "tags": []
   },
   "source": [
    "## 切分成訓練資料、測試資料，8:2的比例"
   ]
  },
  {
   "cell_type": "code",
   "execution_count": 5,
   "id": "efd28232",
   "metadata": {
    "execution": {
     "iopub.execute_input": "2024-01-31T09:18:09.837566Z",
     "iopub.status.busy": "2024-01-31T09:18:09.837191Z",
     "iopub.status.idle": "2024-01-31T09:18:09.869104Z",
     "shell.execute_reply": "2024-01-31T09:18:09.867952Z"
    },
    "papermill": {
     "duration": 0.04836,
     "end_time": "2024-01-31T09:18:09.871509",
     "exception": false,
     "start_time": "2024-01-31T09:18:09.823149",
     "status": "completed"
    },
    "tags": []
   },
   "outputs": [
    {
     "name": "stdout",
     "output_type": "stream",
     "text": [
      "----------Train-------------\n",
      "(1504, 80, 1, 1)\n",
      "----------Test--------------\n",
      "(376, 80, 1, 1)\n"
     ]
    }
   ],
   "source": [
    "X_train, X_test, y_train, y_test = train_test_split(datasets, labelsOneHot, test_size = 0.2, stratify = labelsOneHot, random_state = 3)\n",
    "\n",
    "print(\"----------Train-------------\")\n",
    "print(X_train.shape)\n",
    "\n",
    "print(\"----------Test--------------\")\n",
    "print(X_test.shape)"
   ]
  },
  {
   "cell_type": "markdown",
   "id": "d28306a1",
   "metadata": {
    "papermill": {
     "duration": 0.006615,
     "end_time": "2024-01-31T09:18:09.885209",
     "exception": false,
     "start_time": "2024-01-31T09:18:09.878594",
     "status": "completed"
    },
    "tags": []
   },
   "source": [
    "## 類別數量"
   ]
  },
  {
   "cell_type": "code",
   "execution_count": 6,
   "id": "80f860c3",
   "metadata": {
    "execution": {
     "iopub.execute_input": "2024-01-31T09:18:09.901354Z",
     "iopub.status.busy": "2024-01-31T09:18:09.900373Z",
     "iopub.status.idle": "2024-01-31T09:18:09.905861Z",
     "shell.execute_reply": "2024-01-31T09:18:09.905030Z"
    },
    "papermill": {
     "duration": 0.016016,
     "end_time": "2024-01-31T09:18:09.908093",
     "exception": false,
     "start_time": "2024-01-31T09:18:09.892077",
     "status": "completed"
    },
    "tags": []
   },
   "outputs": [],
   "source": [
    "num_classes = len(np.unique(labels))"
   ]
  },
  {
   "cell_type": "markdown",
   "id": "84521c15",
   "metadata": {
    "papermill": {
     "duration": 0.006836,
     "end_time": "2024-01-31T09:18:09.922010",
     "exception": false,
     "start_time": "2024-01-31T09:18:09.915174",
     "status": "completed"
    },
    "tags": []
   },
   "source": [
    "## 建立CNN模型"
   ]
  },
  {
   "cell_type": "code",
   "execution_count": 7,
   "id": "5e900e7b",
   "metadata": {
    "execution": {
     "iopub.execute_input": "2024-01-31T09:18:09.938823Z",
     "iopub.status.busy": "2024-01-31T09:18:09.938099Z",
     "iopub.status.idle": "2024-01-31T09:18:10.212711Z",
     "shell.execute_reply": "2024-01-31T09:18:10.211634Z"
    },
    "papermill": {
     "duration": 0.286005,
     "end_time": "2024-01-31T09:18:10.215464",
     "exception": false,
     "start_time": "2024-01-31T09:18:09.929459",
     "status": "completed"
    },
    "tags": []
   },
   "outputs": [],
   "source": [
    "# 建立一個Sequential模型\n",
    "model = Sequential()\n",
    "\n",
    "# 第一層卷積層，32個3x3的過濾器\n",
    "model.add(Conv2D(32, kernel_size=(5, 5), padding='same',activation='relu', input_shape=(datasets.shape[1],1,1)))\n",
    "\n",
    "# 池化層，池化窗口大小為2x2\n",
    "model.add(MaxPooling2D(pool_size=(2,2), padding='same'))\n",
    "\n",
    "# 第二層卷積層，128個3x3的過濾器\n",
    "model.add(Conv2D(64, kernel_size=(5, 5), padding='same', activation='relu'))\n",
    "\n",
    "# 池化層，池化窗口大小為2x2\n",
    "model.add(MaxPooling2D(pool_size=(2,2), padding='same'))\n",
    "\n",
    "# 第三層卷積層，256個3x3的過濾器\n",
    "model.add(Conv2D(256, kernel_size=(5, 5), padding='same', activation='relu'))\n",
    "\n",
    "# 池化層，池化窗口大小為2x2\n",
    "model.add(MaxPooling2D(pool_size=(2,2), padding='same'))\n",
    "\n",
    "# Dropout層，隨機丟棄25%的神經元\n",
    "model.add(Dropout(0.25))\n",
    "\n",
    "# Flatten層，將多維輸入一維化，常用在從卷積層到全連接層的過渡\n",
    "model.add(Flatten())\n",
    "\n",
    "# 全連接層，128個輸出單元\n",
    "model.add(Dense(256, activation='relu'))\n",
    "\n",
    "# 輸出層，有5個類別，所以輸出層的輸出維度為5\n",
    "model.add(Dense(num_classes, activation='softmax'))"
   ]
  },
  {
   "cell_type": "code",
   "execution_count": 8,
   "id": "891f5476",
   "metadata": {
    "execution": {
     "iopub.execute_input": "2024-01-31T09:18:10.231451Z",
     "iopub.status.busy": "2024-01-31T09:18:10.231063Z",
     "iopub.status.idle": "2024-01-31T09:18:10.289542Z",
     "shell.execute_reply": "2024-01-31T09:18:10.288264Z"
    },
    "papermill": {
     "duration": 0.06935,
     "end_time": "2024-01-31T09:18:10.291902",
     "exception": false,
     "start_time": "2024-01-31T09:18:10.222552",
     "status": "completed"
    },
    "tags": []
   },
   "outputs": [
    {
     "name": "stdout",
     "output_type": "stream",
     "text": [
      "Model: \"sequential\"\n",
      "_________________________________________________________________\n",
      " Layer (type)                Output Shape              Param #   \n",
      "=================================================================\n",
      " conv2d (Conv2D)             (None, 80, 1, 32)         832       \n",
      "                                                                 \n",
      " max_pooling2d (MaxPooling2  (None, 40, 1, 32)         0         \n",
      " D)                                                              \n",
      "                                                                 \n",
      " conv2d_1 (Conv2D)           (None, 40, 1, 64)         51264     \n",
      "                                                                 \n",
      " max_pooling2d_1 (MaxPoolin  (None, 20, 1, 64)         0         \n",
      " g2D)                                                            \n",
      "                                                                 \n",
      " conv2d_2 (Conv2D)           (None, 20, 1, 256)        409856    \n",
      "                                                                 \n",
      " max_pooling2d_2 (MaxPoolin  (None, 10, 1, 256)        0         \n",
      " g2D)                                                            \n",
      "                                                                 \n",
      " dropout (Dropout)           (None, 10, 1, 256)        0         \n",
      "                                                                 \n",
      " flatten (Flatten)           (None, 2560)              0         \n",
      "                                                                 \n",
      " dense (Dense)               (None, 256)               655616    \n",
      "                                                                 \n",
      " dense_1 (Dense)             (None, 5)                 1285      \n",
      "                                                                 \n",
      "=================================================================\n",
      "Total params: 1118853 (4.27 MB)\n",
      "Trainable params: 1118853 (4.27 MB)\n",
      "Non-trainable params: 0 (0.00 Byte)\n",
      "_________________________________________________________________\n"
     ]
    }
   ],
   "source": [
    "# 選擇損失函數、優化方法及成效衡量方式\n",
    "model.compile(optimizer='adam', loss='categorical_crossentropy', metrics=['accuracy'])\n",
    "model.summary()"
   ]
  },
  {
   "cell_type": "markdown",
   "id": "2f3d6a1d",
   "metadata": {
    "papermill": {
     "duration": 0.009736,
     "end_time": "2024-01-31T09:18:10.311493",
     "exception": false,
     "start_time": "2024-01-31T09:18:10.301757",
     "status": "completed"
    },
    "tags": []
   },
   "source": [
    "## 訓練模型"
   ]
  },
  {
   "cell_type": "code",
   "execution_count": 9,
   "id": "195ef283",
   "metadata": {
    "execution": {
     "iopub.execute_input": "2024-01-31T09:18:10.334260Z",
     "iopub.status.busy": "2024-01-31T09:18:10.333819Z",
     "iopub.status.idle": "2024-01-31T09:20:36.016341Z",
     "shell.execute_reply": "2024-01-31T09:20:36.015050Z"
    },
    "papermill": {
     "duration": 145.696736,
     "end_time": "2024-01-31T09:20:36.019085",
     "exception": false,
     "start_time": "2024-01-31T09:18:10.322349",
     "status": "completed"
    },
    "tags": []
   },
   "outputs": [
    {
     "name": "stdout",
     "output_type": "stream",
     "text": [
      "Epoch 1/100\n",
      "13/13 - 3s - loss: 1.5021 - accuracy: 0.3325 - val_loss: 1.3413 - val_accuracy: 0.4917 - 3s/epoch - 263ms/step\n",
      "Epoch 2/100\n",
      "13/13 - 1s - loss: 1.1354 - accuracy: 0.5270 - val_loss: 1.0680 - val_accuracy: 0.5316 - 1s/epoch - 107ms/step\n",
      "Epoch 3/100\n",
      "13/13 - 1s - loss: 0.9225 - accuracy: 0.6126 - val_loss: 0.7662 - val_accuracy: 0.6977 - 1s/epoch - 110ms/step\n",
      "Epoch 4/100\n",
      "13/13 - 1s - loss: 0.7647 - accuracy: 0.6791 - val_loss: 0.6748 - val_accuracy: 0.7209 - 1s/epoch - 111ms/step\n",
      "Epoch 5/100\n",
      "13/13 - 1s - loss: 0.6734 - accuracy: 0.7149 - val_loss: 0.6592 - val_accuracy: 0.7542 - 1s/epoch - 112ms/step\n",
      "Epoch 6/100\n",
      "13/13 - 1s - loss: 0.6763 - accuracy: 0.7382 - val_loss: 0.5824 - val_accuracy: 0.7508 - 1s/epoch - 106ms/step\n",
      "Epoch 7/100\n",
      "13/13 - 1s - loss: 0.6141 - accuracy: 0.7448 - val_loss: 0.6583 - val_accuracy: 0.7243 - 1s/epoch - 111ms/step\n",
      "Epoch 8/100\n",
      "13/13 - 1s - loss: 0.5931 - accuracy: 0.7681 - val_loss: 0.5702 - val_accuracy: 0.8140 - 1s/epoch - 110ms/step\n",
      "Epoch 9/100\n",
      "13/13 - 1s - loss: 0.5816 - accuracy: 0.7648 - val_loss: 0.5682 - val_accuracy: 0.7940 - 1s/epoch - 107ms/step\n",
      "Epoch 10/100\n",
      "13/13 - 1s - loss: 0.5107 - accuracy: 0.8071 - val_loss: 0.5223 - val_accuracy: 0.8173 - 1s/epoch - 106ms/step\n",
      "Epoch 11/100\n",
      "13/13 - 1s - loss: 0.4775 - accuracy: 0.8113 - val_loss: 0.4490 - val_accuracy: 0.8306 - 1s/epoch - 110ms/step\n",
      "Epoch 12/100\n",
      "13/13 - 1s - loss: 0.5117 - accuracy: 0.8022 - val_loss: 0.6163 - val_accuracy: 0.7475 - 1s/epoch - 111ms/step\n",
      "Epoch 13/100\n",
      "13/13 - 1s - loss: 0.6804 - accuracy: 0.7340 - val_loss: 0.5259 - val_accuracy: 0.8339 - 1s/epoch - 112ms/step\n",
      "Epoch 14/100\n",
      "13/13 - 1s - loss: 0.4837 - accuracy: 0.8138 - val_loss: 0.4885 - val_accuracy: 0.8405 - 1s/epoch - 107ms/step\n",
      "Epoch 15/100\n",
      "13/13 - 2s - loss: 0.5326 - accuracy: 0.7972 - val_loss: 0.3984 - val_accuracy: 0.8738 - 2s/epoch - 123ms/step\n",
      "Epoch 16/100\n",
      "13/13 - 2s - loss: 0.4135 - accuracy: 0.8346 - val_loss: 0.3813 - val_accuracy: 0.8339 - 2s/epoch - 127ms/step\n",
      "Epoch 17/100\n",
      "13/13 - 1s - loss: 0.3624 - accuracy: 0.8529 - val_loss: 0.3429 - val_accuracy: 0.8704 - 1s/epoch - 106ms/step\n",
      "Epoch 18/100\n",
      "13/13 - 1s - loss: 0.3812 - accuracy: 0.8545 - val_loss: 0.4069 - val_accuracy: 0.8538 - 1s/epoch - 106ms/step\n",
      "Epoch 19/100\n",
      "13/13 - 1s - loss: 0.4057 - accuracy: 0.8495 - val_loss: 0.3482 - val_accuracy: 0.8804 - 1s/epoch - 110ms/step\n",
      "Epoch 20/100\n",
      "13/13 - 1s - loss: 0.3115 - accuracy: 0.8845 - val_loss: 0.3717 - val_accuracy: 0.8704 - 1s/epoch - 107ms/step\n",
      "Epoch 21/100\n",
      "13/13 - 1s - loss: 0.5502 - accuracy: 0.7839 - val_loss: 0.4712 - val_accuracy: 0.8173 - 1s/epoch - 110ms/step\n",
      "Epoch 22/100\n",
      "13/13 - 1s - loss: 0.3989 - accuracy: 0.8504 - val_loss: 0.3547 - val_accuracy: 0.8738 - 1s/epoch - 106ms/step\n",
      "Epoch 23/100\n",
      "13/13 - 1s - loss: 0.3106 - accuracy: 0.8894 - val_loss: 0.3064 - val_accuracy: 0.8837 - 1s/epoch - 107ms/step\n",
      "Epoch 24/100\n",
      "13/13 - 1s - loss: 0.2687 - accuracy: 0.8994 - val_loss: 0.2793 - val_accuracy: 0.8970 - 1s/epoch - 110ms/step\n",
      "Epoch 25/100\n",
      "13/13 - 1s - loss: 0.2576 - accuracy: 0.9036 - val_loss: 0.2763 - val_accuracy: 0.8837 - 1s/epoch - 112ms/step\n",
      "Epoch 26/100\n",
      "13/13 - 1s - loss: 0.1889 - accuracy: 0.9244 - val_loss: 0.2979 - val_accuracy: 0.8870 - 1s/epoch - 112ms/step\n",
      "Epoch 27/100\n",
      "13/13 - 1s - loss: 0.2356 - accuracy: 0.9036 - val_loss: 0.2374 - val_accuracy: 0.9136 - 1s/epoch - 105ms/step\n",
      "Epoch 28/100\n",
      "13/13 - 1s - loss: 0.1855 - accuracy: 0.9343 - val_loss: 0.2245 - val_accuracy: 0.9136 - 1s/epoch - 108ms/step\n",
      "Epoch 29/100\n",
      "13/13 - 1s - loss: 0.1515 - accuracy: 0.9476 - val_loss: 0.2150 - val_accuracy: 0.9203 - 1s/epoch - 113ms/step\n",
      "Epoch 30/100\n",
      "13/13 - 1s - loss: 0.1468 - accuracy: 0.9443 - val_loss: 0.2018 - val_accuracy: 0.9336 - 1s/epoch - 111ms/step\n",
      "Epoch 31/100\n",
      "13/13 - 1s - loss: 0.1316 - accuracy: 0.9559 - val_loss: 0.2122 - val_accuracy: 0.9369 - 1s/epoch - 106ms/step\n",
      "Epoch 32/100\n",
      "13/13 - 1s - loss: 0.1206 - accuracy: 0.9584 - val_loss: 0.7170 - val_accuracy: 0.8140 - 1s/epoch - 104ms/step\n",
      "Epoch 33/100\n",
      "13/13 - 1s - loss: 0.5181 - accuracy: 0.8379 - val_loss: 0.3980 - val_accuracy: 0.8704 - 1s/epoch - 111ms/step\n",
      "Epoch 34/100\n",
      "13/13 - 1s - loss: 0.3160 - accuracy: 0.8869 - val_loss: 0.2759 - val_accuracy: 0.8804 - 1s/epoch - 104ms/step\n",
      "Epoch 35/100\n",
      "13/13 - 1s - loss: 0.2238 - accuracy: 0.9152 - val_loss: 0.2737 - val_accuracy: 0.8738 - 1s/epoch - 110ms/step\n",
      "Epoch 36/100\n",
      "13/13 - 1s - loss: 0.1791 - accuracy: 0.9285 - val_loss: 0.2261 - val_accuracy: 0.9136 - 1s/epoch - 109ms/step\n",
      "Epoch 37/100\n",
      "13/13 - 1s - loss: 0.1806 - accuracy: 0.9310 - val_loss: 0.2534 - val_accuracy: 0.9136 - 1s/epoch - 106ms/step\n",
      "Epoch 38/100\n",
      "13/13 - 2s - loss: 0.1858 - accuracy: 0.9335 - val_loss: 0.2318 - val_accuracy: 0.9236 - 2s/epoch - 130ms/step\n",
      "Epoch 39/100\n",
      "13/13 - 2s - loss: 0.1342 - accuracy: 0.9543 - val_loss: 0.2171 - val_accuracy: 0.9236 - 2s/epoch - 120ms/step\n",
      "Epoch 40/100\n",
      "13/13 - 1s - loss: 0.1335 - accuracy: 0.9518 - val_loss: 0.2105 - val_accuracy: 0.9302 - 1s/epoch - 106ms/step\n",
      "Epoch 41/100\n",
      "13/13 - 1s - loss: 0.1016 - accuracy: 0.9667 - val_loss: 0.1797 - val_accuracy: 0.9468 - 1s/epoch - 112ms/step\n",
      "Epoch 42/100\n",
      "13/13 - 1s - loss: 0.0832 - accuracy: 0.9717 - val_loss: 0.1731 - val_accuracy: 0.9336 - 1s/epoch - 115ms/step\n",
      "Epoch 43/100\n",
      "13/13 - 1s - loss: 0.0707 - accuracy: 0.9809 - val_loss: 0.2065 - val_accuracy: 0.9236 - 1s/epoch - 106ms/step\n",
      "Epoch 44/100\n",
      "13/13 - 1s - loss: 0.0671 - accuracy: 0.9784 - val_loss: 0.1946 - val_accuracy: 0.9402 - 1s/epoch - 107ms/step\n",
      "Epoch 45/100\n",
      "13/13 - 1s - loss: 0.0639 - accuracy: 0.9800 - val_loss: 0.1852 - val_accuracy: 0.9236 - 1s/epoch - 106ms/step\n",
      "Epoch 46/100\n",
      "13/13 - 1s - loss: 0.0622 - accuracy: 0.9792 - val_loss: 0.1628 - val_accuracy: 0.9402 - 1s/epoch - 111ms/step\n",
      "Epoch 47/100\n",
      "13/13 - 1s - loss: 0.0515 - accuracy: 0.9825 - val_loss: 0.1707 - val_accuracy: 0.9435 - 1s/epoch - 111ms/step\n",
      "Epoch 48/100\n",
      "13/13 - 1s - loss: 0.0469 - accuracy: 0.9900 - val_loss: 0.1658 - val_accuracy: 0.9468 - 1s/epoch - 106ms/step\n",
      "Epoch 49/100\n",
      "13/13 - 1s - loss: 0.0422 - accuracy: 0.9884 - val_loss: 0.1671 - val_accuracy: 0.9402 - 1s/epoch - 114ms/step\n",
      "Epoch 50/100\n",
      "13/13 - 1s - loss: 0.0374 - accuracy: 0.9925 - val_loss: 0.1701 - val_accuracy: 0.9535 - 1s/epoch - 106ms/step\n",
      "Epoch 51/100\n",
      "13/13 - 1s - loss: 0.0374 - accuracy: 0.9917 - val_loss: 0.1717 - val_accuracy: 0.9535 - 1s/epoch - 107ms/step\n",
      "Epoch 52/100\n",
      "13/13 - 1s - loss: 0.0399 - accuracy: 0.9875 - val_loss: 0.1880 - val_accuracy: 0.9336 - 1s/epoch - 106ms/step\n",
      "Epoch 53/100\n",
      "13/13 - 1s - loss: 0.0492 - accuracy: 0.9859 - val_loss: 0.2011 - val_accuracy: 0.9336 - 1s/epoch - 105ms/step\n",
      "Epoch 54/100\n",
      "13/13 - 1s - loss: 0.0575 - accuracy: 0.9784 - val_loss: 0.1962 - val_accuracy: 0.9402 - 1s/epoch - 106ms/step\n",
      "Epoch 55/100\n",
      "13/13 - 1s - loss: 0.0471 - accuracy: 0.9834 - val_loss: 0.1645 - val_accuracy: 0.9635 - 1s/epoch - 106ms/step\n",
      "Epoch 56/100\n",
      "13/13 - 1s - loss: 0.0292 - accuracy: 0.9925 - val_loss: 0.1628 - val_accuracy: 0.9502 - 1s/epoch - 106ms/step\n",
      "Epoch 57/100\n",
      "13/13 - 1s - loss: 0.0243 - accuracy: 0.9933 - val_loss: 0.2049 - val_accuracy: 0.9402 - 1s/epoch - 112ms/step\n",
      "Epoch 58/100\n",
      "13/13 - 1s - loss: 0.0428 - accuracy: 0.9850 - val_loss: 0.1670 - val_accuracy: 0.9568 - 1s/epoch - 105ms/step\n",
      "Epoch 59/100\n",
      "13/13 - 1s - loss: 0.0262 - accuracy: 0.9942 - val_loss: 0.1706 - val_accuracy: 0.9435 - 1s/epoch - 110ms/step\n",
      "Epoch 60/100\n",
      "13/13 - 1s - loss: 0.0243 - accuracy: 0.9933 - val_loss: 0.1867 - val_accuracy: 0.9502 - 1s/epoch - 113ms/step\n",
      "Epoch 61/100\n",
      "13/13 - 2s - loss: 0.0274 - accuracy: 0.9933 - val_loss: 0.2383 - val_accuracy: 0.9269 - 2s/epoch - 136ms/step\n",
      "Epoch 62/100\n",
      "13/13 - 1s - loss: 0.0327 - accuracy: 0.9875 - val_loss: 0.2045 - val_accuracy: 0.9435 - 1s/epoch - 113ms/step\n",
      "Epoch 63/100\n",
      "13/13 - 1s - loss: 0.0236 - accuracy: 0.9933 - val_loss: 0.1760 - val_accuracy: 0.9435 - 1s/epoch - 111ms/step\n",
      "Epoch 64/100\n",
      "13/13 - 1s - loss: 0.0180 - accuracy: 0.9967 - val_loss: 0.1431 - val_accuracy: 0.9502 - 1s/epoch - 106ms/step\n",
      "Epoch 65/100\n",
      "13/13 - 1s - loss: 0.0338 - accuracy: 0.9884 - val_loss: 0.2131 - val_accuracy: 0.9302 - 1s/epoch - 106ms/step\n",
      "Epoch 66/100\n",
      "13/13 - 1s - loss: 0.0301 - accuracy: 0.9925 - val_loss: 0.1773 - val_accuracy: 0.9468 - 1s/epoch - 111ms/step\n",
      "Epoch 67/100\n",
      "13/13 - 1s - loss: 0.0201 - accuracy: 0.9967 - val_loss: 0.1625 - val_accuracy: 0.9369 - 1s/epoch - 107ms/step\n",
      "Epoch 68/100\n",
      "13/13 - 1s - loss: 0.0275 - accuracy: 0.9925 - val_loss: 0.1609 - val_accuracy: 0.9601 - 1s/epoch - 105ms/step\n",
      "Epoch 69/100\n",
      "13/13 - 1s - loss: 0.0297 - accuracy: 0.9917 - val_loss: 0.1951 - val_accuracy: 0.9402 - 1s/epoch - 112ms/step\n",
      "Epoch 70/100\n",
      "13/13 - 1s - loss: 0.0194 - accuracy: 0.9958 - val_loss: 0.2192 - val_accuracy: 0.9203 - 1s/epoch - 109ms/step\n",
      "Epoch 71/100\n",
      "13/13 - 1s - loss: 0.0238 - accuracy: 0.9933 - val_loss: 0.1672 - val_accuracy: 0.9402 - 1s/epoch - 106ms/step\n",
      "Epoch 72/100\n",
      "13/13 - 1s - loss: 0.0128 - accuracy: 0.9983 - val_loss: 0.1560 - val_accuracy: 0.9601 - 1s/epoch - 106ms/step\n",
      "Epoch 73/100\n",
      "13/13 - 1s - loss: 0.0112 - accuracy: 0.9975 - val_loss: 0.1589 - val_accuracy: 0.9535 - 1s/epoch - 106ms/step\n",
      "Epoch 74/100\n",
      "13/13 - 1s - loss: 0.0109 - accuracy: 0.9983 - val_loss: 0.1739 - val_accuracy: 0.9369 - 1s/epoch - 112ms/step\n",
      "Epoch 75/100\n",
      "13/13 - 1s - loss: 0.0092 - accuracy: 0.9983 - val_loss: 0.1583 - val_accuracy: 0.9601 - 1s/epoch - 111ms/step\n",
      "Epoch 76/100\n",
      "13/13 - 1s - loss: 0.0073 - accuracy: 1.0000 - val_loss: 0.1719 - val_accuracy: 0.9502 - 1s/epoch - 106ms/step\n",
      "Epoch 77/100\n",
      "13/13 - 1s - loss: 0.0085 - accuracy: 0.9983 - val_loss: 0.1733 - val_accuracy: 0.9568 - 1s/epoch - 111ms/step\n",
      "Epoch 78/100\n",
      "13/13 - 1s - loss: 0.0078 - accuracy: 0.9983 - val_loss: 0.1775 - val_accuracy: 0.9502 - 1s/epoch - 109ms/step\n",
      "Epoch 79/100\n",
      "13/13 - 1s - loss: 0.0067 - accuracy: 1.0000 - val_loss: 0.1578 - val_accuracy: 0.9535 - 1s/epoch - 112ms/step\n",
      "Epoch 80/100\n",
      "13/13 - 1s - loss: 0.0065 - accuracy: 0.9992 - val_loss: 0.1680 - val_accuracy: 0.9668 - 1s/epoch - 112ms/step\n",
      "Epoch 81/100\n",
      "13/13 - 1s - loss: 0.0060 - accuracy: 1.0000 - val_loss: 0.1653 - val_accuracy: 0.9568 - 1s/epoch - 111ms/step\n",
      "Epoch 82/100\n",
      "13/13 - 1s - loss: 0.0072 - accuracy: 0.9983 - val_loss: 0.1860 - val_accuracy: 0.9468 - 1s/epoch - 108ms/step\n",
      "Epoch 83/100\n",
      "13/13 - 2s - loss: 0.0065 - accuracy: 1.0000 - val_loss: 0.1761 - val_accuracy: 0.9535 - 2s/epoch - 132ms/step\n",
      "Epoch 84/100\n",
      "13/13 - 2s - loss: 0.0043 - accuracy: 1.0000 - val_loss: 0.1693 - val_accuracy: 0.9568 - 2s/epoch - 121ms/step\n",
      "Epoch 85/100\n",
      "13/13 - 1s - loss: 0.0032 - accuracy: 1.0000 - val_loss: 0.1687 - val_accuracy: 0.9535 - 1s/epoch - 107ms/step\n",
      "Epoch 86/100\n",
      "13/13 - 1s - loss: 0.0046 - accuracy: 0.9992 - val_loss: 0.1693 - val_accuracy: 0.9535 - 1s/epoch - 111ms/step\n",
      "Epoch 87/100\n",
      "13/13 - 1s - loss: 0.0054 - accuracy: 0.9983 - val_loss: 0.1739 - val_accuracy: 0.9535 - 1s/epoch - 107ms/step\n",
      "Epoch 88/100\n",
      "13/13 - 1s - loss: 0.0037 - accuracy: 0.9992 - val_loss: 0.1715 - val_accuracy: 0.9502 - 1s/epoch - 110ms/step\n",
      "Epoch 89/100\n",
      "13/13 - 1s - loss: 0.0040 - accuracy: 1.0000 - val_loss: 0.2116 - val_accuracy: 0.9435 - 1s/epoch - 111ms/step\n",
      "Epoch 90/100\n",
      "13/13 - 1s - loss: 0.0674 - accuracy: 0.9784 - val_loss: 0.1848 - val_accuracy: 0.9402 - 1s/epoch - 112ms/step\n",
      "Epoch 91/100\n",
      "13/13 - 1s - loss: 0.0540 - accuracy: 0.9817 - val_loss: 0.3489 - val_accuracy: 0.9003 - 1s/epoch - 110ms/step\n",
      "Epoch 92/100\n",
      "13/13 - 1s - loss: 0.0358 - accuracy: 0.9867 - val_loss: 0.1769 - val_accuracy: 0.9435 - 1s/epoch - 107ms/step\n",
      "Epoch 93/100\n",
      "13/13 - 1s - loss: 0.0171 - accuracy: 0.9950 - val_loss: 0.1509 - val_accuracy: 0.9568 - 1s/epoch - 111ms/step\n",
      "Epoch 94/100\n",
      "13/13 - 1s - loss: 0.0333 - accuracy: 0.9859 - val_loss: 0.2047 - val_accuracy: 0.9601 - 1s/epoch - 113ms/step\n",
      "Epoch 95/100\n",
      "13/13 - 1s - loss: 0.0338 - accuracy: 0.9884 - val_loss: 0.1513 - val_accuracy: 0.9668 - 1s/epoch - 106ms/step\n",
      "Epoch 96/100\n",
      "13/13 - 1s - loss: 0.0175 - accuracy: 0.9975 - val_loss: 0.1669 - val_accuracy: 0.9568 - 1s/epoch - 106ms/step\n",
      "Epoch 97/100\n",
      "13/13 - 1s - loss: 0.0083 - accuracy: 0.9992 - val_loss: 0.1635 - val_accuracy: 0.9435 - 1s/epoch - 111ms/step\n",
      "Epoch 98/100\n",
      "13/13 - 1s - loss: 0.0074 - accuracy: 0.9983 - val_loss: 0.1538 - val_accuracy: 0.9601 - 1s/epoch - 111ms/step\n",
      "Epoch 99/100\n",
      "13/13 - 1s - loss: 0.0044 - accuracy: 0.9992 - val_loss: 0.1530 - val_accuracy: 0.9535 - 1s/epoch - 112ms/step\n",
      "Epoch 100/100\n",
      "13/13 - 1s - loss: 0.0030 - accuracy: 1.0000 - val_loss: 0.1727 - val_accuracy: 0.9435 - 1s/epoch - 113ms/step\n"
     ]
    }
   ],
   "source": [
    "train_history = model.fit(X_train, y_train, validation_split=0.2, batch_size = 100, epochs = 100, verbose=2)"
   ]
  },
  {
   "cell_type": "markdown",
   "id": "7d3e0f13",
   "metadata": {
    "papermill": {
     "duration": 0.027633,
     "end_time": "2024-01-31T09:20:36.074940",
     "exception": false,
     "start_time": "2024-01-31T09:20:36.047307",
     "status": "completed"
    },
    "tags": []
   },
   "source": [
    "## 評估訓練結果"
   ]
  },
  {
   "cell_type": "code",
   "execution_count": 10,
   "id": "fc7bca20",
   "metadata": {
    "execution": {
     "iopub.execute_input": "2024-01-31T09:20:36.132745Z",
     "iopub.status.busy": "2024-01-31T09:20:36.132314Z",
     "iopub.status.idle": "2024-01-31T09:20:36.706696Z",
     "shell.execute_reply": "2024-01-31T09:20:36.705551Z"
    },
    "papermill": {
     "duration": 0.606574,
     "end_time": "2024-01-31T09:20:36.709527",
     "exception": false,
     "start_time": "2024-01-31T09:20:36.102953",
     "status": "completed"
    },
    "tags": []
   },
   "outputs": [
    {
     "data": {
      "image/png": "[encoded data removed]",
      "text/plain": [
       "<Figure size 640x480 with 1 Axes>"
      ]
     },
     "metadata": {},
     "output_type": "display_data"
    },
    {
     "data": {
      "image/png": "[encoded data removed]",
      "text/plain": [
       "<Figure size 640x480 with 1 Axes>"
      ]
     },
     "metadata": {},
     "output_type": "display_data"
    }
   ],
   "source": [
    "def show_train_history(train_history, train, validation):\n",
    "\n",
    "    plt.plot(train_history.history[train])\n",
    "\n",
    "    plt.plot(train_history.history[validation])\n",
    "\n",
    "    plt.title('Train History')\n",
    "\n",
    "    plt.ylabel('train')\n",
    "\n",
    "    plt.xlabel('Epoch')\n",
    "\n",
    "    plt.legend(['train', 'validation'], loc='upper left')\n",
    "\n",
    "    plt.show()\n",
    "    \n",
    "\n",
    "show_train_history(train_history, 'accuracy', 'val_accuracy')\n",
    "show_train_history(train_history, 'loss', 'val_loss')"
   ]
  },
  {
   "cell_type": "markdown",
   "id": "3632ed2b",
   "metadata": {
    "papermill": {
     "duration": 0.029603,
     "end_time": "2024-01-31T09:20:36.768708",
     "exception": false,
     "start_time": "2024-01-31T09:20:36.739105",
     "status": "completed"
    },
    "tags": []
   },
   "source": [
    "## 使用未參與訓練的測試資料測試，模型準確率"
   ]
  },
  {
   "cell_type": "code",
   "execution_count": 11,
   "id": "65db50e9",
   "metadata": {
    "execution": {
     "iopub.execute_input": "2024-01-31T09:20:36.830660Z",
     "iopub.status.busy": "2024-01-31T09:20:36.829745Z",
     "iopub.status.idle": "2024-01-31T09:20:37.029318Z",
     "shell.execute_reply": "2024-01-31T09:20:37.028095Z"
    },
    "papermill": {
     "duration": 0.233476,
     "end_time": "2024-01-31T09:20:37.031943",
     "exception": false,
     "start_time": "2024-01-31T09:20:36.798467",
     "status": "completed"
    },
    "tags": []
   },
   "outputs": [
    {
     "name": "stdout",
     "output_type": "stream",
     "text": [
      "Accuracy =  0.9521276354789734\n"
     ]
    }
   ],
   "source": [
    "scores = model.evaluate(X_test,y_test,verbose=0)\n",
    "\n",
    "print('Accuracy = ', scores[1])"
   ]
  },
  {
   "cell_type": "markdown",
   "id": "cad88719",
   "metadata": {
    "papermill": {
     "duration": 0.031133,
     "end_time": "2024-01-31T09:20:37.159485",
     "exception": false,
     "start_time": "2024-01-31T09:20:37.128352",
     "status": "completed"
    },
    "tags": []
   },
   "source": [
    "## 評估訓練結果"
   ]
  },
  {
   "cell_type": "code",
   "execution_count": 12,
   "id": "ffeafe70",
   "metadata": {
    "execution": {
     "iopub.execute_input": "2024-01-31T09:20:37.223219Z",
     "iopub.status.busy": "2024-01-31T09:20:37.222416Z",
     "iopub.status.idle": "2024-01-31T09:20:38.054237Z",
     "shell.execute_reply": "2024-01-31T09:20:38.052790Z"
    },
    "papermill": {
     "duration": 0.866491,
     "end_time": "2024-01-31T09:20:38.056801",
     "exception": false,
     "start_time": "2024-01-31T09:20:37.190310",
     "status": "completed"
    },
    "tags": []
   },
   "outputs": [
    {
     "name": "stdout",
     "output_type": "stream",
     "text": [
      "12/12 [==============================] - 0s 11ms/step\n"
     ]
    },
    {
     "data": {
      "image/png": "[encoded data removed]",
      "text/plain": [
       "<Figure size 1000x700 with 2 Axes>"
      ]
     },
     "metadata": {},
     "output_type": "display_data"
    }
   ],
   "source": [
    "y_pred = np.argmax(model.predict(X_test), axis=-1)\n",
    "y_true = np.argmax(y_test, axis=-1)\n",
    "confusion_matrix = confusion_matrix(y_true, y_pred)\n",
    "\n",
    "plt.figure(figsize=(10,7))\n",
    "sns.heatmap(confusion_matrix, annot=True, fmt='d')\n",
    "plt.xlabel('Predicted')\n",
    "plt.ylabel('Truth')\n",
    "plt.show()"
   ]
  }
 ],
 "metadata": {
  "kaggle": {
   "accelerator": "none",
   "dataSources": [
    {
     "datasetId": 4275198,
     "sourceId": 7518995,
     "sourceType": "datasetVersion"
    }
   ],
   "dockerImageVersionId": 30635,
   "isGpuEnabled": false,
   "isInternetEnabled": false,
   "language": "python",
   "sourceType": "notebook"
  },
  "kernelspec": {
   "display_name": "Python 3",
   "language": "python",
   "name": "python3"
  },
  "language_info": {
   "codemirror_mode": {
    "name": "ipython",
    "version": 3
   },
   "file_extension": ".py",
   "mimetype": "text/x-python",
   "name": "python",
   "nbconvert_exporter": "python",
   "pygments_lexer": "ipython3",
   "version": "3.10.12"
  },
  "papermill": {
   "default_parameters": {},
   "duration": 294.263476,
   "end_time": "2024-01-31T09:20:40.115906",
   "environment_variables": {},
   "exception": null,
   "input_path": "__notebook__.ipynb",
   "output_path": "__notebook__.ipynb",
   "parameters": {},
   "start_time": "2024-01-31T09:15:45.852430",
   "version": "2.4.0"
  }
 },
 "nbformat": 4,
 "nbformat_minor": 5
}
