{
 "cells": [
  {
   "cell_type": "markdown",
   "id": "88a16615",
   "metadata": {
    "papermill": {
     "duration": 0.006576,
     "end_time": "2024-01-31T08:23:12.988286",
     "exception": false,
     "start_time": "2024-01-31T08:23:12.981710",
     "status": "completed"
    },
    "tags": []
   },
   "source": [
    "## Importing the libraries"
   ]
  },
  {
   "cell_type": "code",
   "execution_count": 1,
   "id": "89f04c47",
   "metadata": {
    "_cell_guid": "b1076dfc-b9ad-4769-8c92-a6c4dae69d19",
    "_uuid": "8f2839f25d086af736a60e9eeb907d3b93b6e0e5",
    "execution": {
     "iopub.execute_input": "2024-01-31T08:23:13.004853Z",
     "iopub.status.busy": "2024-01-31T08:23:13.002575Z",
     "iopub.status.idle": "2024-01-31T08:23:29.518501Z",
     "shell.execute_reply": "2024-01-31T08:23:29.517081Z"
    },
    "papermill": {
     "duration": 16.52724,
     "end_time": "2024-01-31T08:23:29.521771",
     "exception": false,
     "start_time": "2024-01-31T08:23:12.994531",
     "status": "completed"
    },
    "tags": []
   },
   "outputs": [],
   "source": [
    "import numpy as np\n",
    "import pandas as pd\n",
    "import librosa\n",
    "import os\n",
    "import seaborn as sns\n",
    "import matplotlib.pyplot as plt\n",
    "from sklearn.metrics import confusion_matrix\n",
    "from sklearn.preprocessing import LabelEncoder\n",
    "from tensorflow.keras.utils import to_categorical\n",
    "from sklearn.model_selection import train_test_split\n",
    "from tensorflow.keras.models import Sequential\n",
    "from tensorflow.keras.layers import Dense,Dropout,Activation,Flatten\n",
    "from tensorflow.keras.callbacks import ModelCheckpoint\n",
    "from tensorflow.keras.optimizers import Adam"
   ]
  },
  {
   "cell_type": "markdown",
   "id": "7150243f",
   "metadata": {
    "papermill": {
     "duration": 0.006414,
     "end_time": "2024-01-31T08:23:29.535023",
     "exception": false,
     "start_time": "2024-01-31T08:23:29.528609",
     "status": "completed"
    },
    "tags": []
   },
   "source": [
    "## 加載音頻訊號"
   ]
  },
  {
   "cell_type": "code",
   "execution_count": 2,
   "id": "91878de9",
   "metadata": {
    "execution": {
     "iopub.execute_input": "2024-01-31T08:23:29.553378Z",
     "iopub.status.busy": "2024-01-31T08:23:29.551622Z",
     "iopub.status.idle": "2024-01-31T08:23:29.558631Z",
     "shell.execute_reply": "2024-01-31T08:23:29.557602Z"
    },
    "papermill": {
     "duration": 0.019093,
     "end_time": "2024-01-31T08:23:29.561511",
     "exception": false,
     "start_time": "2024-01-31T08:23:29.542418",
     "status": "completed"
    },
    "tags": []
   },
   "outputs": [],
   "source": [
    "data_path = '/kaggle/input/recoding-data/UAV Recordings 3s/UAV Recordings 3s'"
   ]
  },
  {
   "cell_type": "markdown",
   "id": "cedefe5f",
   "metadata": {
    "papermill": {
     "duration": 0.006822,
     "end_time": "2024-01-31T08:23:29.575166",
     "exception": false,
     "start_time": "2024-01-31T08:23:29.568344",
     "status": "completed"
    },
    "tags": []
   },
   "source": [
    "## 音頻訊號進行MFCCs特徵提取"
   ]
  },
  {
   "cell_type": "code",
   "execution_count": 3,
   "id": "5f577644",
   "metadata": {
    "execution": {
     "iopub.execute_input": "2024-01-31T08:23:29.591414Z",
     "iopub.status.busy": "2024-01-31T08:23:29.590588Z",
     "iopub.status.idle": "2024-01-31T08:25:37.318205Z",
     "shell.execute_reply": "2024-01-31T08:25:37.316049Z"
    },
    "papermill": {
     "duration": 127.741594,
     "end_time": "2024-01-31T08:25:37.323392",
     "exception": false,
     "start_time": "2024-01-31T08:23:29.581798",
     "status": "completed"
    },
    "tags": []
   },
   "outputs": [],
   "source": [
    "def load_data(data_dir):\n",
    "    datasets = []\n",
    "    labels = []\n",
    "    categories = os.listdir(data_dir)\n",
    "    for index, folder in enumerate(categories):\n",
    "        for filename in os.listdir(data_dir+\"/\"+folder):\n",
    "            data, sampling_rate = librosa.load(data_dir+\"/\"+folder+\"/\"+filename)\n",
    "            mfccs_features = librosa.feature.mfcc(y=data, sr=sampling_rate, n_mfcc=80)\n",
    "            mfccs_scaled_features = np.mean(mfccs_features.T,axis=0)\n",
    "            datasets.append(np.array(mfccs_scaled_features))\n",
    "            labels.append(categories[index])\n",
    "    return np.array(datasets), np.array(labels)\n",
    "\n",
    "datasets, labels = load_data(data_path)"
   ]
  },
  {
   "cell_type": "code",
   "execution_count": 4,
   "id": "6cdfc6af",
   "metadata": {
    "execution": {
     "iopub.execute_input": "2024-01-31T08:25:37.372594Z",
     "iopub.status.busy": "2024-01-31T08:25:37.371158Z",
     "iopub.status.idle": "2024-01-31T08:25:37.390579Z",
     "shell.execute_reply": "2024-01-31T08:25:37.388715Z"
    },
    "papermill": {
     "duration": 0.056903,
     "end_time": "2024-01-31T08:25:37.394593",
     "exception": false,
     "start_time": "2024-01-31T08:25:37.337690",
     "status": "completed"
    },
    "tags": []
   },
   "outputs": [],
   "source": [
    "datasets = datasets.astype('float32')\n",
    "\n",
    "labelencoder = LabelEncoder()\n",
    "\n",
    "labelsOneHot = to_categorical(labelencoder.fit_transform(labels))"
   ]
  },
  {
   "cell_type": "markdown",
   "id": "edb71e4b",
   "metadata": {
    "papermill": {
     "duration": 0.011889,
     "end_time": "2024-01-31T08:25:37.426712",
     "exception": false,
     "start_time": "2024-01-31T08:25:37.414823",
     "status": "completed"
    },
    "tags": []
   },
   "source": [
    "## 切分成訓練資料、測試資料，8:2的比例"
   ]
  },
  {
   "cell_type": "code",
   "execution_count": 5,
   "id": "e16471c4",
   "metadata": {
    "execution": {
     "iopub.execute_input": "2024-01-31T08:25:37.444166Z",
     "iopub.status.busy": "2024-01-31T08:25:37.443744Z",
     "iopub.status.idle": "2024-01-31T08:25:37.475316Z",
     "shell.execute_reply": "2024-01-31T08:25:37.474201Z"
    },
    "papermill": {
     "duration": 0.042437,
     "end_time": "2024-01-31T08:25:37.478229",
     "exception": false,
     "start_time": "2024-01-31T08:25:37.435792",
     "status": "completed"
    },
    "tags": []
   },
   "outputs": [
    {
     "name": "stdout",
     "output_type": "stream",
     "text": [
      "----------Train-------------\n",
      "(1504, 80)\n",
      "----------Test--------------\n",
      "(376, 80)\n"
     ]
    }
   ],
   "source": [
    "X_train, X_test, y_train, y_test = train_test_split(datasets, labelsOneHot, test_size = 0.2, stratify = labelsOneHot, random_state = 3)\n",
    "\n",
    "print(\"----------Train-------------\")\n",
    "print(X_train.shape)\n",
    "\n",
    "print(\"----------Test--------------\")\n",
    "print(X_test.shape)"
   ]
  },
  {
   "cell_type": "code",
   "execution_count": 6,
   "id": "7993b192",
   "metadata": {
    "execution": {
     "iopub.execute_input": "2024-01-31T08:25:37.493337Z",
     "iopub.status.busy": "2024-01-31T08:25:37.492613Z",
     "iopub.status.idle": "2024-01-31T08:25:37.498546Z",
     "shell.execute_reply": "2024-01-31T08:25:37.497420Z"
    },
    "papermill": {
     "duration": 0.016226,
     "end_time": "2024-01-31T08:25:37.500884",
     "exception": false,
     "start_time": "2024-01-31T08:25:37.484658",
     "status": "completed"
    },
    "tags": []
   },
   "outputs": [],
   "source": [
    "num_classes = len(np.unique(labels))"
   ]
  },
  {
   "cell_type": "markdown",
   "id": "afc448e7",
   "metadata": {
    "papermill": {
     "duration": 0.006626,
     "end_time": "2024-01-31T08:25:37.514081",
     "exception": false,
     "start_time": "2024-01-31T08:25:37.507455",
     "status": "completed"
    },
    "tags": []
   },
   "source": [
    "## 建立 Neural Network 模型"
   ]
  },
  {
   "cell_type": "code",
   "execution_count": 7,
   "id": "e7193cb5",
   "metadata": {
    "execution": {
     "iopub.execute_input": "2024-01-31T08:25:37.529781Z",
     "iopub.status.busy": "2024-01-31T08:25:37.528622Z",
     "iopub.status.idle": "2024-01-31T08:25:37.750629Z",
     "shell.execute_reply": "2024-01-31T08:25:37.749443Z"
    },
    "papermill": {
     "duration": 0.232838,
     "end_time": "2024-01-31T08:25:37.753583",
     "exception": false,
     "start_time": "2024-01-31T08:25:37.520745",
     "status": "completed"
    },
    "tags": []
   },
   "outputs": [],
   "source": [
    "model=Sequential()\n",
    "\n",
    "#Input layer\n",
    "model.add(Flatten(input_shape=(80,)))\n",
    "\n",
    "#hidden layer 1\n",
    "model.add(Dense(512, Activation('relu')))\n",
    "\n",
    "#hidden layer 2\n",
    "model.add(Dense(128, Activation('relu')))\n",
    "\n",
    "#hidden layer 3\n",
    "model.add(Dense(64, Activation('relu')))\n",
    "\n",
    "# 使用Dropout防止過度擬合\n",
    "model.add(Dropout(0.25))\n",
    "\n",
    "#Output layer\n",
    "model.add(Dense(num_classes, Activation('softmax')))\n"
   ]
  },
  {
   "cell_type": "code",
   "execution_count": 8,
   "id": "53d84193",
   "metadata": {
    "execution": {
     "iopub.execute_input": "2024-01-31T08:25:37.769204Z",
     "iopub.status.busy": "2024-01-31T08:25:37.768425Z",
     "iopub.status.idle": "2024-01-31T08:25:37.821895Z",
     "shell.execute_reply": "2024-01-31T08:25:37.819993Z"
    },
    "papermill": {
     "duration": 0.064346,
     "end_time": "2024-01-31T08:25:37.824614",
     "exception": false,
     "start_time": "2024-01-31T08:25:37.760268",
     "status": "completed"
    },
    "tags": []
   },
   "outputs": [
    {
     "name": "stdout",
     "output_type": "stream",
     "text": [
      "Model: \"sequential\"\n",
      "_________________________________________________________________\n",
      " Layer (type)                Output Shape              Param #   \n",
      "=================================================================\n",
      " flatten (Flatten)           (None, 80)                0         \n",
      "                                                                 \n",
      " dense (Dense)               (None, 512)               41472     \n",
      "                                                                 \n",
      " dense_1 (Dense)             (None, 128)               65664     \n",
      "                                                                 \n",
      " dense_2 (Dense)             (None, 64)                8256      \n",
      "                                                                 \n",
      " dropout (Dropout)           (None, 64)                0         \n",
      "                                                                 \n",
      " dense_3 (Dense)             (None, 5)                 325       \n",
      "                                                                 \n",
      "=================================================================\n",
      "Total params: 115717 (452.02 KB)\n",
      "Trainable params: 115717 (452.02 KB)\n",
      "Non-trainable params: 0 (0.00 Byte)\n",
      "_________________________________________________________________\n"
     ]
    }
   ],
   "source": [
    "# 選擇損失函數、優化方法及成效衡量方式\n",
    "model.compile(optimizer='adam', loss='categorical_crossentropy', metrics=['accuracy'])\n",
    "\n",
    "model.summary()"
   ]
  },
  {
   "cell_type": "markdown",
   "id": "2ed52bb2",
   "metadata": {
    "papermill": {
     "duration": 0.008261,
     "end_time": "2024-01-31T08:25:37.841250",
     "exception": false,
     "start_time": "2024-01-31T08:25:37.832989",
     "status": "completed"
    },
    "tags": []
   },
   "source": [
    "## 模型訓練"
   ]
  },
  {
   "cell_type": "code",
   "execution_count": 9,
   "id": "e8e4759b",
   "metadata": {
    "execution": {
     "iopub.execute_input": "2024-01-31T08:25:37.861142Z",
     "iopub.status.busy": "2024-01-31T08:25:37.860331Z",
     "iopub.status.idle": "2024-01-31T08:25:59.653623Z",
     "shell.execute_reply": "2024-01-31T08:25:59.651933Z"
    },
    "papermill": {
     "duration": 21.807641,
     "end_time": "2024-01-31T08:25:59.657277",
     "exception": false,
     "start_time": "2024-01-31T08:25:37.849636",
     "status": "completed"
    },
    "tags": []
   },
   "outputs": [
    {
     "name": "stdout",
     "output_type": "stream",
     "text": [
      "Epoch 1/100\n",
      "13/13 - 2s - loss: 2.7396 - accuracy: 0.3134 - val_loss: 1.3453 - val_accuracy: 0.3654 - 2s/epoch - 145ms/step\n",
      "Epoch 2/100\n",
      "13/13 - 0s - loss: 1.3631 - accuracy: 0.4688 - val_loss: 0.9120 - val_accuracy: 0.6478 - 108ms/epoch - 8ms/step\n",
      "Epoch 3/100\n",
      "13/13 - 0s - loss: 1.0242 - accuracy: 0.5943 - val_loss: 0.7966 - val_accuracy: 0.6877 - 100ms/epoch - 8ms/step\n",
      "Epoch 4/100\n",
      "13/13 - 0s - loss: 0.9819 - accuracy: 0.5968 - val_loss: 0.7447 - val_accuracy: 0.7841 - 96ms/epoch - 7ms/step\n",
      "Epoch 5/100\n",
      "13/13 - 0s - loss: 0.8898 - accuracy: 0.6484 - val_loss: 0.7012 - val_accuracy: 0.7641 - 94ms/epoch - 7ms/step\n",
      "Epoch 6/100\n",
      "13/13 - 0s - loss: 0.7538 - accuracy: 0.7049 - val_loss: 0.5415 - val_accuracy: 0.8173 - 97ms/epoch - 7ms/step\n",
      "Epoch 7/100\n",
      "13/13 - 0s - loss: 0.6755 - accuracy: 0.7207 - val_loss: 0.6333 - val_accuracy: 0.7641 - 108ms/epoch - 8ms/step\n",
      "Epoch 8/100\n",
      "13/13 - 0s - loss: 0.7156 - accuracy: 0.7116 - val_loss: 0.5494 - val_accuracy: 0.8106 - 90ms/epoch - 7ms/step\n",
      "Epoch 9/100\n",
      "13/13 - 0s - loss: 0.6594 - accuracy: 0.7332 - val_loss: 0.5521 - val_accuracy: 0.7542 - 101ms/epoch - 8ms/step\n",
      "Epoch 10/100\n",
      "13/13 - 0s - loss: 0.6489 - accuracy: 0.7448 - val_loss: 0.7768 - val_accuracy: 0.6844 - 96ms/epoch - 7ms/step\n",
      "Epoch 11/100\n",
      "13/13 - 0s - loss: 0.7290 - accuracy: 0.7132 - val_loss: 0.6417 - val_accuracy: 0.7475 - 85ms/epoch - 7ms/step\n",
      "Epoch 12/100\n",
      "13/13 - 0s - loss: 0.6459 - accuracy: 0.7539 - val_loss: 0.4340 - val_accuracy: 0.8538 - 87ms/epoch - 7ms/step\n",
      "Epoch 13/100\n",
      "13/13 - 0s - loss: 0.5619 - accuracy: 0.7814 - val_loss: 0.3972 - val_accuracy: 0.8738 - 102ms/epoch - 8ms/step\n",
      "Epoch 14/100\n",
      "13/13 - 0s - loss: 0.4618 - accuracy: 0.8296 - val_loss: 0.3751 - val_accuracy: 0.8970 - 103ms/epoch - 8ms/step\n",
      "Epoch 15/100\n",
      "13/13 - 0s - loss: 0.4461 - accuracy: 0.8321 - val_loss: 0.3766 - val_accuracy: 0.8405 - 95ms/epoch - 7ms/step\n",
      "Epoch 16/100\n",
      "13/13 - 0s - loss: 0.4137 - accuracy: 0.8379 - val_loss: 0.3836 - val_accuracy: 0.8472 - 96ms/epoch - 7ms/step\n",
      "Epoch 17/100\n",
      "13/13 - 0s - loss: 0.4495 - accuracy: 0.8163 - val_loss: 0.4237 - val_accuracy: 0.8239 - 89ms/epoch - 7ms/step\n",
      "Epoch 18/100\n",
      "13/13 - 0s - loss: 0.5821 - accuracy: 0.7697 - val_loss: 0.4933 - val_accuracy: 0.8239 - 86ms/epoch - 7ms/step\n",
      "Epoch 19/100\n",
      "13/13 - 0s - loss: 0.4649 - accuracy: 0.8080 - val_loss: 0.3401 - val_accuracy: 0.8704 - 103ms/epoch - 8ms/step\n",
      "Epoch 20/100\n",
      "13/13 - 0s - loss: 0.4272 - accuracy: 0.8271 - val_loss: 0.3370 - val_accuracy: 0.8937 - 103ms/epoch - 8ms/step\n",
      "Epoch 21/100\n",
      "13/13 - 0s - loss: 0.4462 - accuracy: 0.8329 - val_loss: 0.3233 - val_accuracy: 0.9070 - 96ms/epoch - 7ms/step\n",
      "Epoch 22/100\n",
      "13/13 - 0s - loss: 0.3901 - accuracy: 0.8570 - val_loss: 0.5496 - val_accuracy: 0.7807 - 107ms/epoch - 8ms/step\n",
      "Epoch 23/100\n",
      "13/13 - 0s - loss: 0.5779 - accuracy: 0.7847 - val_loss: 0.4483 - val_accuracy: 0.8405 - 93ms/epoch - 7ms/step\n",
      "Epoch 24/100\n",
      "13/13 - 0s - loss: 0.4521 - accuracy: 0.8296 - val_loss: 0.3570 - val_accuracy: 0.8970 - 92ms/epoch - 7ms/step\n",
      "Epoch 25/100\n",
      "13/13 - 0s - loss: 0.4141 - accuracy: 0.8512 - val_loss: 0.3415 - val_accuracy: 0.8804 - 92ms/epoch - 7ms/step\n",
      "Epoch 26/100\n",
      "13/13 - 0s - loss: 0.3359 - accuracy: 0.8745 - val_loss: 0.3037 - val_accuracy: 0.8937 - 88ms/epoch - 7ms/step\n",
      "Epoch 27/100\n",
      "13/13 - 0s - loss: 0.3207 - accuracy: 0.8678 - val_loss: 0.2851 - val_accuracy: 0.9070 - 98ms/epoch - 8ms/step\n",
      "Epoch 28/100\n",
      "13/13 - 0s - loss: 0.2657 - accuracy: 0.8961 - val_loss: 0.3096 - val_accuracy: 0.9003 - 102ms/epoch - 8ms/step\n",
      "Epoch 29/100\n",
      "13/13 - 0s - loss: 0.3176 - accuracy: 0.8720 - val_loss: 0.2698 - val_accuracy: 0.9103 - 99ms/epoch - 8ms/step\n",
      "Epoch 30/100\n",
      "13/13 - 0s - loss: 0.2694 - accuracy: 0.9011 - val_loss: 0.2288 - val_accuracy: 0.9236 - 102ms/epoch - 8ms/step\n",
      "Epoch 31/100\n",
      "13/13 - 0s - loss: 0.2388 - accuracy: 0.9144 - val_loss: 0.2325 - val_accuracy: 0.9103 - 104ms/epoch - 8ms/step\n",
      "Epoch 32/100\n",
      "13/13 - 0s - loss: 0.2403 - accuracy: 0.9169 - val_loss: 0.2267 - val_accuracy: 0.9203 - 92ms/epoch - 7ms/step\n",
      "Epoch 33/100\n",
      "13/13 - 0s - loss: 0.2865 - accuracy: 0.8820 - val_loss: 0.2565 - val_accuracy: 0.9269 - 87ms/epoch - 7ms/step\n",
      "Epoch 34/100\n",
      "13/13 - 0s - loss: 0.2186 - accuracy: 0.9202 - val_loss: 0.2199 - val_accuracy: 0.9136 - 89ms/epoch - 7ms/step\n",
      "Epoch 35/100\n",
      "13/13 - 0s - loss: 0.1961 - accuracy: 0.9327 - val_loss: 0.2101 - val_accuracy: 0.9269 - 94ms/epoch - 7ms/step\n",
      "Epoch 36/100\n",
      "13/13 - 0s - loss: 0.1877 - accuracy: 0.9368 - val_loss: 0.2062 - val_accuracy: 0.9369 - 93ms/epoch - 7ms/step\n",
      "Epoch 37/100\n",
      "13/13 - 0s - loss: 0.1665 - accuracy: 0.9385 - val_loss: 0.2206 - val_accuracy: 0.9169 - 105ms/epoch - 8ms/step\n",
      "Epoch 38/100\n",
      "13/13 - 0s - loss: 0.2188 - accuracy: 0.9210 - val_loss: 0.1949 - val_accuracy: 0.9435 - 99ms/epoch - 8ms/step\n",
      "Epoch 39/100\n",
      "13/13 - 0s - loss: 0.1829 - accuracy: 0.9310 - val_loss: 0.2071 - val_accuracy: 0.9435 - 98ms/epoch - 8ms/step\n",
      "Epoch 40/100\n",
      "13/13 - 0s - loss: 0.1739 - accuracy: 0.9368 - val_loss: 0.1932 - val_accuracy: 0.9435 - 91ms/epoch - 7ms/step\n",
      "Epoch 41/100\n",
      "13/13 - 0s - loss: 0.1769 - accuracy: 0.9352 - val_loss: 0.1962 - val_accuracy: 0.9402 - 106ms/epoch - 8ms/step\n",
      "Epoch 42/100\n",
      "13/13 - 0s - loss: 0.1536 - accuracy: 0.9476 - val_loss: 0.2069 - val_accuracy: 0.9269 - 107ms/epoch - 8ms/step\n",
      "Epoch 43/100\n",
      "13/13 - 0s - loss: 0.1571 - accuracy: 0.9468 - val_loss: 0.1784 - val_accuracy: 0.9402 - 96ms/epoch - 7ms/step\n",
      "Epoch 44/100\n",
      "13/13 - 0s - loss: 0.1246 - accuracy: 0.9601 - val_loss: 0.1785 - val_accuracy: 0.9369 - 92ms/epoch - 7ms/step\n",
      "Epoch 45/100\n",
      "13/13 - 0s - loss: 0.1371 - accuracy: 0.9568 - val_loss: 0.1691 - val_accuracy: 0.9369 - 106ms/epoch - 8ms/step\n",
      "Epoch 46/100\n",
      "13/13 - 0s - loss: 0.1335 - accuracy: 0.9534 - val_loss: 0.1734 - val_accuracy: 0.9402 - 104ms/epoch - 8ms/step\n",
      "Epoch 47/100\n",
      "13/13 - 0s - loss: 0.1080 - accuracy: 0.9692 - val_loss: 0.1848 - val_accuracy: 0.9402 - 102ms/epoch - 8ms/step\n",
      "Epoch 48/100\n",
      "13/13 - 0s - loss: 0.1387 - accuracy: 0.9460 - val_loss: 0.2064 - val_accuracy: 0.9269 - 87ms/epoch - 7ms/step\n",
      "Epoch 49/100\n",
      "13/13 - 0s - loss: 0.1384 - accuracy: 0.9468 - val_loss: 0.2161 - val_accuracy: 0.9369 - 102ms/epoch - 8ms/step\n",
      "Epoch 50/100\n",
      "13/13 - 0s - loss: 0.1166 - accuracy: 0.9618 - val_loss: 0.2166 - val_accuracy: 0.9203 - 88ms/epoch - 7ms/step\n",
      "Epoch 51/100\n",
      "13/13 - 0s - loss: 0.1679 - accuracy: 0.9368 - val_loss: 0.2438 - val_accuracy: 0.9236 - 103ms/epoch - 8ms/step\n",
      "Epoch 52/100\n",
      "13/13 - 0s - loss: 0.1534 - accuracy: 0.9418 - val_loss: 0.1905 - val_accuracy: 0.9435 - 95ms/epoch - 7ms/step\n",
      "Epoch 53/100\n",
      "13/13 - 0s - loss: 0.1507 - accuracy: 0.9393 - val_loss: 0.2535 - val_accuracy: 0.9203 - 147ms/epoch - 11ms/step\n",
      "Epoch 54/100\n",
      "13/13 - 0s - loss: 0.1260 - accuracy: 0.9526 - val_loss: 0.1799 - val_accuracy: 0.9435 - 121ms/epoch - 9ms/step\n",
      "Epoch 55/100\n",
      "13/13 - 0s - loss: 0.0975 - accuracy: 0.9701 - val_loss: 0.1659 - val_accuracy: 0.9502 - 91ms/epoch - 7ms/step\n",
      "Epoch 56/100\n",
      "13/13 - 0s - loss: 0.0948 - accuracy: 0.9676 - val_loss: 0.1681 - val_accuracy: 0.9402 - 93ms/epoch - 7ms/step\n",
      "Epoch 57/100\n",
      "13/13 - 0s - loss: 0.0897 - accuracy: 0.9634 - val_loss: 0.1578 - val_accuracy: 0.9369 - 94ms/epoch - 7ms/step\n",
      "Epoch 58/100\n",
      "13/13 - 0s - loss: 0.0808 - accuracy: 0.9717 - val_loss: 0.2139 - val_accuracy: 0.9269 - 94ms/epoch - 7ms/step\n",
      "Epoch 59/100\n",
      "13/13 - 0s - loss: 0.0902 - accuracy: 0.9643 - val_loss: 0.1620 - val_accuracy: 0.9468 - 98ms/epoch - 8ms/step\n",
      "Epoch 60/100\n",
      "13/13 - 0s - loss: 0.0782 - accuracy: 0.9751 - val_loss: 0.1656 - val_accuracy: 0.9369 - 98ms/epoch - 8ms/step\n",
      "Epoch 61/100\n",
      "13/13 - 0s - loss: 0.0781 - accuracy: 0.9734 - val_loss: 0.1823 - val_accuracy: 0.9402 - 96ms/epoch - 7ms/step\n",
      "Epoch 62/100\n",
      "13/13 - 0s - loss: 0.0757 - accuracy: 0.9776 - val_loss: 0.1613 - val_accuracy: 0.9435 - 90ms/epoch - 7ms/step\n",
      "Epoch 63/100\n",
      "13/13 - 0s - loss: 0.0609 - accuracy: 0.9859 - val_loss: 0.1534 - val_accuracy: 0.9502 - 108ms/epoch - 8ms/step\n",
      "Epoch 64/100\n",
      "13/13 - 0s - loss: 0.0701 - accuracy: 0.9759 - val_loss: 0.7097 - val_accuracy: 0.8073 - 103ms/epoch - 8ms/step\n",
      "Epoch 65/100\n",
      "13/13 - 0s - loss: 0.4124 - accuracy: 0.8504 - val_loss: 0.2799 - val_accuracy: 0.8970 - 90ms/epoch - 7ms/step\n",
      "Epoch 66/100\n",
      "13/13 - 0s - loss: 0.2048 - accuracy: 0.9169 - val_loss: 0.2166 - val_accuracy: 0.9302 - 95ms/epoch - 7ms/step\n",
      "Epoch 67/100\n",
      "13/13 - 0s - loss: 0.1757 - accuracy: 0.9343 - val_loss: 0.2114 - val_accuracy: 0.9269 - 95ms/epoch - 7ms/step\n",
      "Epoch 68/100\n",
      "13/13 - 0s - loss: 0.1914 - accuracy: 0.9252 - val_loss: 0.1774 - val_accuracy: 0.9336 - 91ms/epoch - 7ms/step\n",
      "Epoch 69/100\n",
      "13/13 - 0s - loss: 0.1378 - accuracy: 0.9476 - val_loss: 0.2146 - val_accuracy: 0.9236 - 88ms/epoch - 7ms/step\n",
      "Epoch 70/100\n",
      "13/13 - 0s - loss: 0.1019 - accuracy: 0.9692 - val_loss: 0.1567 - val_accuracy: 0.9502 - 105ms/epoch - 8ms/step\n",
      "Epoch 71/100\n",
      "13/13 - 0s - loss: 0.0758 - accuracy: 0.9767 - val_loss: 0.1511 - val_accuracy: 0.9468 - 89ms/epoch - 7ms/step\n",
      "Epoch 72/100\n",
      "13/13 - 0s - loss: 0.0673 - accuracy: 0.9767 - val_loss: 0.1558 - val_accuracy: 0.9535 - 90ms/epoch - 7ms/step\n",
      "Epoch 73/100\n",
      "13/13 - 0s - loss: 0.0587 - accuracy: 0.9850 - val_loss: 0.1513 - val_accuracy: 0.9601 - 102ms/epoch - 8ms/step\n",
      "Epoch 74/100\n",
      "13/13 - 0s - loss: 0.0596 - accuracy: 0.9834 - val_loss: 0.3960 - val_accuracy: 0.8904 - 93ms/epoch - 7ms/step\n",
      "Epoch 75/100\n",
      "13/13 - 0s - loss: 0.4036 - accuracy: 0.8695 - val_loss: 0.3094 - val_accuracy: 0.9103 - 103ms/epoch - 8ms/step\n",
      "Epoch 76/100\n",
      "13/13 - 0s - loss: 0.4305 - accuracy: 0.8637 - val_loss: 0.2158 - val_accuracy: 0.9302 - 110ms/epoch - 8ms/step\n",
      "Epoch 77/100\n",
      "13/13 - 0s - loss: 0.1863 - accuracy: 0.9343 - val_loss: 0.2329 - val_accuracy: 0.9169 - 101ms/epoch - 8ms/step\n",
      "Epoch 78/100\n",
      "13/13 - 0s - loss: 0.2823 - accuracy: 0.8936 - val_loss: 0.2957 - val_accuracy: 0.8970 - 95ms/epoch - 7ms/step\n",
      "Epoch 79/100\n",
      "13/13 - 0s - loss: 0.2677 - accuracy: 0.8944 - val_loss: 0.3052 - val_accuracy: 0.8738 - 92ms/epoch - 7ms/step\n",
      "Epoch 80/100\n",
      "13/13 - 0s - loss: 0.1677 - accuracy: 0.9368 - val_loss: 0.1596 - val_accuracy: 0.9568 - 103ms/epoch - 8ms/step\n",
      "Epoch 81/100\n",
      "13/13 - 0s - loss: 0.1029 - accuracy: 0.9692 - val_loss: 0.1283 - val_accuracy: 0.9568 - 104ms/epoch - 8ms/step\n",
      "Epoch 82/100\n",
      "13/13 - 0s - loss: 0.0793 - accuracy: 0.9742 - val_loss: 0.1283 - val_accuracy: 0.9601 - 96ms/epoch - 7ms/step\n",
      "Epoch 83/100\n",
      "13/13 - 0s - loss: 0.0771 - accuracy: 0.9742 - val_loss: 0.1598 - val_accuracy: 0.9468 - 97ms/epoch - 7ms/step\n",
      "Epoch 84/100\n",
      "13/13 - 0s - loss: 0.0731 - accuracy: 0.9751 - val_loss: 0.1372 - val_accuracy: 0.9568 - 99ms/epoch - 8ms/step\n",
      "Epoch 85/100\n",
      "13/13 - 0s - loss: 0.0643 - accuracy: 0.9776 - val_loss: 0.1330 - val_accuracy: 0.9535 - 95ms/epoch - 7ms/step\n",
      "Epoch 86/100\n",
      "13/13 - 0s - loss: 0.0538 - accuracy: 0.9842 - val_loss: 0.1490 - val_accuracy: 0.9601 - 89ms/epoch - 7ms/step\n",
      "Epoch 87/100\n",
      "13/13 - 0s - loss: 0.0437 - accuracy: 0.9859 - val_loss: 0.1455 - val_accuracy: 0.9635 - 85ms/epoch - 7ms/step\n",
      "Epoch 88/100\n",
      "13/13 - 0s - loss: 0.0386 - accuracy: 0.9892 - val_loss: 0.1451 - val_accuracy: 0.9668 - 105ms/epoch - 8ms/step\n",
      "Epoch 89/100\n",
      "13/13 - 0s - loss: 0.0402 - accuracy: 0.9859 - val_loss: 0.1334 - val_accuracy: 0.9601 - 97ms/epoch - 7ms/step\n",
      "Epoch 90/100\n",
      "13/13 - 0s - loss: 0.0465 - accuracy: 0.9809 - val_loss: 0.1598 - val_accuracy: 0.9535 - 96ms/epoch - 7ms/step\n",
      "Epoch 91/100\n",
      "13/13 - 0s - loss: 0.0592 - accuracy: 0.9776 - val_loss: 0.1991 - val_accuracy: 0.9336 - 88ms/epoch - 7ms/step\n",
      "Epoch 92/100\n",
      "13/13 - 0s - loss: 0.1255 - accuracy: 0.9551 - val_loss: 0.2548 - val_accuracy: 0.9169 - 87ms/epoch - 7ms/step\n",
      "Epoch 93/100\n",
      "13/13 - 0s - loss: 0.2138 - accuracy: 0.9244 - val_loss: 0.2368 - val_accuracy: 0.9236 - 93ms/epoch - 7ms/step\n",
      "Epoch 94/100\n",
      "13/13 - 0s - loss: 0.4286 - accuracy: 0.8520 - val_loss: 0.2633 - val_accuracy: 0.9037 - 107ms/epoch - 8ms/step\n",
      "Epoch 95/100\n",
      "13/13 - 0s - loss: 0.1783 - accuracy: 0.9310 - val_loss: 0.2155 - val_accuracy: 0.9103 - 94ms/epoch - 7ms/step\n",
      "Epoch 96/100\n",
      "13/13 - 0s - loss: 0.0989 - accuracy: 0.9659 - val_loss: 0.1932 - val_accuracy: 0.9468 - 105ms/epoch - 8ms/step\n",
      "Epoch 97/100\n",
      "13/13 - 0s - loss: 0.1012 - accuracy: 0.9676 - val_loss: 0.2127 - val_accuracy: 0.9435 - 89ms/epoch - 7ms/step\n",
      "Epoch 98/100\n",
      "13/13 - 0s - loss: 0.0869 - accuracy: 0.9601 - val_loss: 0.1383 - val_accuracy: 0.9601 - 94ms/epoch - 7ms/step\n",
      "Epoch 99/100\n",
      "13/13 - 0s - loss: 0.0710 - accuracy: 0.9717 - val_loss: 0.1278 - val_accuracy: 0.9601 - 92ms/epoch - 7ms/step\n",
      "Epoch 100/100\n",
      "13/13 - 0s - loss: 0.0509 - accuracy: 0.9867 - val_loss: 0.1353 - val_accuracy: 0.9535 - 98ms/epoch - 8ms/step\n"
     ]
    }
   ],
   "source": [
    "train_history = model.fit(X_train, y_train, validation_split=0.2, batch_size = 100, epochs = 100, verbose=2)"
   ]
  },
  {
   "cell_type": "markdown",
   "id": "cd8cd326",
   "metadata": {
    "papermill": {
     "duration": 0.030015,
     "end_time": "2024-01-31T08:25:59.715580",
     "exception": false,
     "start_time": "2024-01-31T08:25:59.685565",
     "status": "completed"
    },
    "tags": []
   },
   "source": [
    "## 評估訓練結果"
   ]
  },
  {
   "cell_type": "code",
   "execution_count": 10,
   "id": "7824ea41",
   "metadata": {
    "execution": {
     "iopub.execute_input": "2024-01-31T08:25:59.775518Z",
     "iopub.status.busy": "2024-01-31T08:25:59.773717Z",
     "iopub.status.idle": "2024-01-31T08:26:00.432807Z",
     "shell.execute_reply": "2024-01-31T08:26:00.431413Z"
    },
    "papermill": {
     "duration": 0.692501,
     "end_time": "2024-01-31T08:26:00.435772",
     "exception": false,
     "start_time": "2024-01-31T08:25:59.743271",
     "status": "completed"
    },
    "tags": []
   },
   "outputs": [
    {
     "data": {
      "image/png": "[encoded data removed]",
      "text/plain": [
       "<Figure size 640x480 with 1 Axes>"
      ]
     },
     "metadata": {},
     "output_type": "display_data"
    },
    {
     "data": {
      "image/png": "[encoded data removed]",
      "text/plain": [
       "<Figure size 640x480 with 1 Axes>"
      ]
     },
     "metadata": {},
     "output_type": "display_data"
    }
   ],
   "source": [
    "def show_train_history(train_history, train, validation):\n",
    "\n",
    "    plt.plot(train_history.history[train])\n",
    "\n",
    "    plt.plot(train_history.history[validation])\n",
    "\n",
    "    plt.title('Train History')\n",
    "\n",
    "    plt.ylabel('train')\n",
    "\n",
    "    plt.xlabel('Epoch')\n",
    "\n",
    "    plt.legend(['train', 'validation'], loc='upper left')\n",
    "\n",
    "    plt.show()\n",
    "    \n",
    "\n",
    "show_train_history(train_history, 'accuracy', 'val_accuracy')\n",
    "show_train_history(train_history, 'loss', 'val_loss')"
   ]
  },
  {
   "cell_type": "markdown",
   "id": "571b01a8",
   "metadata": {
    "papermill": {
     "duration": 0.028558,
     "end_time": "2024-01-31T08:26:00.494232",
     "exception": false,
     "start_time": "2024-01-31T08:26:00.465674",
     "status": "completed"
    },
    "tags": []
   },
   "source": [
    "## 使用未參與訓練的測試資料測試，模型準確率"
   ]
  },
  {
   "cell_type": "code",
   "execution_count": 11,
   "id": "b7ea186a",
   "metadata": {
    "execution": {
     "iopub.execute_input": "2024-01-31T08:26:00.554172Z",
     "iopub.status.busy": "2024-01-31T08:26:00.553739Z",
     "iopub.status.idle": "2024-01-31T08:26:00.661534Z",
     "shell.execute_reply": "2024-01-31T08:26:00.660182Z"
    },
    "papermill": {
     "duration": 0.141322,
     "end_time": "2024-01-31T08:26:00.664258",
     "exception": false,
     "start_time": "2024-01-31T08:26:00.522936",
     "status": "completed"
    },
    "tags": []
   },
   "outputs": [
    {
     "name": "stdout",
     "output_type": "stream",
     "text": [
      "Accuracy =  0.936170220375061\n"
     ]
    }
   ],
   "source": [
    "scores = model.evaluate(X_test,y_test,verbose=0)\n",
    "\n",
    "print('Accuracy = ', scores[1])"
   ]
  },
  {
   "cell_type": "markdown",
   "id": "6dfc7d7e",
   "metadata": {
    "papermill": {
     "duration": 0.028884,
     "end_time": "2024-01-31T08:26:00.722577",
     "exception": false,
     "start_time": "2024-01-31T08:26:00.693693",
     "status": "completed"
    },
    "tags": []
   },
   "source": [
    "## 評估訓練結果"
   ]
  },
  {
   "cell_type": "code",
   "execution_count": 12,
   "id": "284219d8",
   "metadata": {
    "execution": {
     "iopub.execute_input": "2024-01-31T08:26:00.782793Z",
     "iopub.status.busy": "2024-01-31T08:26:00.782370Z",
     "iopub.status.idle": "2024-01-31T08:26:01.435103Z",
     "shell.execute_reply": "2024-01-31T08:26:01.433649Z"
    },
    "papermill": {
     "duration": 0.686628,
     "end_time": "2024-01-31T08:26:01.438441",
     "exception": false,
     "start_time": "2024-01-31T08:26:00.751813",
     "status": "completed"
    },
    "tags": []
   },
   "outputs": [
    {
     "name": "stdout",
     "output_type": "stream",
     "text": [
      "12/12 [==============================] - 0s 2ms/step\n"
     ]
    },
    {
     "data": {
      "image/png": "[encoded data removed]",
      "text/plain": [
       "<Figure size 1000x700 with 2 Axes>"
      ]
     },
     "metadata": {},
     "output_type": "display_data"
    }
   ],
   "source": [
    "y_pred = np.argmax(model.predict(X_test), axis=-1)\n",
    "y_true = np.argmax(y_test, axis=-1)\n",
    "conf_matrix = confusion_matrix(y_true, y_pred)\n",
    "\n",
    "plt.figure(figsize=(10, 7))\n",
    "sns.heatmap(conf_matrix, annot=True, fmt='d')\n",
    "plt.xlabel('Predicted')\n",
    "plt.ylabel('Truth')\n",
    "plt.show()"
   ]
  },
  {
   "cell_type": "markdown",
   "id": "bccf1439",
   "metadata": {
    "papermill": {
     "duration": 0.126226,
     "end_time": "2024-01-31T08:26:01.595854",
     "exception": false,
     "start_time": "2024-01-31T08:26:01.469628",
     "status": "completed"
    },
    "tags": []
   },
   "source": [
    "## Importing the libraries"
   ]
  }
 ],
 "metadata": {
  "kaggle": {
   "accelerator": "none",
   "dataSources": [
    {
     "datasetId": 4275198,
     "sourceId": 7518995,
     "sourceType": "datasetVersion"
    }
   ],
   "dockerImageVersionId": 30635,
   "isGpuEnabled": false,
   "isInternetEnabled": false,
   "language": "python",
   "sourceType": "notebook"
  },
  "kernelspec": {
   "display_name": "Python 3",
   "language": "python",
   "name": "python3"
  },
  "language_info": {
   "codemirror_mode": {
    "name": "ipython",
    "version": 3
   },
   "file_extension": ".py",
   "mimetype": "text/x-python",
   "name": "python",
   "nbconvert_exporter": "python",
   "pygments_lexer": "ipython3",
   "version": "3.10.12"
  },
  "papermill": {
   "default_parameters": {},
   "duration": 176.066004,
   "end_time": "2024-01-31T08:26:04.811135",
   "environment_variables": {},
   "exception": null,
   "input_path": "__notebook__.ipynb",
   "output_path": "__notebook__.ipynb",
   "parameters": {},
   "start_time": "2024-01-31T08:23:08.745131",
   "version": "2.4.0"
  }
 },
 "nbformat": 4,
 "nbformat_minor": 5
}
