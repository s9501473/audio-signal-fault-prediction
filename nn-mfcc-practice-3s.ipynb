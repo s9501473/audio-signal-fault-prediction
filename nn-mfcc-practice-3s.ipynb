{
 "cells": [
  {
   "cell_type": "markdown",
   "id": "9541043a",
   "metadata": {
    "papermill": {
     "duration": 0.010268,
     "end_time": "2024-01-31T08:24:30.117166",
     "exception": false,
     "start_time": "2024-01-31T08:24:30.106898",
     "status": "completed"
    },
    "tags": []
   },
   "source": [
    "## Importing the libraries"
   ]
  },
  {
   "cell_type": "code",
   "execution_count": 1,
   "id": "34cdbe14",
   "metadata": {
    "_cell_guid": "b1076dfc-b9ad-4769-8c92-a6c4dae69d19",
    "_uuid": "8f2839f25d086af736a60e9eeb907d3b93b6e0e5",
    "execution": {
     "iopub.execute_input": "2024-01-31T08:24:30.136283Z",
     "iopub.status.busy": "2024-01-31T08:24:30.135814Z",
     "iopub.status.idle": "2024-01-31T08:24:45.922867Z",
     "shell.execute_reply": "2024-01-31T08:24:45.921866Z"
    },
    "papermill": {
     "duration": 15.799755,
     "end_time": "2024-01-31T08:24:45.925775",
     "exception": false,
     "start_time": "2024-01-31T08:24:30.126020",
     "status": "completed"
    },
    "tags": []
   },
   "outputs": [],
   "source": [
    "import numpy as np\n",
    "import pandas as pd\n",
    "import librosa\n",
    "import os\n",
    "import seaborn as sns\n",
    "import matplotlib.pyplot as plt\n",
    "from sklearn.metrics import confusion_matrix\n",
    "from sklearn.preprocessing import LabelEncoder\n",
    "from tensorflow.keras.utils import to_categorical\n",
    "from sklearn.model_selection import train_test_split\n",
    "from tensorflow.keras.models import Sequential\n",
    "from tensorflow.keras.layers import Dense,Dropout,Activation,Flatten\n",
    "from tensorflow.keras.callbacks import ModelCheckpoint\n",
    "from tensorflow.keras.optimizers import Adam"
   ]
  },
  {
   "cell_type": "markdown",
   "id": "7152d392",
   "metadata": {
    "papermill": {
     "duration": 0.00579,
     "end_time": "2024-01-31T08:24:45.938115",
     "exception": false,
     "start_time": "2024-01-31T08:24:45.932325",
     "status": "completed"
    },
    "tags": []
   },
   "source": [
    "## 加載音頻訊號"
   ]
  },
  {
   "cell_type": "code",
   "execution_count": 2,
   "id": "3f1da326",
   "metadata": {
    "execution": {
     "iopub.execute_input": "2024-01-31T08:24:45.952084Z",
     "iopub.status.busy": "2024-01-31T08:24:45.951341Z",
     "iopub.status.idle": "2024-01-31T08:24:45.956107Z",
     "shell.execute_reply": "2024-01-31T08:24:45.955017Z"
    },
    "papermill": {
     "duration": 0.014494,
     "end_time": "2024-01-31T08:24:45.958388",
     "exception": false,
     "start_time": "2024-01-31T08:24:45.943894",
     "status": "completed"
    },
    "tags": []
   },
   "outputs": [],
   "source": [
    "data_path = '/kaggle/input/recoding-data/UAV Recordings 3s/UAV Recordings 3s'"
   ]
  },
  {
   "cell_type": "markdown",
   "id": "b92e6231",
   "metadata": {
    "papermill": {
     "duration": 0.005588,
     "end_time": "2024-01-31T08:24:45.969726",
     "exception": false,
     "start_time": "2024-01-31T08:24:45.964138",
     "status": "completed"
    },
    "tags": []
   },
   "source": [
    "## 音頻訊號進行MFCCs特徵提取"
   ]
  },
  {
   "cell_type": "code",
   "execution_count": 3,
   "id": "5226c1ee",
   "metadata": {
    "execution": {
     "iopub.execute_input": "2024-01-31T08:24:45.983011Z",
     "iopub.status.busy": "2024-01-31T08:24:45.982614Z",
     "iopub.status.idle": "2024-01-31T08:26:46.951716Z",
     "shell.execute_reply": "2024-01-31T08:26:46.949952Z"
    },
    "papermill": {
     "duration": 120.98132,
     "end_time": "2024-01-31T08:26:46.956795",
     "exception": false,
     "start_time": "2024-01-31T08:24:45.975475",
     "status": "completed"
    },
    "tags": []
   },
   "outputs": [],
   "source": [
    "def load_data(data_dir):\n",
    "    datasets = []\n",
    "    labels = []\n",
    "    categories = os.listdir(data_dir)\n",
    "    for index, folder in enumerate(categories):\n",
    "        for filename in os.listdir(data_dir+\"/\"+folder):\n",
    "            data, sampling_rate = librosa.load(data_dir+\"/\"+folder+\"/\"+filename)\n",
    "            mfccs_features = librosa.feature.mfcc(y=data, sr=sampling_rate, n_mfcc=80)\n",
    "            mfccs_scaled_features = np.mean(mfccs_features.T,axis=0)\n",
    "            datasets.append(np.array(mfccs_scaled_features))\n",
    "            labels.append(categories[index])\n",
    "    return np.array(datasets), np.array(labels)\n",
    "\n",
    "datasets, labels = load_data(data_path)"
   ]
  },
  {
   "cell_type": "code",
   "execution_count": 4,
   "id": "7cb05556",
   "metadata": {
    "execution": {
     "iopub.execute_input": "2024-01-31T08:26:46.986941Z",
     "iopub.status.busy": "2024-01-31T08:26:46.984329Z",
     "iopub.status.idle": "2024-01-31T08:26:47.000083Z",
     "shell.execute_reply": "2024-01-31T08:26:46.998570Z"
    },
    "papermill": {
     "duration": 0.034813,
     "end_time": "2024-01-31T08:26:47.004490",
     "exception": false,
     "start_time": "2024-01-31T08:26:46.969677",
     "status": "completed"
    },
    "tags": []
   },
   "outputs": [],
   "source": [
    "datasets = datasets.astype('float32')\n",
    "\n",
    "labelencoder = LabelEncoder()\n",
    "\n",
    "labelsOneHot = to_categorical(labelencoder.fit_transform(labels))"
   ]
  },
  {
   "cell_type": "markdown",
   "id": "ebcb759e",
   "metadata": {
    "papermill": {
     "duration": 0.012251,
     "end_time": "2024-01-31T08:26:47.039224",
     "exception": false,
     "start_time": "2024-01-31T08:26:47.026973",
     "status": "completed"
    },
    "tags": []
   },
   "source": [
    "## 切分成訓練資料、測試資料，8:2的比例"
   ]
  },
  {
   "cell_type": "code",
   "execution_count": 5,
   "id": "d30da437",
   "metadata": {
    "execution": {
     "iopub.execute_input": "2024-01-31T08:26:47.065714Z",
     "iopub.status.busy": "2024-01-31T08:26:47.065337Z",
     "iopub.status.idle": "2024-01-31T08:26:47.096174Z",
     "shell.execute_reply": "2024-01-31T08:26:47.094932Z"
    },
    "papermill": {
     "duration": 0.047915,
     "end_time": "2024-01-31T08:26:47.100130",
     "exception": false,
     "start_time": "2024-01-31T08:26:47.052215",
     "status": "completed"
    },
    "tags": []
   },
   "outputs": [
    {
     "name": "stdout",
     "output_type": "stream",
     "text": [
      "----------Train-------------\n",
      "(1504, 80)\n",
      "----------Test--------------\n",
      "(376, 80)\n"
     ]
    }
   ],
   "source": [
    "X_train, X_test, y_train, y_test = train_test_split(datasets, labelsOneHot, test_size = 0.2, stratify = labelsOneHot, random_state = 3)\n",
    "\n",
    "print(\"----------Train-------------\")\n",
    "print(X_train.shape)\n",
    "\n",
    "print(\"----------Test--------------\")\n",
    "print(X_test.shape)"
   ]
  },
  {
   "cell_type": "code",
   "execution_count": 6,
   "id": "cec91f69",
   "metadata": {
    "execution": {
     "iopub.execute_input": "2024-01-31T08:26:47.114385Z",
     "iopub.status.busy": "2024-01-31T08:26:47.113987Z",
     "iopub.status.idle": "2024-01-31T08:26:47.119857Z",
     "shell.execute_reply": "2024-01-31T08:26:47.118689Z"
    },
    "papermill": {
     "duration": 0.015984,
     "end_time": "2024-01-31T08:26:47.122380",
     "exception": false,
     "start_time": "2024-01-31T08:26:47.106396",
     "status": "completed"
    },
    "tags": []
   },
   "outputs": [],
   "source": [
    "num_classes = len(np.unique(labels))"
   ]
  },
  {
   "cell_type": "markdown",
   "id": "2cbef02f",
   "metadata": {
    "papermill": {
     "duration": 0.005907,
     "end_time": "2024-01-31T08:26:47.134684",
     "exception": false,
     "start_time": "2024-01-31T08:26:47.128777",
     "status": "completed"
    },
    "tags": []
   },
   "source": [
    "## 建立 Neural Network 模型"
   ]
  },
  {
   "cell_type": "code",
   "execution_count": 7,
   "id": "2abdc7c7",
   "metadata": {
    "execution": {
     "iopub.execute_input": "2024-01-31T08:26:47.148846Z",
     "iopub.status.busy": "2024-01-31T08:26:47.148406Z",
     "iopub.status.idle": "2024-01-31T08:26:47.389551Z",
     "shell.execute_reply": "2024-01-31T08:26:47.388506Z"
    },
    "papermill": {
     "duration": 0.251498,
     "end_time": "2024-01-31T08:26:47.392458",
     "exception": false,
     "start_time": "2024-01-31T08:26:47.140960",
     "status": "completed"
    },
    "tags": []
   },
   "outputs": [],
   "source": [
    "model=Sequential()\n",
    "\n",
    "#Input layer\n",
    "model.add(Flatten(input_shape=(80,)))\n",
    "\n",
    "#hidden layer 1\n",
    "model.add(Dense(512, Activation('relu')))\n",
    "\n",
    "#hidden layer 2\n",
    "model.add(Dense(128, Activation('relu')))\n",
    "\n",
    "#hidden layer 3\n",
    "model.add(Dense(64, Activation('relu')))\n",
    "\n",
    "# 使用Dropout防止過度擬合\n",
    "model.add(Dropout(0.25))\n",
    "\n",
    "#Output layer\n",
    "model.add(Dense(num_classes, Activation('softmax')))\n"
   ]
  },
  {
   "cell_type": "code",
   "execution_count": 8,
   "id": "a6be24c6",
   "metadata": {
    "execution": {
     "iopub.execute_input": "2024-01-31T08:26:47.407335Z",
     "iopub.status.busy": "2024-01-31T08:26:47.406938Z",
     "iopub.status.idle": "2024-01-31T08:26:47.451179Z",
     "shell.execute_reply": "2024-01-31T08:26:47.449499Z"
    },
    "papermill": {
     "duration": 0.062922,
     "end_time": "2024-01-31T08:26:47.462029",
     "exception": false,
     "start_time": "2024-01-31T08:26:47.399107",
     "status": "completed"
    },
    "tags": []
   },
   "outputs": [
    {
     "name": "stdout",
     "output_type": "stream",
     "text": [
      "Model: \"sequential\"\n",
      "_________________________________________________________________\n",
      " Layer (type)                Output Shape              Param #   \n",
      "=================================================================\n",
      " flatten (Flatten)           (None, 80)                0         \n",
      "                                                                 \n",
      " dense (Dense)               (None, 512)               41472     \n",
      "                                                                 \n",
      " dense_1 (Dense)             (None, 128)               65664     \n",
      "                                                                 \n",
      " dense_2 (Dense)             (None, 64)                8256      \n",
      "                                                                 \n",
      " dropout (Dropout)           (None, 64)                0         \n",
      "                                                                 \n",
      " dense_3 (Dense)             (None, 5)                 325       \n",
      "                                                                 \n",
      "=================================================================\n",
      "Total params: 115717 (452.02 KB)\n",
      "Trainable params: 115717 (452.02 KB)\n",
      "Non-trainable params: 0 (0.00 Byte)\n",
      "_________________________________________________________________\n"
     ]
    }
   ],
   "source": [
    "# 選擇損失函數、優化方法及成效衡量方式\n",
    "model.compile(optimizer='adam', loss='categorical_crossentropy', metrics=['accuracy'])\n",
    "\n",
    "model.summary()"
   ]
  },
  {
   "cell_type": "markdown",
   "id": "2b882269",
   "metadata": {
    "papermill": {
     "duration": 0.008193,
     "end_time": "2024-01-31T08:26:47.478762",
     "exception": false,
     "start_time": "2024-01-31T08:26:47.470569",
     "status": "completed"
    },
    "tags": []
   },
   "source": [
    "## 模型訓練"
   ]
  },
  {
   "cell_type": "code",
   "execution_count": 9,
   "id": "553d86c1",
   "metadata": {
    "execution": {
     "iopub.execute_input": "2024-01-31T08:26:47.497525Z",
     "iopub.status.busy": "2024-01-31T08:26:47.497096Z",
     "iopub.status.idle": "2024-01-31T08:26:57.897323Z",
     "shell.execute_reply": "2024-01-31T08:26:57.896109Z"
    },
    "papermill": {
     "duration": 10.413283,
     "end_time": "2024-01-31T08:26:57.900507",
     "exception": false,
     "start_time": "2024-01-31T08:26:47.487224",
     "status": "completed"
    },
    "tags": []
   },
   "outputs": [
    {
     "name": "stdout",
     "output_type": "stream",
     "text": [
      "Epoch 1/100\n",
      "13/13 - 2s - loss: 2.6294 - accuracy: 0.3200 - val_loss: 1.2332 - val_accuracy: 0.4817 - 2s/epoch - 138ms/step\n",
      "Epoch 2/100\n",
      "13/13 - 0s - loss: 1.2550 - accuracy: 0.4838 - val_loss: 0.9896 - val_accuracy: 0.6279 - 79ms/epoch - 6ms/step\n",
      "Epoch 3/100\n",
      "13/13 - 0s - loss: 0.9866 - accuracy: 0.6251 - val_loss: 0.7896 - val_accuracy: 0.7542 - 88ms/epoch - 7ms/step\n",
      "Epoch 4/100\n",
      "13/13 - 0s - loss: 0.8508 - accuracy: 0.6692 - val_loss: 0.7566 - val_accuracy: 0.6944 - 80ms/epoch - 6ms/step\n",
      "Epoch 5/100\n",
      "13/13 - 0s - loss: 0.8662 - accuracy: 0.6492 - val_loss: 0.8053 - val_accuracy: 0.6711 - 91ms/epoch - 7ms/step\n",
      "Epoch 6/100\n",
      "13/13 - 0s - loss: 0.8642 - accuracy: 0.6608 - val_loss: 0.6560 - val_accuracy: 0.7973 - 80ms/epoch - 6ms/step\n",
      "Epoch 7/100\n",
      "13/13 - 0s - loss: 0.6913 - accuracy: 0.7398 - val_loss: 0.6088 - val_accuracy: 0.7841 - 79ms/epoch - 6ms/step\n",
      "Epoch 8/100\n",
      "13/13 - 0s - loss: 0.6963 - accuracy: 0.7348 - val_loss: 0.6327 - val_accuracy: 0.7442 - 78ms/epoch - 6ms/step\n",
      "Epoch 9/100\n",
      "13/13 - 0s - loss: 0.7232 - accuracy: 0.7273 - val_loss: 0.6139 - val_accuracy: 0.7342 - 92ms/epoch - 7ms/step\n",
      "Epoch 10/100\n",
      "13/13 - 0s - loss: 0.6357 - accuracy: 0.7431 - val_loss: 0.5086 - val_accuracy: 0.8140 - 79ms/epoch - 6ms/step\n",
      "Epoch 11/100\n",
      "13/13 - 0s - loss: 0.5595 - accuracy: 0.7672 - val_loss: 0.5446 - val_accuracy: 0.7508 - 77ms/epoch - 6ms/step\n",
      "Epoch 12/100\n",
      "13/13 - 0s - loss: 0.5927 - accuracy: 0.7556 - val_loss: 0.5417 - val_accuracy: 0.7841 - 81ms/epoch - 6ms/step\n",
      "Epoch 13/100\n",
      "13/13 - 0s - loss: 0.6934 - accuracy: 0.7498 - val_loss: 0.5539 - val_accuracy: 0.7641 - 75ms/epoch - 6ms/step\n",
      "Epoch 14/100\n",
      "13/13 - 0s - loss: 0.5694 - accuracy: 0.7747 - val_loss: 0.4643 - val_accuracy: 0.8239 - 73ms/epoch - 6ms/step\n",
      "Epoch 15/100\n",
      "13/13 - 0s - loss: 0.4887 - accuracy: 0.8047 - val_loss: 0.3597 - val_accuracy: 0.8870 - 77ms/epoch - 6ms/step\n",
      "Epoch 16/100\n",
      "13/13 - 0s - loss: 0.4409 - accuracy: 0.8321 - val_loss: 0.3922 - val_accuracy: 0.8771 - 77ms/epoch - 6ms/step\n",
      "Epoch 17/100\n",
      "13/13 - 0s - loss: 0.6076 - accuracy: 0.7556 - val_loss: 0.3805 - val_accuracy: 0.8605 - 86ms/epoch - 7ms/step\n",
      "Epoch 18/100\n",
      "13/13 - 0s - loss: 0.4642 - accuracy: 0.8121 - val_loss: 0.3432 - val_accuracy: 0.8538 - 73ms/epoch - 6ms/step\n",
      "Epoch 19/100\n",
      "13/13 - 0s - loss: 0.4240 - accuracy: 0.8321 - val_loss: 0.3485 - val_accuracy: 0.8638 - 74ms/epoch - 6ms/step\n",
      "Epoch 20/100\n",
      "13/13 - 0s - loss: 0.4198 - accuracy: 0.8387 - val_loss: 0.3374 - val_accuracy: 0.8671 - 88ms/epoch - 7ms/step\n",
      "Epoch 21/100\n",
      "13/13 - 0s - loss: 0.4941 - accuracy: 0.7980 - val_loss: 0.3892 - val_accuracy: 0.8638 - 80ms/epoch - 6ms/step\n",
      "Epoch 22/100\n",
      "13/13 - 0s - loss: 0.3895 - accuracy: 0.8529 - val_loss: 0.4142 - val_accuracy: 0.8140 - 76ms/epoch - 6ms/step\n",
      "Epoch 23/100\n",
      "13/13 - 0s - loss: 0.4875 - accuracy: 0.8013 - val_loss: 0.3628 - val_accuracy: 0.8738 - 75ms/epoch - 6ms/step\n",
      "Epoch 24/100\n",
      "13/13 - 0s - loss: 0.3558 - accuracy: 0.8603 - val_loss: 0.2763 - val_accuracy: 0.9037 - 79ms/epoch - 6ms/step\n",
      "Epoch 25/100\n",
      "13/13 - 0s - loss: 0.2855 - accuracy: 0.8869 - val_loss: 0.5569 - val_accuracy: 0.7641 - 87ms/epoch - 7ms/step\n",
      "Epoch 26/100\n",
      "13/13 - 0s - loss: 0.6067 - accuracy: 0.7731 - val_loss: 0.5438 - val_accuracy: 0.7973 - 76ms/epoch - 6ms/step\n",
      "Epoch 27/100\n",
      "13/13 - 0s - loss: 0.4348 - accuracy: 0.8321 - val_loss: 0.3303 - val_accuracy: 0.8937 - 74ms/epoch - 6ms/step\n",
      "Epoch 28/100\n",
      "13/13 - 0s - loss: 0.3220 - accuracy: 0.8778 - val_loss: 0.3766 - val_accuracy: 0.8538 - 78ms/epoch - 6ms/step\n",
      "Epoch 29/100\n",
      "13/13 - 0s - loss: 0.4094 - accuracy: 0.8379 - val_loss: 0.3343 - val_accuracy: 0.8870 - 76ms/epoch - 6ms/step\n",
      "Epoch 30/100\n",
      "13/13 - 0s - loss: 0.3066 - accuracy: 0.8845 - val_loss: 0.2606 - val_accuracy: 0.9236 - 74ms/epoch - 6ms/step\n",
      "Epoch 31/100\n",
      "13/13 - 0s - loss: 0.2483 - accuracy: 0.9011 - val_loss: 0.7186 - val_accuracy: 0.7409 - 77ms/epoch - 6ms/step\n",
      "Epoch 32/100\n",
      "13/13 - 0s - loss: 0.9959 - accuracy: 0.6874 - val_loss: 0.5425 - val_accuracy: 0.8040 - 77ms/epoch - 6ms/step\n",
      "Epoch 33/100\n",
      "13/13 - 0s - loss: 0.5013 - accuracy: 0.8080 - val_loss: 0.4012 - val_accuracy: 0.8638 - 95ms/epoch - 7ms/step\n",
      "Epoch 34/100\n",
      "13/13 - 0s - loss: 0.3942 - accuracy: 0.8504 - val_loss: 0.3557 - val_accuracy: 0.8605 - 80ms/epoch - 6ms/step\n",
      "Epoch 35/100\n",
      "13/13 - 0s - loss: 0.3857 - accuracy: 0.8570 - val_loss: 0.3400 - val_accuracy: 0.8771 - 87ms/epoch - 7ms/step\n",
      "Epoch 36/100\n",
      "13/13 - 0s - loss: 0.3185 - accuracy: 0.8761 - val_loss: 0.3143 - val_accuracy: 0.8472 - 85ms/epoch - 7ms/step\n",
      "Epoch 37/100\n",
      "13/13 - 0s - loss: 0.2955 - accuracy: 0.8836 - val_loss: 0.2664 - val_accuracy: 0.9136 - 78ms/epoch - 6ms/step\n",
      "Epoch 38/100\n",
      "13/13 - 0s - loss: 0.3020 - accuracy: 0.8853 - val_loss: 0.2225 - val_accuracy: 0.9302 - 99ms/epoch - 8ms/step\n",
      "Epoch 39/100\n",
      "13/13 - 0s - loss: 0.2053 - accuracy: 0.9210 - val_loss: 0.2308 - val_accuracy: 0.9369 - 93ms/epoch - 7ms/step\n",
      "Epoch 40/100\n",
      "13/13 - 0s - loss: 0.2206 - accuracy: 0.9185 - val_loss: 0.1991 - val_accuracy: 0.9269 - 80ms/epoch - 6ms/step\n",
      "Epoch 41/100\n",
      "13/13 - 0s - loss: 0.2426 - accuracy: 0.9094 - val_loss: 0.2238 - val_accuracy: 0.9269 - 80ms/epoch - 6ms/step\n",
      "Epoch 42/100\n",
      "13/13 - 0s - loss: 0.2450 - accuracy: 0.9019 - val_loss: 0.2378 - val_accuracy: 0.9236 - 84ms/epoch - 6ms/step\n",
      "Epoch 43/100\n",
      "13/13 - 0s - loss: 0.1941 - accuracy: 0.9277 - val_loss: 0.2074 - val_accuracy: 0.9203 - 81ms/epoch - 6ms/step\n",
      "Epoch 44/100\n",
      "13/13 - 0s - loss: 0.1654 - accuracy: 0.9435 - val_loss: 0.2334 - val_accuracy: 0.9302 - 84ms/epoch - 6ms/step\n",
      "Epoch 45/100\n",
      "13/13 - 0s - loss: 0.1633 - accuracy: 0.9385 - val_loss: 0.2838 - val_accuracy: 0.9070 - 81ms/epoch - 6ms/step\n",
      "Epoch 46/100\n",
      "13/13 - 0s - loss: 0.4182 - accuracy: 0.8462 - val_loss: 0.2824 - val_accuracy: 0.8970 - 78ms/epoch - 6ms/step\n",
      "Epoch 47/100\n",
      "13/13 - 0s - loss: 0.2390 - accuracy: 0.9235 - val_loss: 0.2156 - val_accuracy: 0.9269 - 79ms/epoch - 6ms/step\n",
      "Epoch 48/100\n",
      "13/13 - 0s - loss: 0.1779 - accuracy: 0.9327 - val_loss: 0.1893 - val_accuracy: 0.9369 - 79ms/epoch - 6ms/step\n",
      "Epoch 49/100\n",
      "13/13 - 0s - loss: 0.1491 - accuracy: 0.9485 - val_loss: 0.2855 - val_accuracy: 0.9070 - 77ms/epoch - 6ms/step\n",
      "Epoch 50/100\n",
      "13/13 - 0s - loss: 0.2269 - accuracy: 0.9094 - val_loss: 0.2113 - val_accuracy: 0.9369 - 91ms/epoch - 7ms/step\n",
      "Epoch 51/100\n",
      "13/13 - 0s - loss: 0.1536 - accuracy: 0.9543 - val_loss: 0.1809 - val_accuracy: 0.9302 - 79ms/epoch - 6ms/step\n",
      "Epoch 52/100\n",
      "13/13 - 0s - loss: 0.1374 - accuracy: 0.9510 - val_loss: 0.3042 - val_accuracy: 0.8970 - 78ms/epoch - 6ms/step\n",
      "Epoch 53/100\n",
      "13/13 - 0s - loss: 0.3104 - accuracy: 0.8861 - val_loss: 0.2384 - val_accuracy: 0.9136 - 77ms/epoch - 6ms/step\n",
      "Epoch 54/100\n",
      "13/13 - 0s - loss: 0.2114 - accuracy: 0.9285 - val_loss: 0.2075 - val_accuracy: 0.9336 - 79ms/epoch - 6ms/step\n",
      "Epoch 55/100\n",
      "13/13 - 0s - loss: 0.1667 - accuracy: 0.9318 - val_loss: 0.1953 - val_accuracy: 0.9236 - 81ms/epoch - 6ms/step\n",
      "Epoch 56/100\n",
      "13/13 - 0s - loss: 0.1496 - accuracy: 0.9443 - val_loss: 0.1808 - val_accuracy: 0.9535 - 75ms/epoch - 6ms/step\n",
      "Epoch 57/100\n",
      "13/13 - 0s - loss: 0.1348 - accuracy: 0.9476 - val_loss: 0.1682 - val_accuracy: 0.9468 - 87ms/epoch - 7ms/step\n",
      "Epoch 58/100\n",
      "13/13 - 0s - loss: 0.1275 - accuracy: 0.9559 - val_loss: 0.1738 - val_accuracy: 0.9369 - 81ms/epoch - 6ms/step\n",
      "Epoch 59/100\n",
      "13/13 - 0s - loss: 0.1070 - accuracy: 0.9659 - val_loss: 0.1728 - val_accuracy: 0.9336 - 78ms/epoch - 6ms/step\n",
      "Epoch 60/100\n",
      "13/13 - 0s - loss: 0.1142 - accuracy: 0.9634 - val_loss: 0.1742 - val_accuracy: 0.9402 - 77ms/epoch - 6ms/step\n",
      "Epoch 61/100\n",
      "13/13 - 0s - loss: 0.1133 - accuracy: 0.9510 - val_loss: 0.1723 - val_accuracy: 0.9402 - 82ms/epoch - 6ms/step\n",
      "Epoch 62/100\n",
      "13/13 - 0s - loss: 0.1087 - accuracy: 0.9643 - val_loss: 0.2225 - val_accuracy: 0.9302 - 82ms/epoch - 6ms/step\n",
      "Epoch 63/100\n",
      "13/13 - 0s - loss: 0.1230 - accuracy: 0.9510 - val_loss: 0.2142 - val_accuracy: 0.9236 - 78ms/epoch - 6ms/step\n",
      "Epoch 64/100\n",
      "13/13 - 0s - loss: 0.1027 - accuracy: 0.9634 - val_loss: 0.2464 - val_accuracy: 0.9236 - 81ms/epoch - 6ms/step\n",
      "Epoch 65/100\n",
      "13/13 - 0s - loss: 0.1194 - accuracy: 0.9584 - val_loss: 0.2103 - val_accuracy: 0.9468 - 81ms/epoch - 6ms/step\n",
      "Epoch 66/100\n",
      "13/13 - 0s - loss: 0.0957 - accuracy: 0.9601 - val_loss: 0.2772 - val_accuracy: 0.9003 - 96ms/epoch - 7ms/step\n",
      "Epoch 67/100\n",
      "13/13 - 0s - loss: 0.3891 - accuracy: 0.8653 - val_loss: 0.2284 - val_accuracy: 0.9169 - 82ms/epoch - 6ms/step\n",
      "Epoch 68/100\n",
      "13/13 - 0s - loss: 0.2021 - accuracy: 0.9277 - val_loss: 0.2603 - val_accuracy: 0.8937 - 84ms/epoch - 6ms/step\n",
      "Epoch 69/100\n",
      "13/13 - 0s - loss: 0.1459 - accuracy: 0.9485 - val_loss: 0.2025 - val_accuracy: 0.9402 - 80ms/epoch - 6ms/step\n",
      "Epoch 70/100\n",
      "13/13 - 0s - loss: 0.1064 - accuracy: 0.9701 - val_loss: 0.1852 - val_accuracy: 0.9435 - 75ms/epoch - 6ms/step\n",
      "Epoch 71/100\n",
      "13/13 - 0s - loss: 0.1283 - accuracy: 0.9501 - val_loss: 0.2433 - val_accuracy: 0.9369 - 76ms/epoch - 6ms/step\n",
      "Epoch 72/100\n",
      "13/13 - 0s - loss: 0.0890 - accuracy: 0.9734 - val_loss: 0.1815 - val_accuracy: 0.9302 - 80ms/epoch - 6ms/step\n",
      "Epoch 73/100\n",
      "13/13 - 0s - loss: 0.0765 - accuracy: 0.9742 - val_loss: 0.1614 - val_accuracy: 0.9468 - 80ms/epoch - 6ms/step\n",
      "Epoch 74/100\n",
      "13/13 - 0s - loss: 0.0671 - accuracy: 0.9784 - val_loss: 0.1735 - val_accuracy: 0.9502 - 88ms/epoch - 7ms/step\n",
      "Epoch 75/100\n",
      "13/13 - 0s - loss: 0.0940 - accuracy: 0.9659 - val_loss: 0.2117 - val_accuracy: 0.9468 - 77ms/epoch - 6ms/step\n",
      "Epoch 76/100\n",
      "13/13 - 0s - loss: 0.0727 - accuracy: 0.9776 - val_loss: 0.1805 - val_accuracy: 0.9535 - 77ms/epoch - 6ms/step\n",
      "Epoch 77/100\n",
      "13/13 - 0s - loss: 0.0682 - accuracy: 0.9776 - val_loss: 0.1650 - val_accuracy: 0.9502 - 79ms/epoch - 6ms/step\n",
      "Epoch 78/100\n",
      "13/13 - 0s - loss: 0.0583 - accuracy: 0.9834 - val_loss: 0.1775 - val_accuracy: 0.9468 - 76ms/epoch - 6ms/step\n",
      "Epoch 79/100\n",
      "13/13 - 0s - loss: 0.0695 - accuracy: 0.9776 - val_loss: 0.2254 - val_accuracy: 0.9269 - 86ms/epoch - 7ms/step\n",
      "Epoch 80/100\n",
      "13/13 - 0s - loss: 0.0658 - accuracy: 0.9809 - val_loss: 0.1884 - val_accuracy: 0.9435 - 83ms/epoch - 6ms/step\n",
      "Epoch 81/100\n",
      "13/13 - 0s - loss: 0.0472 - accuracy: 0.9884 - val_loss: 0.1959 - val_accuracy: 0.9502 - 76ms/epoch - 6ms/step\n",
      "Epoch 82/100\n",
      "13/13 - 0s - loss: 0.0469 - accuracy: 0.9892 - val_loss: 0.1801 - val_accuracy: 0.9468 - 82ms/epoch - 6ms/step\n",
      "Epoch 83/100\n",
      "13/13 - 0s - loss: 0.0432 - accuracy: 0.9884 - val_loss: 0.1888 - val_accuracy: 0.9535 - 86ms/epoch - 7ms/step\n",
      "Epoch 84/100\n",
      "13/13 - 0s - loss: 0.0347 - accuracy: 0.9942 - val_loss: 0.1904 - val_accuracy: 0.9568 - 92ms/epoch - 7ms/step\n",
      "Epoch 85/100\n",
      "13/13 - 0s - loss: 0.0325 - accuracy: 0.9925 - val_loss: 0.2074 - val_accuracy: 0.9568 - 85ms/epoch - 7ms/step\n",
      "Epoch 86/100\n",
      "13/13 - 0s - loss: 0.0418 - accuracy: 0.9900 - val_loss: 0.1860 - val_accuracy: 0.9535 - 96ms/epoch - 7ms/step\n",
      "Epoch 87/100\n",
      "13/13 - 0s - loss: 0.0531 - accuracy: 0.9784 - val_loss: 0.1744 - val_accuracy: 0.9568 - 89ms/epoch - 7ms/step\n",
      "Epoch 88/100\n",
      "13/13 - 0s - loss: 0.0397 - accuracy: 0.9892 - val_loss: 0.1790 - val_accuracy: 0.9535 - 90ms/epoch - 7ms/step\n",
      "Epoch 89/100\n",
      "13/13 - 0s - loss: 0.0342 - accuracy: 0.9925 - val_loss: 0.1693 - val_accuracy: 0.9535 - 90ms/epoch - 7ms/step\n",
      "Epoch 90/100\n",
      "13/13 - 0s - loss: 0.0271 - accuracy: 0.9942 - val_loss: 0.1706 - val_accuracy: 0.9601 - 86ms/epoch - 7ms/step\n",
      "Epoch 91/100\n",
      "13/13 - 0s - loss: 0.0714 - accuracy: 0.9759 - val_loss: 0.2316 - val_accuracy: 0.9402 - 82ms/epoch - 6ms/step\n",
      "Epoch 92/100\n",
      "13/13 - 0s - loss: 0.0397 - accuracy: 0.9925 - val_loss: 0.1984 - val_accuracy: 0.9468 - 88ms/epoch - 7ms/step\n",
      "Epoch 93/100\n",
      "13/13 - 0s - loss: 0.0350 - accuracy: 0.9900 - val_loss: 0.1769 - val_accuracy: 0.9502 - 93ms/epoch - 7ms/step\n",
      "Epoch 94/100\n",
      "13/13 - 0s - loss: 0.0271 - accuracy: 0.9925 - val_loss: 0.1641 - val_accuracy: 0.9568 - 88ms/epoch - 7ms/step\n",
      "Epoch 95/100\n",
      "13/13 - 0s - loss: 0.0246 - accuracy: 0.9942 - val_loss: 0.1669 - val_accuracy: 0.9635 - 90ms/epoch - 7ms/step\n",
      "Epoch 96/100\n",
      "13/13 - 0s - loss: 0.0273 - accuracy: 0.9917 - val_loss: 0.1748 - val_accuracy: 0.9668 - 87ms/epoch - 7ms/step\n",
      "Epoch 97/100\n",
      "13/13 - 0s - loss: 0.0209 - accuracy: 0.9950 - val_loss: 0.1704 - val_accuracy: 0.9535 - 84ms/epoch - 6ms/step\n",
      "Epoch 98/100\n",
      "13/13 - 0s - loss: 0.0258 - accuracy: 0.9942 - val_loss: 0.2033 - val_accuracy: 0.9468 - 91ms/epoch - 7ms/step\n",
      "Epoch 99/100\n",
      "13/13 - 0s - loss: 0.1039 - accuracy: 0.9651 - val_loss: 0.3636 - val_accuracy: 0.9003 - 86ms/epoch - 7ms/step\n",
      "Epoch 100/100\n",
      "13/13 - 0s - loss: 0.1037 - accuracy: 0.9609 - val_loss: 0.3361 - val_accuracy: 0.8904 - 88ms/epoch - 7ms/step\n"
     ]
    }
   ],
   "source": [
    "train_history = model.fit(X_train, y_train, validation_split=0.2, batch_size = 100, epochs = 100, verbose=2)"
   ]
  },
  {
   "cell_type": "markdown",
   "id": "15bf64d6",
   "metadata": {
    "papermill": {
     "duration": 0.028037,
     "end_time": "2024-01-31T08:26:57.958299",
     "exception": false,
     "start_time": "2024-01-31T08:26:57.930262",
     "status": "completed"
    },
    "tags": []
   },
   "source": [
    "## 評估訓練結果"
   ]
  },
  {
   "cell_type": "code",
   "execution_count": 10,
   "id": "ad0ccea8",
   "metadata": {
    "execution": {
     "iopub.execute_input": "2024-01-31T08:26:58.017034Z",
     "iopub.status.busy": "2024-01-31T08:26:58.016266Z",
     "iopub.status.idle": "2024-01-31T08:26:58.713863Z",
     "shell.execute_reply": "2024-01-31T08:26:58.712604Z"
    },
    "papermill": {
     "duration": 0.730093,
     "end_time": "2024-01-31T08:26:58.716365",
     "exception": false,
     "start_time": "2024-01-31T08:26:57.986272",
     "status": "completed"
    },
    "tags": []
   },
   "outputs": [
    {
     "data": {
      "image/png": "[encoded data removed]",
      "text/plain": [
       "<Figure size 640x480 with 1 Axes>"
      ]
     },
     "metadata": {},
     "output_type": "display_data"
    },
    {
     "data": {
      "image/png": "[encoded data removed]",
      "text/plain": [
       "<Figure size 640x480 with 1 Axes>"
      ]
     },
     "metadata": {},
     "output_type": "display_data"
    }
   ],
   "source": [
    "def show_train_history(train_history, train, validation):\n",
    "\n",
    "    plt.plot(train_history.history[train])\n",
    "\n",
    "    plt.plot(train_history.history[validation])\n",
    "\n",
    "    plt.title('Train History')\n",
    "\n",
    "    plt.ylabel('train')\n",
    "\n",
    "    plt.xlabel('Epoch')\n",
    "\n",
    "    plt.legend(['train', 'validation'], loc='upper left')\n",
    "\n",
    "    plt.show()\n",
    "    \n",
    "\n",
    "show_train_history(train_history, 'accuracy', 'val_accuracy')\n",
    "show_train_history(train_history, 'loss', 'val_loss')"
   ]
  },
  {
   "cell_type": "markdown",
   "id": "286f3954",
   "metadata": {
    "papermill": {
     "duration": 0.029501,
     "end_time": "2024-01-31T08:26:58.776641",
     "exception": false,
     "start_time": "2024-01-31T08:26:58.747140",
     "status": "completed"
    },
    "tags": []
   },
   "source": [
    "## 使用未參與訓練的測試資料測試，模型準確率"
   ]
  },
  {
   "cell_type": "code",
   "execution_count": 11,
   "id": "867e6e1b",
   "metadata": {
    "execution": {
     "iopub.execute_input": "2024-01-31T08:26:58.837360Z",
     "iopub.status.busy": "2024-01-31T08:26:58.836837Z",
     "iopub.status.idle": "2024-01-31T08:26:58.947849Z",
     "shell.execute_reply": "2024-01-31T08:26:58.946875Z"
    },
    "papermill": {
     "duration": 0.144956,
     "end_time": "2024-01-31T08:26:58.950816",
     "exception": false,
     "start_time": "2024-01-31T08:26:58.805860",
     "status": "completed"
    },
    "tags": []
   },
   "outputs": [
    {
     "name": "stdout",
     "output_type": "stream",
     "text": [
      "Accuracy =  0.8909574747085571\n"
     ]
    }
   ],
   "source": [
    "scores = model.evaluate(X_test,y_test,verbose=0)\n",
    "\n",
    "print('Accuracy = ', scores[1])"
   ]
  },
  {
   "cell_type": "markdown",
   "id": "a2cee590",
   "metadata": {
    "papermill": {
     "duration": 0.029211,
     "end_time": "2024-01-31T08:26:59.009794",
     "exception": false,
     "start_time": "2024-01-31T08:26:58.980583",
     "status": "completed"
    },
    "tags": []
   },
   "source": [
    "## 評估訓練結果"
   ]
  },
  {
   "cell_type": "code",
   "execution_count": 12,
   "id": "a3656088",
   "metadata": {
    "execution": {
     "iopub.execute_input": "2024-01-31T08:26:59.073198Z",
     "iopub.status.busy": "2024-01-31T08:26:59.072397Z",
     "iopub.status.idle": "2024-01-31T08:26:59.706355Z",
     "shell.execute_reply": "2024-01-31T08:26:59.705079Z"
    },
    "papermill": {
     "duration": 0.6685,
     "end_time": "2024-01-31T08:26:59.709330",
     "exception": false,
     "start_time": "2024-01-31T08:26:59.040830",
     "status": "completed"
    },
    "tags": []
   },
   "outputs": [
    {
     "name": "stdout",
     "output_type": "stream",
     "text": [
      "12/12 [==============================] - 0s 2ms/step\n"
     ]
    },
    {
     "data": {
      "image/png": "[encoded data removed]",
      "text/plain": [
       "<Figure size 1000x700 with 2 Axes>"
      ]
     },
     "metadata": {},
     "output_type": "display_data"
    }
   ],
   "source": [
    "y_pred = np.argmax(model.predict(X_test), axis=-1)\n",
    "y_true = np.argmax(y_test, axis=-1)\n",
    "conf_matrix = confusion_matrix(y_true, y_pred)\n",
    "\n",
    "plt.figure(figsize=(10, 7))\n",
    "sns.heatmap(conf_matrix, annot=True, fmt='d')\n",
    "plt.xlabel('Predicted')\n",
    "plt.ylabel('Truth')\n",
    "plt.show()"
   ]
  }
 ],
 "metadata": {
  "kaggle": {
   "accelerator": "none",
   "dataSources": [
    {
     "datasetId": 4275198,
     "sourceId": 7518995,
     "sourceType": "datasetVersion"
    }
   ],
   "dockerImageVersionId": 30635,
   "isGpuEnabled": false,
   "isInternetEnabled": false,
   "language": "python",
   "sourceType": "notebook"
  },
  "kernelspec": {
   "display_name": "Python 3",
   "language": "python",
   "name": "python3"
  },
  "language_info": {
   "codemirror_mode": {
    "name": "ipython",
    "version": 3
   },
   "file_extension": ".py",
   "mimetype": "text/x-python",
   "name": "python",
   "nbconvert_exporter": "python",
   "pygments_lexer": "ipython3",
   "version": "3.10.12"
  },
  "papermill": {
   "default_parameters": {},
   "duration": 157.023503,
   "end_time": "2024-01-31T08:27:03.037291",
   "environment_variables": {},
   "exception": null,
   "input_path": "__notebook__.ipynb",
   "output_path": "__notebook__.ipynb",
   "parameters": {},
   "start_time": "2024-01-31T08:24:26.013788",
   "version": "2.4.0"
  }
 },
 "nbformat": 4,
 "nbformat_minor": 5
}
