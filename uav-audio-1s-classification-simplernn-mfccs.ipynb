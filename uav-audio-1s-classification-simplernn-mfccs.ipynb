{
 "cells": [
  {
   "cell_type": "markdown",
   "id": "2458c351",
   "metadata": {
    "papermill": {
     "duration": 0.005174,
     "end_time": "2024-03-02T11:00:23.015075",
     "exception": false,
     "start_time": "2024-03-02T11:00:23.009901",
     "status": "completed"
    },
    "tags": []
   },
   "source": [
    "# Importing the libraries"
   ]
  },
  {
   "cell_type": "code",
   "execution_count": 1,
   "id": "63010557",
   "metadata": {
    "_cell_guid": "b1076dfc-b9ad-4769-8c92-a6c4dae69d19",
    "_uuid": "8f2839f25d086af736a60e9eeb907d3b93b6e0e5",
    "execution": {
     "iopub.execute_input": "2024-03-02T11:00:23.026378Z",
     "iopub.status.busy": "2024-03-02T11:00:23.025767Z",
     "iopub.status.idle": "2024-03-02T11:00:37.800850Z",
     "shell.execute_reply": "2024-03-02T11:00:37.799182Z"
    },
    "papermill": {
     "duration": 14.784323,
     "end_time": "2024-03-02T11:00:37.803947",
     "exception": false,
     "start_time": "2024-03-02T11:00:23.019624",
     "status": "completed"
    },
    "tags": []
   },
   "outputs": [
    {
     "name": "stderr",
     "output_type": "stream",
     "text": [
      "2024-03-02 11:00:27.758582: E external/local_xla/xla/stream_executor/cuda/cuda_dnn.cc:9261] Unable to register cuDNN factory: Attempting to register factory for plugin cuDNN when one has already been registered\n",
      "2024-03-02 11:00:27.758743: E external/local_xla/xla/stream_executor/cuda/cuda_fft.cc:607] Unable to register cuFFT factory: Attempting to register factory for plugin cuFFT when one has already been registered\n",
      "2024-03-02 11:00:27.917904: E external/local_xla/xla/stream_executor/cuda/cuda_blas.cc:1515] Unable to register cuBLAS factory: Attempting to register factory for plugin cuBLAS when one has already been registered\n"
     ]
    }
   ],
   "source": [
    "import numpy as np\n",
    "import pandas as pd\n",
    "import librosa\n",
    "import os\n",
    "import seaborn as sns\n",
    "import matplotlib.pyplot as plt\n",
    "from sklearn.metrics import confusion_matrix\n",
    "from sklearn.preprocessing import LabelEncoder\n",
    "from keras.utils import to_categorical\n",
    "from sklearn.model_selection import train_test_split\n",
    "from keras.models import Sequential\n",
    "from keras.layers import SimpleRNN, Dense, Dropout\n",
    "from keras.callbacks import ModelCheckpoint\n",
    "from keras.optimizers import Adam"
   ]
  },
  {
   "cell_type": "markdown",
   "id": "e8056c98",
   "metadata": {
    "papermill": {
     "duration": 0.004257,
     "end_time": "2024-03-02T11:00:37.813246",
     "exception": false,
     "start_time": "2024-03-02T11:00:37.808989",
     "status": "completed"
    },
    "tags": []
   },
   "source": [
    "# 加載音頻訊號"
   ]
  },
  {
   "cell_type": "code",
   "execution_count": 2,
   "id": "7748cb24",
   "metadata": {
    "execution": {
     "iopub.execute_input": "2024-03-02T11:00:37.824281Z",
     "iopub.status.busy": "2024-03-02T11:00:37.823513Z",
     "iopub.status.idle": "2024-03-02T11:00:37.828872Z",
     "shell.execute_reply": "2024-03-02T11:00:37.827374Z"
    },
    "papermill": {
     "duration": 0.01315,
     "end_time": "2024-03-02T11:00:37.830804",
     "exception": false,
     "start_time": "2024-03-02T11:00:37.817654",
     "status": "completed"
    },
    "tags": []
   },
   "outputs": [],
   "source": [
    "data_path = '/kaggle/input/recoding-data/UAV Recordings 1s/UAV Recordings 1s'"
   ]
  },
  {
   "cell_type": "markdown",
   "id": "a62043fc",
   "metadata": {
    "papermill": {
     "duration": 0.004037,
     "end_time": "2024-03-02T11:00:37.839773",
     "exception": false,
     "start_time": "2024-03-02T11:00:37.835736",
     "status": "completed"
    },
    "tags": []
   },
   "source": [
    "# 音頻訊號進行MFCCs特徵提取"
   ]
  },
  {
   "cell_type": "code",
   "execution_count": 3,
   "id": "6ac600e6",
   "metadata": {
    "execution": {
     "iopub.execute_input": "2024-03-02T11:00:37.850301Z",
     "iopub.status.busy": "2024-03-02T11:00:37.849857Z",
     "iopub.status.idle": "2024-03-02T11:02:50.737018Z",
     "shell.execute_reply": "2024-03-02T11:02:50.736177Z"
    },
    "papermill": {
     "duration": 132.895841,
     "end_time": "2024-03-02T11:02:50.739810",
     "exception": false,
     "start_time": "2024-03-02T11:00:37.843969",
     "status": "completed"
    },
    "tags": []
   },
   "outputs": [],
   "source": [
    "def load_data(data_dir):\n",
    "    datasets = []\n",
    "    labels = []\n",
    "    categories = os.listdir(data_dir)\n",
    "    for index, folder in enumerate(categories):\n",
    "        for filename in os.listdir(data_dir+\"/\"+folder):\n",
    "            data, sampling_rate = librosa.load(data_dir+\"/\"+folder+\"/\"+filename)\n",
    "            mfccs_features = librosa.feature.mfcc(y=data, sr=sampling_rate, n_mfcc=80)\n",
    "            mfccs_scaled_features = np.mean(mfccs_features.T,axis=0)\n",
    "            datasets.append(np.array(mfccs_scaled_features))\n",
    "            labels.append(categories[index])\n",
    "    return np.array(datasets), np.array(labels)\n",
    "\n",
    "datasets, labels = load_data(data_path)"
   ]
  },
  {
   "cell_type": "code",
   "execution_count": 4,
   "id": "f48402b2",
   "metadata": {
    "execution": {
     "iopub.execute_input": "2024-03-02T11:02:50.753866Z",
     "iopub.status.busy": "2024-03-02T11:02:50.753060Z",
     "iopub.status.idle": "2024-03-02T11:02:50.761283Z",
     "shell.execute_reply": "2024-03-02T11:02:50.760525Z"
    },
    "papermill": {
     "duration": 0.017349,
     "end_time": "2024-03-02T11:02:50.763175",
     "exception": false,
     "start_time": "2024-03-02T11:02:50.745826",
     "status": "completed"
    },
    "tags": []
   },
   "outputs": [],
   "source": [
    "datasets = datasets.astype('float32')\n",
    "\n",
    "labelencoder = LabelEncoder()\n",
    "\n",
    "labelsOneHot = to_categorical(labelencoder.fit_transform(labels))"
   ]
  },
  {
   "cell_type": "markdown",
   "id": "0ba66303",
   "metadata": {
    "papermill": {
     "duration": 0.004957,
     "end_time": "2024-03-02T11:02:50.773899",
     "exception": false,
     "start_time": "2024-03-02T11:02:50.768942",
     "status": "completed"
    },
    "tags": []
   },
   "source": [
    "# 切分成訓練資料、測試資料，8:2的比例"
   ]
  },
  {
   "cell_type": "code",
   "execution_count": 5,
   "id": "f698573e",
   "metadata": {
    "execution": {
     "iopub.execute_input": "2024-03-02T11:02:50.786587Z",
     "iopub.status.busy": "2024-03-02T11:02:50.786151Z",
     "iopub.status.idle": "2024-03-02T11:02:50.841408Z",
     "shell.execute_reply": "2024-03-02T11:02:50.840645Z"
    },
    "papermill": {
     "duration": 0.0645,
     "end_time": "2024-03-02T11:02:50.843701",
     "exception": false,
     "start_time": "2024-03-02T11:02:50.779201",
     "status": "completed"
    },
    "tags": []
   },
   "outputs": [
    {
     "name": "stdout",
     "output_type": "stream",
     "text": [
      "----------Train-------------\n",
      "(4512, 80)\n",
      "----------Test--------------\n",
      "(1128, 80)\n"
     ]
    }
   ],
   "source": [
    "X_train, X_test, y_train, y_test = train_test_split(datasets, labelsOneHot, test_size = 0.2, stratify = labelsOneHot, random_state = 3)\n",
    "\n",
    "print(\"----------Train-------------\")\n",
    "print(X_train.shape)\n",
    "\n",
    "print(\"----------Test--------------\")\n",
    "print(X_test.shape)"
   ]
  },
  {
   "cell_type": "markdown",
   "id": "5993ffa1",
   "metadata": {
    "papermill": {
     "duration": 0.004371,
     "end_time": "2024-03-02T11:02:50.853723",
     "exception": false,
     "start_time": "2024-03-02T11:02:50.849352",
     "status": "completed"
    },
    "tags": []
   },
   "source": [
    "# 類別數量"
   ]
  },
  {
   "cell_type": "code",
   "execution_count": 6,
   "id": "d089a869",
   "metadata": {
    "execution": {
     "iopub.execute_input": "2024-03-02T11:02:50.865090Z",
     "iopub.status.busy": "2024-03-02T11:02:50.864424Z",
     "iopub.status.idle": "2024-03-02T11:02:50.869167Z",
     "shell.execute_reply": "2024-03-02T11:02:50.868464Z"
    },
    "papermill": {
     "duration": 0.012841,
     "end_time": "2024-03-02T11:02:50.871249",
     "exception": false,
     "start_time": "2024-03-02T11:02:50.858408",
     "status": "completed"
    },
    "tags": []
   },
   "outputs": [],
   "source": [
    "num_classes = len(np.unique(labels))"
   ]
  },
  {
   "cell_type": "markdown",
   "id": "758649a9",
   "metadata": {
    "papermill": {
     "duration": 0.004237,
     "end_time": "2024-03-02T11:02:50.880274",
     "exception": false,
     "start_time": "2024-03-02T11:02:50.876037",
     "status": "completed"
    },
    "tags": []
   },
   "source": [
    "# 建立SimpleRNN模型"
   ]
  },
  {
   "cell_type": "code",
   "execution_count": 7,
   "id": "8414463c",
   "metadata": {
    "execution": {
     "iopub.execute_input": "2024-03-02T11:02:50.892948Z",
     "iopub.status.busy": "2024-03-02T11:02:50.892141Z",
     "iopub.status.idle": "2024-03-02T11:02:51.054372Z",
     "shell.execute_reply": "2024-03-02T11:02:51.053039Z"
    },
    "papermill": {
     "duration": 0.170779,
     "end_time": "2024-03-02T11:02:51.056788",
     "exception": false,
     "start_time": "2024-03-02T11:02:50.886009",
     "status": "completed"
    },
    "tags": []
   },
   "outputs": [
    {
     "name": "stderr",
     "output_type": "stream",
     "text": [
      "/opt/conda/lib/python3.10/site-packages/keras/src/layers/rnn/rnn.py:205: UserWarning: Do not pass an `input_shape`/`input_dim` argument to a layer. When using Sequential models, prefer using an `Input(shape)` object as the first layer in the model instead.\n",
      "  super().__init__(**kwargs)\n"
     ]
    },
    {
     "data": {
      "text/html": [
       "<pre style=\"white-space:pre;overflow-x:auto;line-height:normal;font-family:Menlo,'DejaVu Sans Mono',consolas,'Courier New',monospace\"><span style=\"font-weight: bold\">Model: \"sequential\"</span>\n",
       "</pre>\n"
      ],
      "text/plain": [
       "\u001b[1mModel: \"sequential\"\u001b[0m\n"
      ]
     },
     "metadata": {},
     "output_type": "display_data"
    },
    {
     "data": {
      "text/html": [
       "<pre style=\"white-space:pre;overflow-x:auto;line-height:normal;font-family:Menlo,'DejaVu Sans Mono',consolas,'Courier New',monospace\">┏━━━━━━━━━━━━━━━━━━━━━━━━━━━━━━━━━┳━━━━━━━━━━━━━━━━━━━━━━━━┳━━━━━━━━━━━━━━━┓\n",
       "┃<span style=\"font-weight: bold\"> Layer (type)                    </span>┃<span style=\"font-weight: bold\"> Output Shape           </span>┃<span style=\"font-weight: bold\">       Param # </span>┃\n",
       "┡━━━━━━━━━━━━━━━━━━━━━━━━━━━━━━━━━╇━━━━━━━━━━━━━━━━━━━━━━━━╇━━━━━━━━━━━━━━━┩\n",
       "│ simple_rnn (<span style=\"color: #0087ff; text-decoration-color: #0087ff\">SimpleRNN</span>)          │ (<span style=\"color: #00d7ff; text-decoration-color: #00d7ff\">None</span>, <span style=\"color: #00af00; text-decoration-color: #00af00\">80</span>, <span style=\"color: #00af00; text-decoration-color: #00af00\">128</span>)        │        <span style=\"color: #00af00; text-decoration-color: #00af00\">16,640</span> │\n",
       "├─────────────────────────────────┼────────────────────────┼───────────────┤\n",
       "│ simple_rnn_1 (<span style=\"color: #0087ff; text-decoration-color: #0087ff\">SimpleRNN</span>)        │ (<span style=\"color: #00d7ff; text-decoration-color: #00d7ff\">None</span>, <span style=\"color: #00af00; text-decoration-color: #00af00\">64</span>)             │        <span style=\"color: #00af00; text-decoration-color: #00af00\">12,352</span> │\n",
       "├─────────────────────────────────┼────────────────────────┼───────────────┤\n",
       "│ dense (<span style=\"color: #0087ff; text-decoration-color: #0087ff\">Dense</span>)                   │ (<span style=\"color: #00d7ff; text-decoration-color: #00d7ff\">None</span>, <span style=\"color: #00af00; text-decoration-color: #00af00\">64</span>)             │         <span style=\"color: #00af00; text-decoration-color: #00af00\">4,160</span> │\n",
       "├─────────────────────────────────┼────────────────────────┼───────────────┤\n",
       "│ dropout (<span style=\"color: #0087ff; text-decoration-color: #0087ff\">Dropout</span>)               │ (<span style=\"color: #00d7ff; text-decoration-color: #00d7ff\">None</span>, <span style=\"color: #00af00; text-decoration-color: #00af00\">64</span>)             │             <span style=\"color: #00af00; text-decoration-color: #00af00\">0</span> │\n",
       "├─────────────────────────────────┼────────────────────────┼───────────────┤\n",
       "│ dense_1 (<span style=\"color: #0087ff; text-decoration-color: #0087ff\">Dense</span>)                 │ (<span style=\"color: #00d7ff; text-decoration-color: #00d7ff\">None</span>, <span style=\"color: #00af00; text-decoration-color: #00af00\">5</span>)              │           <span style=\"color: #00af00; text-decoration-color: #00af00\">325</span> │\n",
       "└─────────────────────────────────┴────────────────────────┴───────────────┘\n",
       "</pre>\n"
      ],
      "text/plain": [
       "┏━━━━━━━━━━━━━━━━━━━━━━━━━━━━━━━━━┳━━━━━━━━━━━━━━━━━━━━━━━━┳━━━━━━━━━━━━━━━┓\n",
       "┃\u001b[1m \u001b[0m\u001b[1mLayer (type)                   \u001b[0m\u001b[1m \u001b[0m┃\u001b[1m \u001b[0m\u001b[1mOutput Shape          \u001b[0m\u001b[1m \u001b[0m┃\u001b[1m \u001b[0m\u001b[1m      Param #\u001b[0m\u001b[1m \u001b[0m┃\n",
       "┡━━━━━━━━━━━━━━━━━━━━━━━━━━━━━━━━━╇━━━━━━━━━━━━━━━━━━━━━━━━╇━━━━━━━━━━━━━━━┩\n",
       "│ simple_rnn (\u001b[38;5;33mSimpleRNN\u001b[0m)          │ (\u001b[38;5;45mNone\u001b[0m, \u001b[38;5;34m80\u001b[0m, \u001b[38;5;34m128\u001b[0m)        │        \u001b[38;5;34m16,640\u001b[0m │\n",
       "├─────────────────────────────────┼────────────────────────┼───────────────┤\n",
       "│ simple_rnn_1 (\u001b[38;5;33mSimpleRNN\u001b[0m)        │ (\u001b[38;5;45mNone\u001b[0m, \u001b[38;5;34m64\u001b[0m)             │        \u001b[38;5;34m12,352\u001b[0m │\n",
       "├─────────────────────────────────┼────────────────────────┼───────────────┤\n",
       "│ dense (\u001b[38;5;33mDense\u001b[0m)                   │ (\u001b[38;5;45mNone\u001b[0m, \u001b[38;5;34m64\u001b[0m)             │         \u001b[38;5;34m4,160\u001b[0m │\n",
       "├─────────────────────────────────┼────────────────────────┼───────────────┤\n",
       "│ dropout (\u001b[38;5;33mDropout\u001b[0m)               │ (\u001b[38;5;45mNone\u001b[0m, \u001b[38;5;34m64\u001b[0m)             │             \u001b[38;5;34m0\u001b[0m │\n",
       "├─────────────────────────────────┼────────────────────────┼───────────────┤\n",
       "│ dense_1 (\u001b[38;5;33mDense\u001b[0m)                 │ (\u001b[38;5;45mNone\u001b[0m, \u001b[38;5;34m5\u001b[0m)              │           \u001b[38;5;34m325\u001b[0m │\n",
       "└─────────────────────────────────┴────────────────────────┴───────────────┘\n"
      ]
     },
     "metadata": {},
     "output_type": "display_data"
    },
    {
     "data": {
      "text/html": [
       "<pre style=\"white-space:pre;overflow-x:auto;line-height:normal;font-family:Menlo,'DejaVu Sans Mono',consolas,'Courier New',monospace\"><span style=\"font-weight: bold\"> Total params: </span><span style=\"color: #00af00; text-decoration-color: #00af00\">33,477</span> (130.77 KB)\n",
       "</pre>\n"
      ],
      "text/plain": [
       "\u001b[1m Total params: \u001b[0m\u001b[38;5;34m33,477\u001b[0m (130.77 KB)\n"
      ]
     },
     "metadata": {},
     "output_type": "display_data"
    },
    {
     "data": {
      "text/html": [
       "<pre style=\"white-space:pre;overflow-x:auto;line-height:normal;font-family:Menlo,'DejaVu Sans Mono',consolas,'Courier New',monospace\"><span style=\"font-weight: bold\"> Trainable params: </span><span style=\"color: #00af00; text-decoration-color: #00af00\">33,477</span> (130.77 KB)\n",
       "</pre>\n"
      ],
      "text/plain": [
       "\u001b[1m Trainable params: \u001b[0m\u001b[38;5;34m33,477\u001b[0m (130.77 KB)\n"
      ]
     },
     "metadata": {},
     "output_type": "display_data"
    },
    {
     "data": {
      "text/html": [
       "<pre style=\"white-space:pre;overflow-x:auto;line-height:normal;font-family:Menlo,'DejaVu Sans Mono',consolas,'Courier New',monospace\"><span style=\"font-weight: bold\"> Non-trainable params: </span><span style=\"color: #00af00; text-decoration-color: #00af00\">0</span> (0.00 B)\n",
       "</pre>\n"
      ],
      "text/plain": [
       "\u001b[1m Non-trainable params: \u001b[0m\u001b[38;5;34m0\u001b[0m (0.00 B)\n"
      ]
     },
     "metadata": {},
     "output_type": "display_data"
    }
   ],
   "source": [
    "# 建立一個Sequential模型\n",
    "model = Sequential()\n",
    "\n",
    "# 添加一個SimpleRNN層，設定隱藏層的神經元數量為32\n",
    "model.add(SimpleRNN(128, return_sequences = True, activation='relu', input_shape = (X_train.shape[1], 1)))\n",
    "\n",
    "model.add(SimpleRNN(64, activation='relu'))\n",
    "\n",
    "model.add(Dense(64, activation='relu'))\n",
    "\n",
    "# 使用Dropout防止過度擬合\n",
    "model.add(Dropout(0.25))\n",
    "\n",
    "# 輸出層，有num_classes個類別，所以輸出層的輸出維度為num_classes\n",
    "model.add(Dense(num_classes, activation='softmax'))\n",
    "\n",
    "# 選擇損失函數、優化方法及成效衡量方式\n",
    "model.compile(optimizer='adam', loss='categorical_crossentropy', metrics=['accuracy'])\n",
    "\n",
    "model.summary()"
   ]
  },
  {
   "cell_type": "markdown",
   "id": "1a3af089",
   "metadata": {
    "papermill": {
     "duration": 0.004851,
     "end_time": "2024-03-02T11:02:51.067037",
     "exception": false,
     "start_time": "2024-03-02T11:02:51.062186",
     "status": "completed"
    },
    "tags": []
   },
   "source": [
    "# 模型訓練"
   ]
  },
  {
   "cell_type": "code",
   "execution_count": 8,
   "id": "1bca3e6e",
   "metadata": {
    "execution": {
     "iopub.execute_input": "2024-03-02T11:02:51.079973Z",
     "iopub.status.busy": "2024-03-02T11:02:51.078471Z",
     "iopub.status.idle": "2024-03-02T11:08:42.174518Z",
     "shell.execute_reply": "2024-03-02T11:08:42.173379Z"
    },
    "papermill": {
     "duration": 351.105436,
     "end_time": "2024-03-02T11:08:42.177451",
     "exception": false,
     "start_time": "2024-03-02T11:02:51.072015",
     "status": "completed"
    },
    "tags": []
   },
   "outputs": [
    {
     "name": "stdout",
     "output_type": "stream",
     "text": [
      "Epoch 1/150\n",
      "37/37 - 5s - 134ms/step - accuracy: 0.3006 - loss: 1.5556 - val_accuracy: 0.4009 - val_loss: 1.4238\n",
      "Epoch 2/150\n",
      "37/37 - 2s - 58ms/step - accuracy: 0.4422 - loss: 1.3188 - val_accuracy: 0.5238 - val_loss: 1.1617\n",
      "Epoch 3/150\n",
      "37/37 - 3s - 68ms/step - accuracy: 0.5398 - loss: 1.1467 - val_accuracy: 0.5637 - val_loss: 1.1095\n",
      "Epoch 4/150\n",
      "37/37 - 2s - 58ms/step - accuracy: 0.5722 - loss: 1.0656 - val_accuracy: 0.6334 - val_loss: 0.8920\n",
      "Epoch 5/150\n",
      "37/37 - 2s - 65ms/step - accuracy: 0.5891 - loss: 1.0441 - val_accuracy: 0.6290 - val_loss: 0.9481\n",
      "Epoch 6/150\n",
      "37/37 - 3s - 72ms/step - accuracy: 0.6611 - loss: 0.8615 - val_accuracy: 0.6910 - val_loss: 0.8015\n",
      "Epoch 7/150\n",
      "37/37 - 2s - 55ms/step - accuracy: 0.6899 - loss: 0.8134 - val_accuracy: 0.7143 - val_loss: 0.7728\n",
      "Epoch 8/150\n",
      "37/37 - 2s - 56ms/step - accuracy: 0.6963 - loss: 0.8177 - val_accuracy: 0.7065 - val_loss: 0.7616\n",
      "Epoch 9/150\n",
      "37/37 - 2s - 66ms/step - accuracy: 0.7174 - loss: 0.7456 - val_accuracy: 0.7076 - val_loss: 0.7581\n",
      "Epoch 10/150\n",
      "37/37 - 2s - 54ms/step - accuracy: 0.7334 - loss: 0.7063 - val_accuracy: 0.7309 - val_loss: 0.7171\n",
      "Epoch 11/150\n",
      "37/37 - 2s - 53ms/step - accuracy: 0.7387 - loss: 0.6880 - val_accuracy: 0.7110 - val_loss: 0.7692\n",
      "Epoch 12/150\n",
      "37/37 - 3s - 72ms/step - accuracy: 0.7545 - loss: 0.6535 - val_accuracy: 0.6910 - val_loss: 0.8445\n",
      "Epoch 13/150\n",
      "37/37 - 2s - 56ms/step - accuracy: 0.7467 - loss: 0.6875 - val_accuracy: 0.7464 - val_loss: 0.6780\n",
      "Epoch 14/150\n",
      "37/37 - 2s - 53ms/step - accuracy: 0.7498 - loss: 0.6500 - val_accuracy: 0.7220 - val_loss: 0.7400\n",
      "Epoch 15/150\n",
      "37/37 - 2s - 53ms/step - accuracy: 0.7279 - loss: 0.7546 - val_accuracy: 0.5349 - val_loss: 1.1605\n",
      "Epoch 16/150\n",
      "37/37 - 2s - 52ms/step - accuracy: 0.6980 - loss: 0.8137 - val_accuracy: 0.7564 - val_loss: 0.7078\n",
      "Epoch 17/150\n",
      "37/37 - 3s - 70ms/step - accuracy: 0.7731 - loss: 0.6203 - val_accuracy: 0.7719 - val_loss: 0.6415\n",
      "Epoch 18/150\n",
      "37/37 - 2s - 58ms/step - accuracy: 0.7839 - loss: 0.5850 - val_accuracy: 0.7475 - val_loss: 0.7067\n",
      "Epoch 19/150\n",
      "37/37 - 2s - 64ms/step - accuracy: 0.7803 - loss: 0.5723 - val_accuracy: 0.7852 - val_loss: 0.7283\n",
      "Epoch 20/150\n",
      "37/37 - 2s - 54ms/step - accuracy: 0.7847 - loss: 0.5631 - val_accuracy: 0.7564 - val_loss: 0.6504\n",
      "Epoch 21/150\n",
      "37/37 - 2s - 56ms/step - accuracy: 0.7975 - loss: 0.5531 - val_accuracy: 0.7863 - val_loss: 0.6785\n",
      "Epoch 22/150\n",
      "37/37 - 2s - 53ms/step - accuracy: 0.8052 - loss: 0.5203 - val_accuracy: 0.7829 - val_loss: 0.6233\n",
      "Epoch 23/150\n",
      "37/37 - 2s - 53ms/step - accuracy: 0.7891 - loss: 0.5625 - val_accuracy: 0.6811 - val_loss: 0.9717\n",
      "Epoch 24/150\n",
      "37/37 - 3s - 73ms/step - accuracy: 0.5143 - loss: 1.2211 - val_accuracy: 0.6268 - val_loss: 1.0048\n",
      "Epoch 25/150\n",
      "37/37 - 2s - 57ms/step - accuracy: 0.6212 - loss: 1.0197 - val_accuracy: 0.6024 - val_loss: 1.1013\n",
      "Epoch 26/150\n",
      "37/37 - 2s - 67ms/step - accuracy: 0.6597 - loss: 0.9194 - val_accuracy: 0.6589 - val_loss: 0.9369\n",
      "Epoch 27/150\n",
      "37/37 - 2s - 53ms/step - accuracy: 0.6800 - loss: 0.8861 - val_accuracy: 0.6822 - val_loss: 0.8567\n",
      "Epoch 28/150\n",
      "37/37 - 3s - 72ms/step - accuracy: 0.6800 - loss: 0.8538 - val_accuracy: 0.6811 - val_loss: 0.8687\n",
      "Epoch 29/150\n",
      "37/37 - 3s - 68ms/step - accuracy: 0.7143 - loss: 0.7970 - val_accuracy: 0.6722 - val_loss: 0.8776\n",
      "Epoch 30/150\n",
      "37/37 - 3s - 68ms/step - accuracy: 0.7177 - loss: 0.7753 - val_accuracy: 0.7032 - val_loss: 0.8465\n",
      "Epoch 31/150\n",
      "37/37 - 2s - 67ms/step - accuracy: 0.7149 - loss: 0.7695 - val_accuracy: 0.6700 - val_loss: 0.9206\n",
      "Epoch 32/150\n",
      "37/37 - 3s - 76ms/step - accuracy: 0.7165 - loss: 0.7682 - val_accuracy: 0.7043 - val_loss: 0.8039\n",
      "Epoch 33/150\n",
      "37/37 - 2s - 58ms/step - accuracy: 0.7373 - loss: 0.7045 - val_accuracy: 0.6977 - val_loss: 0.8497\n",
      "Epoch 34/150\n",
      "37/37 - 2s - 66ms/step - accuracy: 0.7404 - loss: 0.6865 - val_accuracy: 0.7154 - val_loss: 0.7638\n",
      "Epoch 35/150\n",
      "37/37 - 2s - 57ms/step - accuracy: 0.7667 - loss: 0.6434 - val_accuracy: 0.7065 - val_loss: 0.7646\n",
      "Epoch 36/150\n",
      "37/37 - 2s - 54ms/step - accuracy: 0.7756 - loss: 0.6150 - val_accuracy: 0.7320 - val_loss: 0.7604\n",
      "Epoch 37/150\n",
      "37/37 - 3s - 71ms/step - accuracy: 0.7731 - loss: 0.6263 - val_accuracy: 0.6932 - val_loss: 0.8027\n",
      "Epoch 38/150\n",
      "37/37 - 2s - 55ms/step - accuracy: 0.7620 - loss: 0.6588 - val_accuracy: 0.7530 - val_loss: 0.7421\n",
      "Epoch 39/150\n",
      "37/37 - 2s - 53ms/step - accuracy: 0.7880 - loss: 0.5913 - val_accuracy: 0.7519 - val_loss: 0.7028\n",
      "Epoch 40/150\n",
      "37/37 - 2s - 51ms/step - accuracy: 0.8085 - loss: 0.5197 - val_accuracy: 0.7431 - val_loss: 0.7261\n",
      "Epoch 41/150\n",
      "37/37 - 2s - 54ms/step - accuracy: 0.8116 - loss: 0.5021 - val_accuracy: 0.7375 - val_loss: 0.7913\n",
      "Epoch 42/150\n",
      "37/37 - 3s - 69ms/step - accuracy: 0.8182 - loss: 0.4980 - val_accuracy: 0.7530 - val_loss: 0.6439\n",
      "Epoch 43/150\n",
      "37/37 - 2s - 55ms/step - accuracy: 0.8310 - loss: 0.4634 - val_accuracy: 0.7663 - val_loss: 0.6595\n",
      "Epoch 44/150\n",
      "37/37 - 3s - 71ms/step - accuracy: 0.7963 - loss: 0.5459 - val_accuracy: 0.7508 - val_loss: 0.6521\n",
      "Epoch 45/150\n",
      "37/37 - 2s - 54ms/step - accuracy: 0.8252 - loss: 0.4871 - val_accuracy: 0.7254 - val_loss: 0.8687\n",
      "Epoch 46/150\n",
      "37/37 - 2s - 58ms/step - accuracy: 0.8268 - loss: 0.4620 - val_accuracy: 0.7553 - val_loss: 0.7324\n",
      "Epoch 47/150\n",
      "37/37 - 2s - 65ms/step - accuracy: 0.8498 - loss: 0.4145 - val_accuracy: 0.7807 - val_loss: 0.6162\n",
      "Epoch 48/150\n",
      "37/37 - 2s - 56ms/step - accuracy: 0.8213 - loss: 0.4768 - val_accuracy: 0.7685 - val_loss: 0.6368\n",
      "Epoch 49/150\n",
      "37/37 - 2s - 56ms/step - accuracy: 0.8512 - loss: 0.4049 - val_accuracy: 0.7575 - val_loss: 0.6947\n",
      "Epoch 50/150\n",
      "37/37 - 2s - 54ms/step - accuracy: 0.8648 - loss: 0.3743 - val_accuracy: 0.7752 - val_loss: 0.7296\n",
      "Epoch 51/150\n",
      "37/37 - 3s - 71ms/step - accuracy: 0.8645 - loss: 0.3741 - val_accuracy: 0.7984 - val_loss: 0.6688\n",
      "Epoch 52/150\n",
      "37/37 - 2s - 67ms/step - accuracy: 0.8767 - loss: 0.3441 - val_accuracy: 0.7553 - val_loss: 0.6720\n",
      "Epoch 53/150\n",
      "37/37 - 2s - 55ms/step - accuracy: 0.8548 - loss: 0.4024 - val_accuracy: 0.7763 - val_loss: 0.6166\n",
      "Epoch 54/150\n",
      "37/37 - 3s - 70ms/step - accuracy: 0.8720 - loss: 0.3545 - val_accuracy: 0.7741 - val_loss: 0.6391\n",
      "Epoch 55/150\n",
      "37/37 - 2s - 54ms/step - accuracy: 0.8786 - loss: 0.3299 - val_accuracy: 0.7741 - val_loss: 0.6697\n",
      "Epoch 56/150\n",
      "37/37 - 2s - 55ms/step - accuracy: 0.8825 - loss: 0.3113 - val_accuracy: 0.7663 - val_loss: 0.7178\n",
      "Epoch 57/150\n",
      "37/37 - 3s - 74ms/step - accuracy: 0.8778 - loss: 0.3305 - val_accuracy: 0.7829 - val_loss: 0.6266\n",
      "Epoch 58/150\n",
      "37/37 - 2s - 55ms/step - accuracy: 0.8958 - loss: 0.2831 - val_accuracy: 0.7929 - val_loss: 0.6120\n",
      "Epoch 59/150\n",
      "37/37 - 2s - 53ms/step - accuracy: 0.9041 - loss: 0.2959 - val_accuracy: 0.7774 - val_loss: 0.8323\n",
      "Epoch 60/150\n",
      "37/37 - 2s - 60ms/step - accuracy: 0.8878 - loss: 0.3046 - val_accuracy: 0.7852 - val_loss: 0.6994\n",
      "Epoch 61/150\n",
      "37/37 - 2s - 65ms/step - accuracy: 0.8997 - loss: 0.2807 - val_accuracy: 0.7818 - val_loss: 0.7125\n",
      "Epoch 62/150\n",
      "37/37 - 3s - 69ms/step - accuracy: 0.8470 - loss: 0.4135 - val_accuracy: 0.7874 - val_loss: 0.6079\n",
      "Epoch 63/150\n",
      "37/37 - 3s - 69ms/step - accuracy: 0.8889 - loss: 0.3140 - val_accuracy: 0.7807 - val_loss: 0.8032\n",
      "Epoch 64/150\n",
      "37/37 - 2s - 57ms/step - accuracy: 0.9025 - loss: 0.2822 - val_accuracy: 0.7674 - val_loss: 0.7563\n",
      "Epoch 65/150\n",
      "37/37 - 2s - 58ms/step - accuracy: 0.8656 - loss: 0.3834 - val_accuracy: 0.7807 - val_loss: 0.6476\n",
      "Epoch 66/150\n",
      "37/37 - 3s - 69ms/step - accuracy: 0.8950 - loss: 0.2924 - val_accuracy: 0.7674 - val_loss: 0.7700\n",
      "Epoch 67/150\n",
      "37/37 - 3s - 70ms/step - accuracy: 0.8767 - loss: 0.3313 - val_accuracy: 0.7674 - val_loss: 0.8397\n",
      "Epoch 68/150\n",
      "37/37 - 2s - 56ms/step - accuracy: 0.8853 - loss: 0.3050 - val_accuracy: 0.7973 - val_loss: 0.7362\n",
      "Epoch 69/150\n",
      "37/37 - 2s - 57ms/step - accuracy: 0.9116 - loss: 0.2478 - val_accuracy: 0.8051 - val_loss: 0.7056\n",
      "Epoch 70/150\n",
      "37/37 - 2s - 67ms/step - accuracy: 0.9155 - loss: 0.2435 - val_accuracy: 0.7730 - val_loss: 0.7304\n",
      "Epoch 71/150\n",
      "37/37 - 2s - 56ms/step - accuracy: 0.8227 - loss: 0.5229 - val_accuracy: 0.7763 - val_loss: 0.6965\n",
      "Epoch 72/150\n",
      "37/37 - 2s - 54ms/step - accuracy: 0.9030 - loss: 0.2555 - val_accuracy: 0.7564 - val_loss: 0.8690\n",
      "Epoch 73/150\n",
      "37/37 - 2s - 57ms/step - accuracy: 0.9180 - loss: 0.2189 - val_accuracy: 0.7940 - val_loss: 0.7775\n",
      "Epoch 74/150\n",
      "37/37 - 3s - 69ms/step - accuracy: 0.9438 - loss: 0.1770 - val_accuracy: 0.8018 - val_loss: 0.8230\n",
      "Epoch 75/150\n",
      "37/37 - 2s - 55ms/step - accuracy: 0.9316 - loss: 0.1989 - val_accuracy: 0.7342 - val_loss: 1.1179\n",
      "Epoch 76/150\n",
      "37/37 - 3s - 69ms/step - accuracy: 0.8468 - loss: 0.4170 - val_accuracy: 0.7575 - val_loss: 0.7964\n",
      "Epoch 77/150\n",
      "37/37 - 3s - 69ms/step - accuracy: 0.9163 - loss: 0.2398 - val_accuracy: 0.7796 - val_loss: 0.7225\n",
      "Epoch 78/150\n",
      "37/37 - 3s - 69ms/step - accuracy: 0.9075 - loss: 0.2419 - val_accuracy: 0.7885 - val_loss: 0.7851\n",
      "Epoch 79/150\n",
      "37/37 - 2s - 55ms/step - accuracy: 0.9149 - loss: 0.2311 - val_accuracy: 0.7874 - val_loss: 0.8338\n",
      "Epoch 80/150\n",
      "37/37 - 2s - 60ms/step - accuracy: 0.9332 - loss: 0.1870 - val_accuracy: 0.7796 - val_loss: 0.8217\n",
      "Epoch 81/150\n",
      "37/37 - 2s - 58ms/step - accuracy: 0.9401 - loss: 0.1673 - val_accuracy: 0.8007 - val_loss: 0.9002\n",
      "Epoch 82/150\n",
      "37/37 - 2s - 66ms/step - accuracy: 0.9460 - loss: 0.1479 - val_accuracy: 0.7752 - val_loss: 0.9024\n",
      "Epoch 83/150\n",
      "37/37 - 3s - 68ms/step - accuracy: 0.9435 - loss: 0.1578 - val_accuracy: 0.7951 - val_loss: 0.8993\n",
      "Epoch 84/150\n",
      "37/37 - 3s - 70ms/step - accuracy: 0.9460 - loss: 0.1643 - val_accuracy: 0.8062 - val_loss: 0.8108\n",
      "Epoch 85/150\n",
      "37/37 - 3s - 68ms/step - accuracy: 0.9177 - loss: 0.2273 - val_accuracy: 0.7984 - val_loss: 0.9092\n",
      "Epoch 86/150\n",
      "37/37 - 3s - 72ms/step - accuracy: 0.9249 - loss: 0.2136 - val_accuracy: 0.7708 - val_loss: 0.8330\n",
      "Epoch 87/150\n",
      "37/37 - 2s - 58ms/step - accuracy: 0.8387 - loss: 0.4445 - val_accuracy: 0.7453 - val_loss: 0.7656\n",
      "Epoch 88/150\n",
      "37/37 - 2s - 61ms/step - accuracy: 0.9172 - loss: 0.2368 - val_accuracy: 0.7951 - val_loss: 0.7111\n",
      "Epoch 89/150\n",
      "37/37 - 2s - 57ms/step - accuracy: 0.9335 - loss: 0.1832 - val_accuracy: 0.7962 - val_loss: 0.7159\n",
      "Epoch 90/150\n",
      "37/37 - 2s - 55ms/step - accuracy: 0.9518 - loss: 0.1377 - val_accuracy: 0.8007 - val_loss: 0.8120\n",
      "Epoch 91/150\n",
      "37/37 - 3s - 74ms/step - accuracy: 0.9640 - loss: 0.1031 - val_accuracy: 0.7697 - val_loss: 0.9006\n",
      "Epoch 92/150\n",
      "37/37 - 2s - 65ms/step - accuracy: 0.9504 - loss: 0.1437 - val_accuracy: 0.7697 - val_loss: 1.0133\n",
      "Epoch 93/150\n",
      "37/37 - 3s - 70ms/step - accuracy: 0.9468 - loss: 0.1471 - val_accuracy: 0.8095 - val_loss: 0.9613\n",
      "Epoch 94/150\n",
      "37/37 - 3s - 70ms/step - accuracy: 0.9571 - loss: 0.1172 - val_accuracy: 0.8162 - val_loss: 0.9648\n",
      "Epoch 95/150\n",
      "37/37 - 2s - 59ms/step - accuracy: 0.9493 - loss: 0.1415 - val_accuracy: 0.7807 - val_loss: 0.8698\n",
      "Epoch 96/150\n",
      "37/37 - 3s - 68ms/step - accuracy: 0.9263 - loss: 0.1985 - val_accuracy: 0.7929 - val_loss: 0.8447\n",
      "Epoch 97/150\n",
      "37/37 - 2s - 58ms/step - accuracy: 0.9371 - loss: 0.1747 - val_accuracy: 0.7863 - val_loss: 0.7251\n",
      "Epoch 98/150\n",
      "37/37 - 2s - 56ms/step - accuracy: 0.9399 - loss: 0.1586 - val_accuracy: 0.8151 - val_loss: 0.7243\n",
      "Epoch 99/150\n",
      "37/37 - 3s - 74ms/step - accuracy: 0.9573 - loss: 0.1194 - val_accuracy: 0.7929 - val_loss: 0.9467\n",
      "Epoch 100/150\n",
      "37/37 - 2s - 60ms/step - accuracy: 0.9521 - loss: 0.1545 - val_accuracy: 0.7940 - val_loss: 0.8171\n",
      "Epoch 101/150\n",
      "37/37 - 2s - 66ms/step - accuracy: 0.9468 - loss: 0.1458 - val_accuracy: 0.8062 - val_loss: 0.7620\n",
      "Epoch 102/150\n",
      "37/37 - 2s - 56ms/step - accuracy: 0.9673 - loss: 0.0906 - val_accuracy: 0.8018 - val_loss: 0.9114\n",
      "Epoch 103/150\n",
      "37/37 - 2s - 56ms/step - accuracy: 0.9656 - loss: 0.0973 - val_accuracy: 0.8051 - val_loss: 1.0232\n",
      "Epoch 104/150\n",
      "37/37 - 2s - 58ms/step - accuracy: 0.9695 - loss: 0.0881 - val_accuracy: 0.7907 - val_loss: 0.9490\n",
      "Epoch 105/150\n",
      "37/37 - 2s - 56ms/step - accuracy: 0.9620 - loss: 0.1171 - val_accuracy: 0.7996 - val_loss: 0.9882\n",
      "Epoch 106/150\n",
      "37/37 - 3s - 68ms/step - accuracy: 0.9562 - loss: 0.1226 - val_accuracy: 0.8029 - val_loss: 0.9323\n",
      "Epoch 107/150\n",
      "37/37 - 3s - 72ms/step - accuracy: 0.9568 - loss: 0.1178 - val_accuracy: 0.7896 - val_loss: 0.8740\n",
      "Epoch 108/150\n",
      "37/37 - 3s - 68ms/step - accuracy: 0.9307 - loss: 0.1985 - val_accuracy: 0.7807 - val_loss: 0.9212\n",
      "Epoch 109/150\n",
      "37/37 - 2s - 66ms/step - accuracy: 0.9321 - loss: 0.1858 - val_accuracy: 0.7564 - val_loss: 1.0336\n",
      "Epoch 110/150\n",
      "37/37 - 3s - 71ms/step - accuracy: 0.9476 - loss: 0.1513 - val_accuracy: 0.7863 - val_loss: 1.0458\n",
      "Epoch 111/150\n",
      "37/37 - 2s - 56ms/step - accuracy: 0.9460 - loss: 0.1743 - val_accuracy: 0.7719 - val_loss: 0.8466\n",
      "Epoch 112/150\n",
      "37/37 - 3s - 71ms/step - accuracy: 0.9205 - loss: 0.2374 - val_accuracy: 0.8051 - val_loss: 0.7270\n",
      "Epoch 113/150\n",
      "37/37 - 2s - 63ms/step - accuracy: 0.9612 - loss: 0.1088 - val_accuracy: 0.7752 - val_loss: 0.9123\n",
      "Epoch 114/150\n",
      "37/37 - 2s - 61ms/step - accuracy: 0.9687 - loss: 0.1035 - val_accuracy: 0.8051 - val_loss: 0.9485\n",
      "Epoch 115/150\n",
      "37/37 - 3s - 71ms/step - accuracy: 0.9014 - loss: 0.2971 - val_accuracy: 0.7575 - val_loss: 0.8492\n",
      "Epoch 116/150\n",
      "37/37 - 2s - 57ms/step - accuracy: 0.9371 - loss: 0.1843 - val_accuracy: 0.7818 - val_loss: 0.9137\n",
      "Epoch 117/150\n",
      "37/37 - 2s - 56ms/step - accuracy: 0.9673 - loss: 0.1036 - val_accuracy: 0.7885 - val_loss: 0.9942\n",
      "Epoch 118/150\n",
      "37/37 - 2s - 56ms/step - accuracy: 0.9382 - loss: 0.1833 - val_accuracy: 0.7962 - val_loss: 1.0384\n",
      "Epoch 119/150\n",
      "37/37 - 2s - 59ms/step - accuracy: 0.9620 - loss: 0.1067 - val_accuracy: 0.7929 - val_loss: 0.9748\n",
      "Epoch 120/150\n",
      "37/37 - 2s - 58ms/step - accuracy: 0.9806 - loss: 0.0625 - val_accuracy: 0.8184 - val_loss: 0.8539\n",
      "Epoch 121/150\n",
      "37/37 - 3s - 69ms/step - accuracy: 0.9875 - loss: 0.0452 - val_accuracy: 0.7829 - val_loss: 1.1911\n",
      "Epoch 122/150\n",
      "37/37 - 2s - 65ms/step - accuracy: 0.9740 - loss: 0.0744 - val_accuracy: 0.7885 - val_loss: 1.2032\n",
      "Epoch 123/150\n",
      "37/37 - 2s - 54ms/step - accuracy: 0.9737 - loss: 0.0737 - val_accuracy: 0.7940 - val_loss: 1.1413\n",
      "Epoch 124/150\n",
      "37/37 - 3s - 70ms/step - accuracy: 0.9604 - loss: 0.1119 - val_accuracy: 0.7896 - val_loss: 1.0156\n",
      "Epoch 125/150\n",
      "37/37 - 2s - 56ms/step - accuracy: 0.9631 - loss: 0.1082 - val_accuracy: 0.7940 - val_loss: 0.8762\n",
      "Epoch 126/150\n",
      "37/37 - 2s - 67ms/step - accuracy: 0.9706 - loss: 0.0921 - val_accuracy: 0.7841 - val_loss: 1.1701\n",
      "Epoch 127/150\n",
      "37/37 - 3s - 72ms/step - accuracy: 0.9595 - loss: 0.1241 - val_accuracy: 0.7962 - val_loss: 1.0905\n",
      "Epoch 128/150\n",
      "37/37 - 2s - 56ms/step - accuracy: 0.9393 - loss: 0.1758 - val_accuracy: 0.7785 - val_loss: 0.8542\n",
      "Epoch 129/150\n",
      "37/37 - 2s - 56ms/step - accuracy: 0.9615 - loss: 0.1155 - val_accuracy: 0.7708 - val_loss: 1.2688\n",
      "Epoch 130/150\n",
      "37/37 - 2s - 67ms/step - accuracy: 0.9728 - loss: 0.0799 - val_accuracy: 0.8173 - val_loss: 1.0332\n",
      "Epoch 131/150\n",
      "37/37 - 2s - 55ms/step - accuracy: 0.9839 - loss: 0.0538 - val_accuracy: 0.7984 - val_loss: 1.1289\n",
      "Epoch 132/150\n",
      "37/37 - 3s - 70ms/step - accuracy: 0.9906 - loss: 0.0554 - val_accuracy: 0.7829 - val_loss: 1.2393\n",
      "Epoch 133/150\n",
      "37/37 - 2s - 66ms/step - accuracy: 0.7792 - loss: 0.7260 - val_accuracy: 0.7309 - val_loss: 0.8724\n",
      "Epoch 134/150\n",
      "37/37 - 3s - 69ms/step - accuracy: 0.9002 - loss: 0.2882 - val_accuracy: 0.7962 - val_loss: 0.8444\n",
      "Epoch 135/150\n",
      "37/37 - 3s - 69ms/step - accuracy: 0.9482 - loss: 0.1415 - val_accuracy: 0.7929 - val_loss: 0.8744\n",
      "Epoch 136/150\n",
      "37/37 - 3s - 73ms/step - accuracy: 0.9748 - loss: 0.0799 - val_accuracy: 0.7896 - val_loss: 1.0605\n",
      "Epoch 137/150\n",
      "37/37 - 2s - 67ms/step - accuracy: 0.9828 - loss: 0.0507 - val_accuracy: 0.8140 - val_loss: 1.0034\n",
      "Epoch 138/150\n",
      "37/37 - 2s - 58ms/step - accuracy: 0.9837 - loss: 0.0571 - val_accuracy: 0.7962 - val_loss: 1.1754\n",
      "Epoch 139/150\n",
      "37/37 - 3s - 71ms/step - accuracy: 0.9892 - loss: 0.0416 - val_accuracy: 0.7962 - val_loss: 1.1173\n",
      "Epoch 140/150\n",
      "37/37 - 2s - 63ms/step - accuracy: 0.9942 - loss: 0.0254 - val_accuracy: 0.8062 - val_loss: 1.2881\n",
      "Epoch 141/150\n",
      "37/37 - 3s - 71ms/step - accuracy: 0.9972 - loss: 0.0168 - val_accuracy: 0.8018 - val_loss: 1.2207\n",
      "Epoch 142/150\n",
      "37/37 - 2s - 64ms/step - accuracy: 0.9958 - loss: 0.0180 - val_accuracy: 0.8106 - val_loss: 1.1417\n",
      "Epoch 143/150\n",
      "37/37 - 3s - 71ms/step - accuracy: 0.9845 - loss: 0.0486 - val_accuracy: 0.7962 - val_loss: 1.2373\n",
      "Epoch 144/150\n",
      "37/37 - 2s - 66ms/step - accuracy: 0.9676 - loss: 0.0967 - val_accuracy: 0.7863 - val_loss: 1.1673\n",
      "Epoch 145/150\n",
      "37/37 - 3s - 74ms/step - accuracy: 0.9623 - loss: 0.1101 - val_accuracy: 0.7641 - val_loss: 1.2138\n",
      "Epoch 146/150\n",
      "37/37 - 2s - 66ms/step - accuracy: 0.9631 - loss: 0.1067 - val_accuracy: 0.7863 - val_loss: 1.1574\n",
      "Epoch 147/150\n",
      "37/37 - 3s - 70ms/step - accuracy: 0.9745 - loss: 0.0752 - val_accuracy: 0.8007 - val_loss: 1.0324\n",
      "Epoch 148/150\n",
      "37/37 - 3s - 69ms/step - accuracy: 0.9762 - loss: 0.0743 - val_accuracy: 0.7951 - val_loss: 0.9659\n",
      "Epoch 149/150\n",
      "37/37 - 3s - 68ms/step - accuracy: 0.9626 - loss: 0.1097 - val_accuracy: 0.7785 - val_loss: 1.1650\n",
      "Epoch 150/150\n",
      "37/37 - 2s - 67ms/step - accuracy: 0.9651 - loss: 0.1117 - val_accuracy: 0.7741 - val_loss: 1.0296\n"
     ]
    }
   ],
   "source": [
    "train_history = model.fit(X_train, y_train, validation_split=0.2, batch_size = 100, epochs = 150, verbose=2)"
   ]
  },
  {
   "cell_type": "markdown",
   "id": "9d9374fd",
   "metadata": {
    "papermill": {
     "duration": 0.022775,
     "end_time": "2024-03-02T11:08:42.223808",
     "exception": false,
     "start_time": "2024-03-02T11:08:42.201033",
     "status": "completed"
    },
    "tags": []
   },
   "source": [
    "# 評估訓練結果"
   ]
  },
  {
   "cell_type": "code",
   "execution_count": 9,
   "id": "92f476b3",
   "metadata": {
    "execution": {
     "iopub.execute_input": "2024-03-02T11:08:42.271214Z",
     "iopub.status.busy": "2024-03-02T11:08:42.270787Z",
     "iopub.status.idle": "2024-03-02T11:08:42.753707Z",
     "shell.execute_reply": "2024-03-02T11:08:42.752799Z"
    },
    "papermill": {
     "duration": 0.50915,
     "end_time": "2024-03-02T11:08:42.755550",
     "exception": false,
     "start_time": "2024-03-02T11:08:42.246400",
     "status": "completed"
    },
    "tags": []
   },
   "outputs": [
    {
     "data": {
      "image/png": "[encoded data removed]",
      "text/plain": [
       "<Figure size 640x480 with 1 Axes>"
      ]
     },
     "metadata": {},
     "output_type": "display_data"
    },
    {
     "data": {
      "image/png": "[encoded data removed]",
      "text/plain": [
       "<Figure size 640x480 with 1 Axes>"
      ]
     },
     "metadata": {},
     "output_type": "display_data"
    }
   ],
   "source": [
    "def show_train_history(train_history, train, validation):\n",
    "\n",
    "    plt.plot(train_history.history[train])\n",
    "\n",
    "    plt.plot(train_history.history[validation])\n",
    "\n",
    "    plt.title('Train History')\n",
    "\n",
    "    plt.ylabel('train')\n",
    "\n",
    "    plt.xlabel('Epoch')\n",
    "\n",
    "    plt.legend(['train', 'validation'], loc='upper left')\n",
    "\n",
    "    plt.show()\n",
    "    \n",
    "\n",
    "show_train_history(train_history, 'accuracy', 'val_accuracy')\n",
    "show_train_history(train_history, 'loss', 'val_loss')"
   ]
  },
  {
   "cell_type": "markdown",
   "id": "6fddd47d",
   "metadata": {
    "papermill": {
     "duration": 0.02234,
     "end_time": "2024-03-02T11:08:42.800755",
     "exception": false,
     "start_time": "2024-03-02T11:08:42.778415",
     "status": "completed"
    },
    "tags": []
   },
   "source": [
    "# 使用未參與訓練的測試資料測試，模型準確率"
   ]
  },
  {
   "cell_type": "code",
   "execution_count": 10,
   "id": "30208309",
   "metadata": {
    "execution": {
     "iopub.execute_input": "2024-03-02T11:08:42.848781Z",
     "iopub.status.busy": "2024-03-02T11:08:42.848024Z",
     "iopub.status.idle": "2024-03-02T11:08:43.257589Z",
     "shell.execute_reply": "2024-03-02T11:08:43.256640Z"
    },
    "papermill": {
     "duration": 0.435935,
     "end_time": "2024-03-02T11:08:43.259304",
     "exception": false,
     "start_time": "2024-03-02T11:08:42.823369",
     "status": "completed"
    },
    "tags": []
   },
   "outputs": [
    {
     "name": "stdout",
     "output_type": "stream",
     "text": [
      "Accuracy =  0.8031914830207825\n"
     ]
    }
   ],
   "source": [
    "scores = model.evaluate(X_test,y_test,verbose=0)\n",
    "\n",
    "print('Accuracy = ', scores[1])"
   ]
  },
  {
   "cell_type": "markdown",
   "id": "90aaecfa",
   "metadata": {
    "papermill": {
     "duration": 0.022318,
     "end_time": "2024-03-02T11:08:43.304240",
     "exception": false,
     "start_time": "2024-03-02T11:08:43.281922",
     "status": "completed"
    },
    "tags": []
   },
   "source": [
    "# 評估訓練結果"
   ]
  },
  {
   "cell_type": "code",
   "execution_count": 11,
   "id": "1df13dc6",
   "metadata": {
    "execution": {
     "iopub.execute_input": "2024-03-02T11:08:43.351863Z",
     "iopub.status.busy": "2024-03-02T11:08:43.351520Z",
     "iopub.status.idle": "2024-03-02T11:08:44.951837Z",
     "shell.execute_reply": "2024-03-02T11:08:44.949862Z"
    },
    "papermill": {
     "duration": 1.627671,
     "end_time": "2024-03-02T11:08:44.954849",
     "exception": false,
     "start_time": "2024-03-02T11:08:43.327178",
     "status": "completed"
    },
    "tags": []
   },
   "outputs": [
    {
     "name": "stdout",
     "output_type": "stream",
     "text": [
      "\u001b[1m36/36\u001b[0m \u001b[32m━━━━━━━━━━━━━━━━━━━━\u001b[0m\u001b[37m\u001b[0m \u001b[1m1s\u001b[0m 16ms/step\n"
     ]
    },
    {
     "data": {
      "image/png": "[encoded data removed]",
      "text/plain": [
       "<Figure size 1000x700 with 2 Axes>"
      ]
     },
     "metadata": {},
     "output_type": "display_data"
    }
   ],
   "source": [
    "y_pred = np.argmax(model.predict(X_test), axis=-1)\n",
    "y_true = np.argmax(y_test, axis=-1)\n",
    "confusion_matrix = confusion_matrix(y_true, y_pred)\n",
    "\n",
    "plt.figure(figsize=(10,7))\n",
    "sns.heatmap(confusion_matrix, annot=True, fmt='d')\n",
    "plt.xlabel('Predicted')\n",
    "plt.ylabel('Truth')\n",
    "plt.show()"
   ]
  }
 ],
 "metadata": {
  "kaggle": {
   "accelerator": "none",
   "dataSources": [
    {
     "datasetId": 4275198,
     "sourceId": 7518995,
     "sourceType": "datasetVersion"
    }
   ],
   "dockerImageVersionId": 30664,
   "isGpuEnabled": false,
   "isInternetEnabled": false,
   "language": "python",
   "sourceType": "notebook"
  },
  "kernelspec": {
   "display_name": "Python 3",
   "language": "python",
   "name": "python3"
  },
  "language_info": {
   "codemirror_mode": {
    "name": "ipython",
    "version": 3
   },
   "file_extension": ".py",
   "mimetype": "text/x-python",
   "name": "python",
   "nbconvert_exporter": "python",
   "pygments_lexer": "ipython3",
   "version": "3.10.13"
  },
  "papermill": {
   "default_parameters": {},
   "duration": 507.218006,
   "end_time": "2024-03-02T11:08:47.694661",
   "environment_variables": {},
   "exception": null,
   "input_path": "__notebook__.ipynb",
   "output_path": "__notebook__.ipynb",
   "parameters": {},
   "start_time": "2024-03-02T11:00:20.476655",
   "version": "2.5.0"
  }
 },
 "nbformat": 4,
 "nbformat_minor": 5
}
